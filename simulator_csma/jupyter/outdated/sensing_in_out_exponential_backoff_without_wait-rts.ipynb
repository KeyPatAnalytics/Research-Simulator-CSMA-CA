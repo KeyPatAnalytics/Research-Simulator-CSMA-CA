{
 "cells": [
  {
   "cell_type": "code",
   "execution_count": 1,
   "metadata": {},
   "outputs": [],
   "source": [
    "import csv\n",
    "import matplotlib.pyplot as plt\n",
    "from matplotlib import animation\n",
    "import numpy as np\n",
    "from scipy.optimize import root, fsolve\n",
    "from scipy.special import binom\n",
    "import pandas as pd"
   ]
  },
  {
   "cell_type": "code",
   "execution_count": 30,
   "metadata": {},
   "outputs": [],
   "source": [
    "# Initial data\n",
    "T_idle = 3\n",
    "T_rts = 3\n",
    "T_cts = 3\n",
    "T_ack = 3\n",
    "T_bo = 3\n",
    "T_data = 3\n",
    "T_wait = 3\n",
    "T_out = 3\n",
    "\n",
    "T_max = 12\n",
    "Nr = 3\n",
    "p_a = 1\n",
    "nodes = 20"
   ]
  },
  {
   "cell_type": "markdown",
   "metadata": {},
   "source": [
    "### Formulas for exponential backoff"
   ]
  },
  {
   "cell_type": "code",
   "execution_count": 31,
   "metadata": {},
   "outputs": [],
   "source": [
    "def Etc(p, p_f):\n",
    "    if p_f == 1.:\n",
    "        p_f = 0.9999999\n",
    "    elif p_f == 0.:\n",
    "        p_f = 0.0000001\n",
    "    total_sum = 0\n",
    "    for i in range(1, Nr + 1 + 1):\n",
    "        first_addition = T_wait + T_bo / (1 - p_f)\n",
    "        numerator = p_f ** (2**i * T_max + 1) - 2**i * T_max * p_f - p_f + 2**i * T_max\n",
    "        denominator = p_f * (1 - p_f ** (2**i * T_max))\n",
    "        second_addition = (1 - p) * (T_cts + T_data + T_ack)\n",
    "        huge_sum = T_rts + p * T_out / p_f + first_addition * numerator / denominator + second_addition\n",
    "        total_sum += p ** (i - 1) * huge_sum\n",
    "    return T_idle + p_a * total_sum"
   ]
  },
  {
   "cell_type": "code",
   "execution_count": 32,
   "metadata": {},
   "outputs": [
    {
     "data": {
      "text/plain": [
       "0.01575801677131626"
      ]
     },
     "execution_count": 32,
     "metadata": {},
     "output_type": "execute_result"
    }
   ],
   "source": [
    "pi_rts(0.4, 0.8)"
   ]
  },
  {
   "cell_type": "code",
   "execution_count": 33,
   "metadata": {},
   "outputs": [
    {
     "data": {
      "text/plain": [
       "0.01575801677131626"
      ]
     },
     "execution_count": 33,
     "metadata": {},
     "output_type": "execute_result"
    }
   ],
   "source": [
    "pi_rts(0.4, 0.8)"
   ]
  },
  {
   "cell_type": "code",
   "execution_count": 34,
   "metadata": {},
   "outputs": [],
   "source": [
    "def pi_idle(p, p_f):\n",
    "    return T_idle / Etc(p, p_f)\n",
    "\n",
    "def pi_rts(p, p_f):\n",
    "    total_sum = 0\n",
    "    for i in range(1, Nr + 1 + 1): \n",
    "        numerator = p ** (i - 1) * p_a * T_rts\n",
    "        denominator = Etc(p, p_f)\n",
    "        total_sum += numerator / denominator\n",
    "    return total_sum\n",
    "\n",
    "def pi_out(p, p_f):\n",
    "    total_sum = 0\n",
    "    for i in range(1, Nr + 1 + 1): \n",
    "        numerator = p ** (i - 1) * p_a * p * T_out / p_f\n",
    "        denominator = Etc(p, p_f)\n",
    "        total_sum += numerator / denominator\n",
    "    return total_sum\n",
    "\n",
    "def pi_cts(p, p_f):\n",
    "    total_sum = 0\n",
    "    for i in range(1, Nr + 1 + 1): \n",
    "        numerator = (1 - p) * p ** (i - 1) * p_a * T_cts\n",
    "        denominator = Etc(p, p_f)\n",
    "        total_sum += numerator / denominator\n",
    "    return total_sum\n",
    "\n",
    "def pi_bo(p, p_f):\n",
    "    if p_f == 1.:\n",
    "        p_f = 0.9999999\n",
    "    total_sum = 0\n",
    "    for i in range(1, Nr + 1 + 1): \n",
    "        numerator = p ** (i - 1) * p_a * T_bo * (p_f ** (2**i * T_max + 1) - 2**i * T_max * p_f - p_f + 2**i * T_max)\n",
    "        denominator = Etc(p, p_f) * (1 - p_f) * p_f * (1 - p_f ** (2**i * T_max))\n",
    "        total_sum += numerator / denominator\n",
    "    return total_sum\n",
    "\n",
    "def pi_wait(p, p_f):\n",
    "    if p_f == 1.:\n",
    "        p_f = 0.9999999\n",
    "    total_sum = 0\n",
    "    for i in range(1, Nr + 1 + 1): \n",
    "        numerator = p ** (i - 1) * p_a * T_wait * (p_f ** (2**i * T_max + 1) - 2**i * T_max * p_f - p_f + 2**i * T_max)\n",
    "        denominator = Etc(p, p_f) * p_f * (1 - p_f ** (2**i * T_max))\n",
    "        total_sum += numerator / denominator\n",
    "    return total_sum\n",
    "\n",
    "def pi_data(p, p_f):\n",
    "    total_sum = 0\n",
    "    for i in range(1, Nr + 1 + 1): \n",
    "        numerator = (1 - p) * p ** (i - 1) * p_a * T_data\n",
    "        denominator = Etc(p, p_f)\n",
    "        total_sum += numerator / denominator\n",
    "    return total_sum\n",
    "\n",
    "def pi_ack(p, p_f):\n",
    "    total_sum = 0\n",
    "    for i in range(1, Nr + 1 + 1): \n",
    "        numerator = (1 - p) * p ** (i - 1) * p_a * T_ack\n",
    "        denominator = Etc(p, p_f)\n",
    "        total_sum += numerator / denominator\n",
    "    return total_sum"
   ]
  },
  {
   "cell_type": "code",
   "execution_count": 35,
   "metadata": {},
   "outputs": [],
   "source": [
    "def p_success(p):\n",
    "    total_sum = 0\n",
    "    for i in range(1, Nr + 1 + 1):\n",
    "        total_sum += (1 - p) * p ** (i - 1) * p_a\n",
    "    return total_sum\n",
    "\n",
    "# alternative formula\n",
    "def p_success(p):\n",
    "    return 1 - p ** (Nr + 1)\n",
    "\n",
    "def p_failure(p):\n",
    "    return p ** (Nr + 1)"
   ]
  },
  {
   "cell_type": "code",
   "execution_count": 36,
   "metadata": {},
   "outputs": [],
   "source": [
    "def transcendental_equation_p_collision(p, p_f, n):\n",
    "    p_rts = pi_rts(p, p_f)\n",
    "    p_cts = pi_cts(p, p_f)\n",
    "    p_data = pi_data(p, p_f)\n",
    "    p_ack = pi_ack(p, p_f)\n",
    "    # We solve transcendental equation f(x) = g(x) by turning it into f(x) - g(x) = 0\n",
    "#     return p - (1 - (1 - p_rts) ** (n) - n * p_rts * (1 - p_rts) ** (n-1))\n",
    "#     return p - (1 - (1 - p_rts) ** (2*(n-1))) - (1 - (1 - p_cts) ** (2*(n-1)))\n",
    "    return p - (1 - (1 - p_rts) ** ((n-1))) - (1 - (1 - p_cts) ** ((n-1)))\n",
    "\n",
    "def transcendental_equation_p_free(p, p_f, n):\n",
    "    p_rts = pi_rts(p, p_f)\n",
    "    p_cts = pi_cts(p, p_f)\n",
    "    p_data = pi_data(p, p_f)\n",
    "    p_ack = pi_ack(p, p_f)\n",
    "    return p_f - (1 - p_cts) ** (n-1)\n",
    "\n",
    "def system_of_equations(p_pf, node):\n",
    "    p, pf = p_pf\n",
    "    return (transcendental_equation_p_collision(p, pf, node), transcendental_equation_p_free(p, pf, node))\n",
    "\n",
    "def calculate_p_pf_from_system():\n",
    "    p_array = []\n",
    "    pf_array = []\n",
    "    for node in range(1, nodes+1):\n",
    "        p, pf = fsolve(system_of_equations, (0.01, 0.01), args=(node))\n",
    "        p_array.append(p)\n",
    "        pf_array.append(pf)\n",
    "    return p_array, pf_array"
   ]
  },
  {
   "cell_type": "code",
   "execution_count": 37,
   "metadata": {},
   "outputs": [],
   "source": [
    "p_array, p_f_array = calculate_p_pf_from_system()"
   ]
  },
  {
   "cell_type": "code",
   "execution_count": 38,
   "metadata": {},
   "outputs": [
    {
     "data": {
      "text/plain": [
       "[1.8086627663754192e-27,\n",
       " 0.08529327098433073,\n",
       " 0.13767085223213002,\n",
       " 0.17633124590459104,\n",
       " 0.2074630534888145,\n",
       " 0.2337707762791545,\n",
       " 0.2566901124591728,\n",
       " 0.2770822024033302,\n",
       " 0.29550795106873645,\n",
       " 0.31235497654279315,\n",
       " 0.3279033380583719,\n",
       " 0.342362529527237,\n",
       " 0.35589368543594385,\n",
       " 0.36862361000159477,\n",
       " 0.3806540172380889,\n",
       " 0.39206783067700757,\n",
       " 0.4029336053953271,\n",
       " 0.4133087103281595,\n",
       " 0.42324166833504717,\n",
       " 0.4327739096729536]"
      ]
     },
     "execution_count": 38,
     "metadata": {},
     "output_type": "execute_result"
    }
   ],
   "source": [
    "p_array"
   ]
  },
  {
   "cell_type": "code",
   "execution_count": 39,
   "metadata": {},
   "outputs": [
    {
     "data": {
      "text/plain": [
       "[1.0,\n",
       " 0.9592531181267471,\n",
       " 0.9361629239627239,\n",
       " 0.9201005510630557,\n",
       " 0.907791616952396,\n",
       " 0.8978376140253885,\n",
       " 0.8895085152051194,\n",
       " 0.8823726239977049,\n",
       " 0.8761523035325373,\n",
       " 0.870657912005629,\n",
       " 0.8657539051611225,\n",
       " 0.8613399134477483,\n",
       " 0.8573394698028102,\n",
       " 0.8536929395359573,\n",
       " 0.8503528958391291,\n",
       " 0.8472809877707084,\n",
       " 0.8444457557883412,\n",
       " 0.8418210693682319,\n",
       " 0.839384984958541,\n",
       " 0.8371188951308496]"
      ]
     },
     "execution_count": 39,
     "metadata": {},
     "output_type": "execute_result"
    }
   ],
   "source": [
    "p_f_array"
   ]
  },
  {
   "cell_type": "code",
   "execution_count": 40,
   "metadata": {},
   "outputs": [
    {
     "data": {
      "text/plain": [
       "0.022208778449657764"
      ]
     },
     "execution_count": 40,
     "metadata": {},
     "output_type": "execute_result"
    }
   ],
   "source": [
    "prt = pi_rts(p_array[9], p_f_array[9])\n",
    "prt"
   ]
  },
  {
   "cell_type": "code",
   "execution_count": 54,
   "metadata": {},
   "outputs": [
    {
     "data": {
      "text/plain": [
       "0.022323427120735456"
      ]
     },
     "execution_count": 54,
     "metadata": {},
     "output_type": "execute_result"
    }
   ],
   "source": [
    "1 - (1 - prt) ** (10) - 10 * prt * (1 - prt) ** (9)"
   ]
  },
  {
   "cell_type": "code",
   "execution_count": 55,
   "metadata": {},
   "outputs": [
    {
     "data": {
      "text/plain": [
       "0.786510355786292"
      ]
     },
     "execution_count": 55,
     "metadata": {},
     "output_type": "execute_result"
    }
   ],
   "source": [
    "(1 - prt) ** (10)"
   ]
  },
  {
   "cell_type": "code",
   "execution_count": 56,
   "metadata": {},
   "outputs": [
    {
     "data": {
      "text/plain": [
       "0.19116621709297252"
      ]
     },
     "execution_count": 56,
     "metadata": {},
     "output_type": "execute_result"
    }
   ],
   "source": [
    "10 * prt * (1 - prt) ** (9)"
   ]
  },
  {
   "cell_type": "code",
   "execution_count": null,
   "metadata": {},
   "outputs": [],
   "source": []
  },
  {
   "cell_type": "code",
   "execution_count": 41,
   "metadata": {},
   "outputs": [],
   "source": [
    "analytics_headers = [\n",
    "    'nodes',\n",
    "    'p_collision',\n",
    "    'p_success',\n",
    "    'p_failure',\n",
    "    'p_free',\n",
    "    'cycle_time',\n",
    "    'p_bo',\n",
    "    'p_wait',\n",
    "    'p_rts',\n",
    "    'p_out',\n",
    "    'p_cts',\n",
    "    'p_data',\n",
    "    'p_ack',\n",
    "    'bo_time',\n",
    "    'wait_time',\n",
    "    'rts_time',\n",
    "    'out_time',\n",
    "    'cts_time',\n",
    "    'data_time',\n",
    "    'ack_time',\n",
    "]"
   ]
  },
  {
   "cell_type": "code",
   "execution_count": 42,
   "metadata": {},
   "outputs": [],
   "source": [
    "data = [analytics_headers]\n",
    "for i in range(nodes):\n",
    "    data.append([\n",
    "        i + 1,\n",
    "        p_array[i],\n",
    "        p_success(p_array[i]),\n",
    "        p_failure(p_array[i]),\n",
    "        p_f_array[i],\n",
    "        Etc(p_array[i], p_f_array[i]),\n",
    "        pi_bo(p_array[i], p_f_array[i]),\n",
    "        pi_wait(p_array[i], p_f_array[i]),\n",
    "        pi_rts(p_array[i], p_f_array[i]),\n",
    "        pi_out(p_array[i], p_f_array[i]),\n",
    "        pi_cts(p_array[i], p_f_array[i]),\n",
    "        pi_data(p_array[i], p_f_array[i]),\n",
    "        pi_ack(p_array[i], p_f_array[i]),\n",
    "        pi_bo(p_array[i], p_f_array[i]) * Etc(p_array[i], p_f_array[i]),\n",
    "        pi_wait(p_array[i], p_f_array[i]) * Etc(p_array[i], p_f_array[i]),\n",
    "        pi_rts(p_array[i], p_f_array[i]) * Etc(p_array[i], p_f_array[i]),\n",
    "        pi_out(p_array[i], p_f_array[i]) * Etc(p_array[i], p_f_array[i]),\n",
    "        pi_cts(p_array[i], p_f_array[i]) * Etc(p_array[i], p_f_array[i]),\n",
    "        pi_data(p_array[i], p_f_array[i]) * Etc(p_array[i], p_f_array[i]),\n",
    "        pi_ack(p_array[i], p_f_array[i]) * Etc(p_array[i], p_f_array[i]),\n",
    "    ])"
   ]
  },
  {
   "cell_type": "code",
   "execution_count": 43,
   "metadata": {},
   "outputs": [
    {
     "data": {
      "text/html": [
       "<div>\n",
       "<style scoped>\n",
       "    .dataframe tbody tr th:only-of-type {\n",
       "        vertical-align: middle;\n",
       "    }\n",
       "\n",
       "    .dataframe tbody tr th {\n",
       "        vertical-align: top;\n",
       "    }\n",
       "\n",
       "    .dataframe thead th {\n",
       "        text-align: right;\n",
       "    }\n",
       "</style>\n",
       "<table border=\"1\" class=\"dataframe\">\n",
       "  <thead>\n",
       "    <tr style=\"text-align: right;\">\n",
       "      <th></th>\n",
       "      <th>p_collision</th>\n",
       "      <th>p_success</th>\n",
       "      <th>p_failure</th>\n",
       "      <th>p_free</th>\n",
       "      <th>cycle_time</th>\n",
       "      <th>p_bo</th>\n",
       "      <th>p_wait</th>\n",
       "      <th>p_rts</th>\n",
       "      <th>p_out</th>\n",
       "      <th>p_cts</th>\n",
       "      <th>p_data</th>\n",
       "      <th>p_ack</th>\n",
       "      <th>bo_time</th>\n",
       "      <th>wait_time</th>\n",
       "      <th>rts_time</th>\n",
       "      <th>out_time</th>\n",
       "      <th>cts_time</th>\n",
       "      <th>data_time</th>\n",
       "      <th>ack_time</th>\n",
       "    </tr>\n",
       "  </thead>\n",
       "  <tbody>\n",
       "    <tr>\n",
       "      <th>1</th>\n",
       "      <td>1.808663e-27</td>\n",
       "      <td>1.000000</td>\n",
       "      <td>1.070115e-107</td>\n",
       "      <td>1.000000</td>\n",
       "      <td>52.525589</td>\n",
       "      <td>0.714425</td>\n",
       "      <td>7.144248e-08</td>\n",
       "      <td>0.057115</td>\n",
       "      <td>1.033018e-28</td>\n",
       "      <td>0.057115</td>\n",
       "      <td>0.057115</td>\n",
       "      <td>0.057115</td>\n",
       "      <td>37.525585</td>\n",
       "      <td>0.000004</td>\n",
       "      <td>3.000000</td>\n",
       "      <td>5.425988e-27</td>\n",
       "      <td>3.000000</td>\n",
       "      <td>3.000000</td>\n",
       "      <td>3.000000</td>\n",
       "    </tr>\n",
       "    <tr>\n",
       "      <th>2</th>\n",
       "      <td>8.529327e-02</td>\n",
       "      <td>0.999947</td>\n",
       "      <td>5.292478e-05</td>\n",
       "      <td>0.959253</td>\n",
       "      <td>73.621369</td>\n",
       "      <td>0.757632</td>\n",
       "      <td>3.087114e-02</td>\n",
       "      <td>0.044546</td>\n",
       "      <td>3.960902e-03</td>\n",
       "      <td>0.040747</td>\n",
       "      <td>0.040747</td>\n",
       "      <td>0.040747</td>\n",
       "      <td>55.777897</td>\n",
       "      <td>2.272775</td>\n",
       "      <td>3.279566</td>\n",
       "      <td>2.916070e-01</td>\n",
       "      <td>2.999841</td>\n",
       "      <td>2.999841</td>\n",
       "      <td>2.999841</td>\n",
       "    </tr>\n",
       "    <tr>\n",
       "      <th>3</th>\n",
       "      <td>1.376709e-01</td>\n",
       "      <td>0.999641</td>\n",
       "      <td>3.592262e-04</td>\n",
       "      <td>0.936163</td>\n",
       "      <td>92.431317</td>\n",
       "      <td>0.777423</td>\n",
       "      <td>4.962839e-02</td>\n",
       "      <td>0.037625</td>\n",
       "      <td>5.533037e-03</td>\n",
       "      <td>0.032445</td>\n",
       "      <td>0.032445</td>\n",
       "      <td>0.032445</td>\n",
       "      <td>71.858206</td>\n",
       "      <td>4.587218</td>\n",
       "      <td>3.477700</td>\n",
       "      <td>5.114259e-01</td>\n",
       "      <td>2.998922</td>\n",
       "      <td>2.998922</td>\n",
       "      <td>2.998922</td>\n",
       "    </tr>\n",
       "    <tr>\n",
       "      <th>4</th>\n",
       "      <td>1.763312e-01</td>\n",
       "      <td>0.999033</td>\n",
       "      <td>9.667565e-04</td>\n",
       "      <td>0.920101</td>\n",
       "      <td>109.480127</td>\n",
       "      <td>0.787911</td>\n",
       "      <td>6.295366e-02</td>\n",
       "      <td>0.033236</td>\n",
       "      <td>6.369529e-03</td>\n",
       "      <td>0.027376</td>\n",
       "      <td>0.027376</td>\n",
       "      <td>0.027376</td>\n",
       "      <td>86.260597</td>\n",
       "      <td>6.892174</td>\n",
       "      <td>3.638720</td>\n",
       "      <td>6.973368e-01</td>\n",
       "      <td>2.997100</td>\n",
       "      <td>2.997100</td>\n",
       "      <td>2.997100</td>\n",
       "    </tr>\n",
       "    <tr>\n",
       "      <th>5</th>\n",
       "      <td>2.074631e-01</td>\n",
       "      <td>0.998147</td>\n",
       "      <td>1.852521e-03</td>\n",
       "      <td>0.907792</td>\n",
       "      <td>125.316749</td>\n",
       "      <td>0.794112</td>\n",
       "      <td>7.322375e-02</td>\n",
       "      <td>0.030150</td>\n",
       "      <td>6.890360e-03</td>\n",
       "      <td>0.023895</td>\n",
       "      <td>0.023895</td>\n",
       "      <td>0.023895</td>\n",
       "      <td>99.515483</td>\n",
       "      <td>9.176162</td>\n",
       "      <td>3.778300</td>\n",
       "      <td>8.634775e-01</td>\n",
       "      <td>2.994442</td>\n",
       "      <td>2.994442</td>\n",
       "      <td>2.994442</td>\n",
       "    </tr>\n",
       "    <tr>\n",
       "      <th>6</th>\n",
       "      <td>2.337708e-01</td>\n",
       "      <td>0.997014</td>\n",
       "      <td>2.986489e-03</td>\n",
       "      <td>0.897838</td>\n",
       "      <td>140.275596</td>\n",
       "      <td>0.798042</td>\n",
       "      <td>8.152990e-02</td>\n",
       "      <td>0.027828</td>\n",
       "      <td>7.245592e-03</td>\n",
       "      <td>0.021323</td>\n",
       "      <td>0.021323</td>\n",
       "      <td>0.021323</td>\n",
       "      <td>111.945854</td>\n",
       "      <td>11.436656</td>\n",
       "      <td>3.903585</td>\n",
       "      <td>1.016380e+00</td>\n",
       "      <td>2.991041</td>\n",
       "      <td>2.991041</td>\n",
       "      <td>2.991041</td>\n",
       "    </tr>\n",
       "    <tr>\n",
       "      <th>7</th>\n",
       "      <td>2.566901e-01</td>\n",
       "      <td>0.995659</td>\n",
       "      <td>4.341468e-03</td>\n",
       "      <td>0.889509</td>\n",
       "      <td>154.563811</td>\n",
       "      <td>0.800649</td>\n",
       "      <td>8.846486e-02</td>\n",
       "      <td>0.025999</td>\n",
       "      <td>7.502620e-03</td>\n",
       "      <td>0.019325</td>\n",
       "      <td>0.019325</td>\n",
       "      <td>0.019325</td>\n",
       "      <td>123.751306</td>\n",
       "      <td>13.673466</td>\n",
       "      <td>4.018480</td>\n",
       "      <td>1.159634e+00</td>\n",
       "      <td>2.986976</td>\n",
       "      <td>2.986976</td>\n",
       "      <td>2.986976</td>\n",
       "    </tr>\n",
       "    <tr>\n",
       "      <th>8</th>\n",
       "      <td>2.770822e-01</td>\n",
       "      <td>0.994106</td>\n",
       "      <td>5.894331e-03</td>\n",
       "      <td>0.882373</td>\n",
       "      <td>168.317398</td>\n",
       "      <td>0.802428</td>\n",
       "      <td>9.438747e-02</td>\n",
       "      <td>0.024510</td>\n",
       "      <td>7.696486e-03</td>\n",
       "      <td>0.017718</td>\n",
       "      <td>0.017718</td>\n",
       "      <td>0.017718</td>\n",
       "      <td>135.062552</td>\n",
       "      <td>15.887054</td>\n",
       "      <td>4.125389</td>\n",
       "      <td>1.295453e+00</td>\n",
       "      <td>2.982317</td>\n",
       "      <td>2.982317</td>\n",
       "      <td>2.982317</td>\n",
       "    </tr>\n",
       "    <tr>\n",
       "      <th>9</th>\n",
       "      <td>2.955080e-01</td>\n",
       "      <td>0.992374</td>\n",
       "      <td>7.625647e-03</td>\n",
       "      <td>0.876152</td>\n",
       "      <td>181.630491</td>\n",
       "      <td>0.803664</td>\n",
       "      <td>9.953192e-02</td>\n",
       "      <td>0.023267</td>\n",
       "      <td>7.847322e-03</td>\n",
       "      <td>0.016391</td>\n",
       "      <td>0.016391</td>\n",
       "      <td>0.016391</td>\n",
       "      <td>145.969863</td>\n",
       "      <td>18.078031</td>\n",
       "      <td>4.225914</td>\n",
       "      <td>1.425313e+00</td>\n",
       "      <td>2.977123</td>\n",
       "      <td>2.977123</td>\n",
       "      <td>2.977123</td>\n",
       "    </tr>\n",
       "    <tr>\n",
       "      <th>10</th>\n",
       "      <td>3.123550e-01</td>\n",
       "      <td>0.990481</td>\n",
       "      <td>9.519052e-03</td>\n",
       "      <td>0.870658</td>\n",
       "      <td>194.571132</td>\n",
       "      <td>0.804530</td>\n",
       "      <td>1.040596e-01</td>\n",
       "      <td>0.022209</td>\n",
       "      <td>7.967564e-03</td>\n",
       "      <td>0.015272</td>\n",
       "      <td>0.015272</td>\n",
       "      <td>0.015272</td>\n",
       "      <td>156.538360</td>\n",
       "      <td>20.246998</td>\n",
       "      <td>4.321187</td>\n",
       "      <td>1.550258e+00</td>\n",
       "      <td>2.971443</td>\n",
       "      <td>2.971443</td>\n",
       "      <td>2.971443</td>\n",
       "    </tr>\n",
       "    <tr>\n",
       "      <th>11</th>\n",
       "      <td>3.279033e-01</td>\n",
       "      <td>0.988439</td>\n",
       "      <td>1.156068e-02</td>\n",
       "      <td>0.865754</td>\n",
       "      <td>207.190255</td>\n",
       "      <td>0.805138</td>\n",
       "      <td>1.080866e-01</td>\n",
       "      <td>0.021295</td>\n",
       "      <td>8.065320e-03</td>\n",
       "      <td>0.014312</td>\n",
       "      <td>0.014312</td>\n",
       "      <td>0.014312</td>\n",
       "      <td>166.816712</td>\n",
       "      <td>22.394492</td>\n",
       "      <td>4.412041</td>\n",
       "      <td>1.671056e+00</td>\n",
       "      <td>2.965318</td>\n",
       "      <td>2.965318</td>\n",
       "      <td>2.965318</td>\n",
       "    </tr>\n",
       "    <tr>\n",
       "      <th>12</th>\n",
       "      <td>3.423625e-01</td>\n",
       "      <td>0.986261</td>\n",
       "      <td>1.373868e-02</td>\n",
       "      <td>0.861340</td>\n",
       "      <td>219.527101</td>\n",
       "      <td>0.805561</td>\n",
       "      <td>1.116991e-01</td>\n",
       "      <td>0.020495</td>\n",
       "      <td>8.146109e-03</td>\n",
       "      <td>0.013478</td>\n",
       "      <td>0.013478</td>\n",
       "      <td>0.013478</td>\n",
       "      <td>176.842368</td>\n",
       "      <td>24.520978</td>\n",
       "      <td>4.499111</td>\n",
       "      <td>1.788292e+00</td>\n",
       "      <td>2.958784</td>\n",
       "      <td>2.958784</td>\n",
       "      <td>2.958784</td>\n",
       "    </tr>\n",
       "    <tr>\n",
       "      <th>13</th>\n",
       "      <td>3.558937e-01</td>\n",
       "      <td>0.983957</td>\n",
       "      <td>1.604284e-02</td>\n",
       "      <td>0.857339</td>\n",
       "      <td>231.612622</td>\n",
       "      <td>0.805849</td>\n",
       "      <td>1.149629e-01</td>\n",
       "      <td>0.019787</td>\n",
       "      <td>8.213819e-03</td>\n",
       "      <td>0.012745</td>\n",
       "      <td>0.012745</td>\n",
       "      <td>0.012745</td>\n",
       "      <td>186.644837</td>\n",
       "      <td>26.626851</td>\n",
       "      <td>4.582895</td>\n",
       "      <td>1.902424e+00</td>\n",
       "      <td>2.951871</td>\n",
       "      <td>2.951871</td>\n",
       "      <td>2.951871</td>\n",
       "    </tr>\n",
       "    <tr>\n",
       "      <th>14</th>\n",
       "      <td>3.686236e-01</td>\n",
       "      <td>0.981536</td>\n",
       "      <td>1.846429e-02</td>\n",
       "      <td>0.853693</td>\n",
       "      <td>243.471724</td>\n",
       "      <td>0.806040</td>\n",
       "      <td>1.179293e-01</td>\n",
       "      <td>0.019155</td>\n",
       "      <td>8.271265e-03</td>\n",
       "      <td>0.012094</td>\n",
       "      <td>0.012094</td>\n",
       "      <td>0.012094</td>\n",
       "      <td>196.247847</td>\n",
       "      <td>28.712446</td>\n",
       "      <td>4.663790</td>\n",
       "      <td>2.013819e+00</td>\n",
       "      <td>2.944607</td>\n",
       "      <td>2.944607</td>\n",
       "      <td>2.944607</td>\n",
       "    </tr>\n",
       "    <tr>\n",
       "      <th>15</th>\n",
       "      <td>3.806540e-01</td>\n",
       "      <td>0.979005</td>\n",
       "      <td>2.099528e-02</td>\n",
       "      <td>0.850353</td>\n",
       "      <td>255.124784</td>\n",
       "      <td>0.806158</td>\n",
       "      <td>1.206392e-01</td>\n",
       "      <td>0.018587</td>\n",
       "      <td>8.320536e-03</td>\n",
       "      <td>0.011512</td>\n",
       "      <td>0.011512</td>\n",
       "      <td>0.011512</td>\n",
       "      <td>205.670805</td>\n",
       "      <td>30.778040</td>\n",
       "      <td>4.742122</td>\n",
       "      <td>2.122775e+00</td>\n",
       "      <td>2.937014</td>\n",
       "      <td>2.937014</td>\n",
       "      <td>2.937014</td>\n",
       "    </tr>\n",
       "    <tr>\n",
       "      <th>16</th>\n",
       "      <td>3.920678e-01</td>\n",
       "      <td>0.976371</td>\n",
       "      <td>2.362897e-02</td>\n",
       "      <td>0.847281</td>\n",
       "      <td>266.588716</td>\n",
       "      <td>0.806222</td>\n",
       "      <td>1.231255e-01</td>\n",
       "      <td>0.018073</td>\n",
       "      <td>8.363210e-03</td>\n",
       "      <td>0.010987</td>\n",
       "      <td>0.010987</td>\n",
       "      <td>0.010987</td>\n",
       "      <td>214.929813</td>\n",
       "      <td>32.823869</td>\n",
       "      <td>4.818158</td>\n",
       "      <td>2.229537e+00</td>\n",
       "      <td>2.929113</td>\n",
       "      <td>2.929113</td>\n",
       "      <td>2.929113</td>\n",
       "    </tr>\n",
       "    <tr>\n",
       "      <th>17</th>\n",
       "      <td>4.029336e-01</td>\n",
       "      <td>0.973641</td>\n",
       "      <td>2.635931e-02</td>\n",
       "      <td>0.844446</td>\n",
       "      <td>277.877731</td>\n",
       "      <td>0.806248</td>\n",
       "      <td>1.254153e-01</td>\n",
       "      <td>0.017605</td>\n",
       "      <td>8.400504e-03</td>\n",
       "      <td>0.010512</td>\n",
       "      <td>0.010512</td>\n",
       "      <td>0.010512</td>\n",
       "      <td>224.038404</td>\n",
       "      <td>34.850125</td>\n",
       "      <td>4.892123</td>\n",
       "      <td>2.334313e+00</td>\n",
       "      <td>2.920922</td>\n",
       "      <td>2.920922</td>\n",
       "      <td>2.920922</td>\n",
       "    </tr>\n",
       "    <tr>\n",
       "      <th>18</th>\n",
       "      <td>4.133087e-01</td>\n",
       "      <td>0.970819</td>\n",
       "      <td>2.918087e-02</td>\n",
       "      <td>0.841821</td>\n",
       "      <td>289.003898</td>\n",
       "      <td>0.806245</td>\n",
       "      <td>1.275310e-01</td>\n",
       "      <td>0.017177</td>\n",
       "      <td>8.433367e-03</td>\n",
       "      <td>0.010078</td>\n",
       "      <td>0.010078</td>\n",
       "      <td>0.010078</td>\n",
       "      <td>233.008075</td>\n",
       "      <td>36.856968</td>\n",
       "      <td>4.964208</td>\n",
       "      <td>2.437276e+00</td>\n",
       "      <td>2.912457</td>\n",
       "      <td>2.912457</td>\n",
       "      <td>2.912457</td>\n",
       "    </tr>\n",
       "    <tr>\n",
       "      <th>19</th>\n",
       "      <td>4.232417e-01</td>\n",
       "      <td>0.967911</td>\n",
       "      <td>3.208881e-02</td>\n",
       "      <td>0.839385</td>\n",
       "      <td>299.977569</td>\n",
       "      <td>0.806223</td>\n",
       "      <td>1.294915e-01</td>\n",
       "      <td>0.016783</td>\n",
       "      <td>8.462552e-03</td>\n",
       "      <td>0.009680</td>\n",
       "      <td>0.009680</td>\n",
       "      <td>0.009680</td>\n",
       "      <td>241.848686</td>\n",
       "      <td>38.844530</td>\n",
       "      <td>5.034576</td>\n",
       "      <td>2.538576e+00</td>\n",
       "      <td>2.903734</td>\n",
       "      <td>2.903734</td>\n",
       "      <td>2.903734</td>\n",
       "    </tr>\n",
       "    <tr>\n",
       "      <th>20</th>\n",
       "      <td>4.327739e-01</td>\n",
       "      <td>0.964921</td>\n",
       "      <td>3.507876e-02</td>\n",
       "      <td>0.837119</td>\n",
       "      <td>310.807687</td>\n",
       "      <td>0.806186</td>\n",
       "      <td>1.313124e-01</td>\n",
       "      <td>0.016420</td>\n",
       "      <td>8.488659e-03</td>\n",
       "      <td>0.009314</td>\n",
       "      <td>0.009314</td>\n",
       "      <td>0.009314</td>\n",
       "      <td>250.568769</td>\n",
       "      <td>40.812918</td>\n",
       "      <td>5.103368</td>\n",
       "      <td>2.638341e+00</td>\n",
       "      <td>2.894764</td>\n",
       "      <td>2.894764</td>\n",
       "      <td>2.894764</td>\n",
       "    </tr>\n",
       "  </tbody>\n",
       "</table>\n",
       "</div>"
      ],
      "text/plain": [
       "     p_collision  p_success      p_failure    p_free  cycle_time      p_bo  \\\n",
       "1   1.808663e-27   1.000000  1.070115e-107  1.000000   52.525589  0.714425   \n",
       "2   8.529327e-02   0.999947   5.292478e-05  0.959253   73.621369  0.757632   \n",
       "3   1.376709e-01   0.999641   3.592262e-04  0.936163   92.431317  0.777423   \n",
       "4   1.763312e-01   0.999033   9.667565e-04  0.920101  109.480127  0.787911   \n",
       "5   2.074631e-01   0.998147   1.852521e-03  0.907792  125.316749  0.794112   \n",
       "6   2.337708e-01   0.997014   2.986489e-03  0.897838  140.275596  0.798042   \n",
       "7   2.566901e-01   0.995659   4.341468e-03  0.889509  154.563811  0.800649   \n",
       "8   2.770822e-01   0.994106   5.894331e-03  0.882373  168.317398  0.802428   \n",
       "9   2.955080e-01   0.992374   7.625647e-03  0.876152  181.630491  0.803664   \n",
       "10  3.123550e-01   0.990481   9.519052e-03  0.870658  194.571132  0.804530   \n",
       "11  3.279033e-01   0.988439   1.156068e-02  0.865754  207.190255  0.805138   \n",
       "12  3.423625e-01   0.986261   1.373868e-02  0.861340  219.527101  0.805561   \n",
       "13  3.558937e-01   0.983957   1.604284e-02  0.857339  231.612622  0.805849   \n",
       "14  3.686236e-01   0.981536   1.846429e-02  0.853693  243.471724  0.806040   \n",
       "15  3.806540e-01   0.979005   2.099528e-02  0.850353  255.124784  0.806158   \n",
       "16  3.920678e-01   0.976371   2.362897e-02  0.847281  266.588716  0.806222   \n",
       "17  4.029336e-01   0.973641   2.635931e-02  0.844446  277.877731  0.806248   \n",
       "18  4.133087e-01   0.970819   2.918087e-02  0.841821  289.003898  0.806245   \n",
       "19  4.232417e-01   0.967911   3.208881e-02  0.839385  299.977569  0.806223   \n",
       "20  4.327739e-01   0.964921   3.507876e-02  0.837119  310.807687  0.806186   \n",
       "\n",
       "          p_wait     p_rts         p_out     p_cts    p_data     p_ack  \\\n",
       "1   7.144248e-08  0.057115  1.033018e-28  0.057115  0.057115  0.057115   \n",
       "2   3.087114e-02  0.044546  3.960902e-03  0.040747  0.040747  0.040747   \n",
       "3   4.962839e-02  0.037625  5.533037e-03  0.032445  0.032445  0.032445   \n",
       "4   6.295366e-02  0.033236  6.369529e-03  0.027376  0.027376  0.027376   \n",
       "5   7.322375e-02  0.030150  6.890360e-03  0.023895  0.023895  0.023895   \n",
       "6   8.152990e-02  0.027828  7.245592e-03  0.021323  0.021323  0.021323   \n",
       "7   8.846486e-02  0.025999  7.502620e-03  0.019325  0.019325  0.019325   \n",
       "8   9.438747e-02  0.024510  7.696486e-03  0.017718  0.017718  0.017718   \n",
       "9   9.953192e-02  0.023267  7.847322e-03  0.016391  0.016391  0.016391   \n",
       "10  1.040596e-01  0.022209  7.967564e-03  0.015272  0.015272  0.015272   \n",
       "11  1.080866e-01  0.021295  8.065320e-03  0.014312  0.014312  0.014312   \n",
       "12  1.116991e-01  0.020495  8.146109e-03  0.013478  0.013478  0.013478   \n",
       "13  1.149629e-01  0.019787  8.213819e-03  0.012745  0.012745  0.012745   \n",
       "14  1.179293e-01  0.019155  8.271265e-03  0.012094  0.012094  0.012094   \n",
       "15  1.206392e-01  0.018587  8.320536e-03  0.011512  0.011512  0.011512   \n",
       "16  1.231255e-01  0.018073  8.363210e-03  0.010987  0.010987  0.010987   \n",
       "17  1.254153e-01  0.017605  8.400504e-03  0.010512  0.010512  0.010512   \n",
       "18  1.275310e-01  0.017177  8.433367e-03  0.010078  0.010078  0.010078   \n",
       "19  1.294915e-01  0.016783  8.462552e-03  0.009680  0.009680  0.009680   \n",
       "20  1.313124e-01  0.016420  8.488659e-03  0.009314  0.009314  0.009314   \n",
       "\n",
       "       bo_time  wait_time  rts_time      out_time  cts_time  data_time  \\\n",
       "1    37.525585   0.000004  3.000000  5.425988e-27  3.000000   3.000000   \n",
       "2    55.777897   2.272775  3.279566  2.916070e-01  2.999841   2.999841   \n",
       "3    71.858206   4.587218  3.477700  5.114259e-01  2.998922   2.998922   \n",
       "4    86.260597   6.892174  3.638720  6.973368e-01  2.997100   2.997100   \n",
       "5    99.515483   9.176162  3.778300  8.634775e-01  2.994442   2.994442   \n",
       "6   111.945854  11.436656  3.903585  1.016380e+00  2.991041   2.991041   \n",
       "7   123.751306  13.673466  4.018480  1.159634e+00  2.986976   2.986976   \n",
       "8   135.062552  15.887054  4.125389  1.295453e+00  2.982317   2.982317   \n",
       "9   145.969863  18.078031  4.225914  1.425313e+00  2.977123   2.977123   \n",
       "10  156.538360  20.246998  4.321187  1.550258e+00  2.971443   2.971443   \n",
       "11  166.816712  22.394492  4.412041  1.671056e+00  2.965318   2.965318   \n",
       "12  176.842368  24.520978  4.499111  1.788292e+00  2.958784   2.958784   \n",
       "13  186.644837  26.626851  4.582895  1.902424e+00  2.951871   2.951871   \n",
       "14  196.247847  28.712446  4.663790  2.013819e+00  2.944607   2.944607   \n",
       "15  205.670805  30.778040  4.742122  2.122775e+00  2.937014   2.937014   \n",
       "16  214.929813  32.823869  4.818158  2.229537e+00  2.929113   2.929113   \n",
       "17  224.038404  34.850125  4.892123  2.334313e+00  2.920922   2.920922   \n",
       "18  233.008075  36.856968  4.964208  2.437276e+00  2.912457   2.912457   \n",
       "19  241.848686  38.844530  5.034576  2.538576e+00  2.903734   2.903734   \n",
       "20  250.568769  40.812918  5.103368  2.638341e+00  2.894764   2.894764   \n",
       "\n",
       "    ack_time  \n",
       "1   3.000000  \n",
       "2   2.999841  \n",
       "3   2.998922  \n",
       "4   2.997100  \n",
       "5   2.994442  \n",
       "6   2.991041  \n",
       "7   2.986976  \n",
       "8   2.982317  \n",
       "9   2.977123  \n",
       "10  2.971443  \n",
       "11  2.965318  \n",
       "12  2.958784  \n",
       "13  2.951871  \n",
       "14  2.944607  \n",
       "15  2.937014  \n",
       "16  2.929113  \n",
       "17  2.920922  \n",
       "18  2.912457  \n",
       "19  2.903734  \n",
       "20  2.894764  "
      ]
     },
     "execution_count": 43,
     "metadata": {},
     "output_type": "execute_result"
    }
   ],
   "source": [
    "# Draw table to evaluate the results\n",
    "data_pd = {}\n",
    "for i in range(1, len(data[0])):\n",
    "    data_pd[data[0][i]] = np.array(data[1:]).T[i]\n",
    "df1 = pd.DataFrame(data_pd, index=np.arange(1, len(np.array(data[1:]).T[0])+1))\n",
    "df1"
   ]
  },
  {
   "cell_type": "code",
   "execution_count": 44,
   "metadata": {},
   "outputs": [],
   "source": [
    "# Here we save our table to csv in the same folder\n",
    "with open('2021-04-08 2.csv', \"wt\", newline=\"\") as file:\n",
    "    writer = csv.writer(file, delimiter=',')\n",
    "    writer.writerow(analytics_headers)\n",
    "    for i in range(1, len(data)):\n",
    "        writer.writerow(data[i])"
   ]
  },
  {
   "cell_type": "code",
   "execution_count": null,
   "metadata": {},
   "outputs": [],
   "source": []
  },
  {
   "cell_type": "code",
   "execution_count": 17,
   "metadata": {},
   "outputs": [
    {
     "name": "stdout",
     "output_type": "stream",
     "text": [
      "1\n",
      "3\n",
      "6\n",
      "10\n",
      "15\n",
      "21\n",
      "28\n",
      "36\n",
      "45\n",
      "55\n",
      "66\n",
      "78\n",
      "91\n",
      "105\n",
      "120\n",
      "136\n",
      "153\n",
      "171\n",
      "190\n",
      "210\n"
     ]
    }
   ],
   "source": [
    "s = 0\n",
    "for i in range(1, 21):\n",
    "    s += i\n",
    "    print(s)"
   ]
  },
  {
   "cell_type": "code",
   "execution_count": 18,
   "metadata": {},
   "outputs": [
    {
     "data": {
      "text/plain": [
       "210"
      ]
     },
     "execution_count": 18,
     "metadata": {},
     "output_type": "execute_result"
    }
   ],
   "source": [
    "s"
   ]
  },
  {
   "cell_type": "code",
   "execution_count": 20,
   "metadata": {},
   "outputs": [
    {
     "data": {
      "text/plain": [
       "0.9999813426418602"
      ]
     },
     "execution_count": 20,
     "metadata": {},
     "output_type": "execute_result"
    }
   ],
   "source": [
    "simpc = 0.5\n",
    "simpf = 0.7\n",
    "t1 = pi_idle(simpc, simpf) + pi_bo(simpc, simpf) + pi_rts(simpc, simpf)\n",
    "t2 = pi_cts(simpc, simpf) + pi_data(simpc, simpf) + pi_ack(simpc, simpf)\n",
    "t3 = pi_out(simpc, simpf) + pi_wait(simpc, simpf)\n",
    "t1 + t2 + t3"
   ]
  },
  {
   "cell_type": "code",
   "execution_count": 14,
   "metadata": {},
   "outputs": [
    {
     "data": {
      "text/plain": [
       "362.2161884781131"
      ]
     },
     "execution_count": 14,
     "metadata": {},
     "output_type": "execute_result"
    }
   ],
   "source": [
    "vc = 0.4731246508351256\n",
    "vf = 0.8260981839009207\n",
    "Etc(vc, vf)"
   ]
  },
  {
   "cell_type": "code",
   "execution_count": 29,
   "metadata": {},
   "outputs": [
    {
     "name": "stdout",
     "output_type": "stream",
     "text": [
      "42\n"
     ]
    }
   ],
   "source": [
    "s = 0\n",
    "for i in range(9, 13):\n",
    "    s += i\n",
    "print(s)"
   ]
  },
  {
   "cell_type": "code",
   "execution_count": 30,
   "metadata": {},
   "outputs": [
    {
     "name": "stdout",
     "output_type": "stream",
     "text": [
      "42\n"
     ]
    }
   ],
   "source": [
    "s = 0\n",
    "for i in range(13, 16):\n",
    "    s += i\n",
    "print(s)"
   ]
  },
  {
   "cell_type": "code",
   "execution_count": 31,
   "metadata": {},
   "outputs": [
    {
     "name": "stdout",
     "output_type": "stream",
     "text": [
      "33\n"
     ]
    }
   ],
   "source": [
    "s = 0\n",
    "for i in range(16, 18):\n",
    "    s += i\n",
    "print(s)"
   ]
  },
  {
   "cell_type": "code",
   "execution_count": 32,
   "metadata": {},
   "outputs": [
    {
     "name": "stdout",
     "output_type": "stream",
     "text": [
      "37\n"
     ]
    }
   ],
   "source": [
    "s = 0\n",
    "for i in range(18, 20):\n",
    "    s += i\n",
    "print(s)"
   ]
  },
  {
   "cell_type": "code",
   "execution_count": 33,
   "metadata": {},
   "outputs": [
    {
     "name": "stdout",
     "output_type": "stream",
     "text": [
      "20\n"
     ]
    }
   ],
   "source": [
    "s = 0\n",
    "for i in range(20, 21):\n",
    "    s += i\n",
    "print(s)"
   ]
  },
  {
   "cell_type": "code",
   "execution_count": null,
   "metadata": {},
   "outputs": [],
   "source": []
  },
  {
   "cell_type": "code",
   "execution_count": null,
   "metadata": {},
   "outputs": [],
   "source": []
  },
  {
   "cell_type": "code",
   "execution_count": null,
   "metadata": {},
   "outputs": [],
   "source": [
    "1 - 8\n",
    "9 - 12\n",
    "13 - 15\n",
    "16 - 17\n",
    "18 - 19\n",
    "20"
   ]
  }
 ],
 "metadata": {
  "kernelspec": {
   "display_name": "Python 3",
   "language": "python",
   "name": "python3"
  },
  "language_info": {
   "codemirror_mode": {
    "name": "ipython",
    "version": 3
   },
   "file_extension": ".py",
   "mimetype": "text/x-python",
   "name": "python",
   "nbconvert_exporter": "python",
   "pygments_lexer": "ipython3",
   "version": "3.9.4"
  }
 },
 "nbformat": 4,
 "nbformat_minor": 2
}
