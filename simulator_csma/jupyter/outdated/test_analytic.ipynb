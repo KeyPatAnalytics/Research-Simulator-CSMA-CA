{
 "cells": [
  {
   "cell_type": "code",
   "execution_count": 1,
   "metadata": {},
   "outputs": [],
   "source": [
    "import csv\n",
    "import matplotlib.pyplot as plt\n",
    "from matplotlib import animation\n",
    "import numpy as np\n",
    "from scipy.optimize import root, fsolve\n",
    "from scipy.special import binom\n",
    "import pandas as pd"
   ]
  },
  {
   "cell_type": "code",
   "execution_count": 54,
   "metadata": {},
   "outputs": [],
   "source": [
    "p_a = 1\n",
    "T_max = 12\n",
    "D_max = 1\n",
    "W_max = D_max\n",
    "O_max = D_max\n",
    "\n",
    "Nr = 3\n",
    "nodes = 20"
   ]
  },
  {
   "cell_type": "markdown",
   "metadata": {},
   "source": [
    "### Formulas for exponential backoff"
   ]
  },
  {
   "cell_type": "code",
   "execution_count": 73,
   "metadata": {},
   "outputs": [],
   "source": [
    "def pi_idle(p, p_f):\n",
    "    if p_f == 1.:\n",
    "        p_f = 0.9999999\n",
    "    elif p_f == 0.:\n",
    "        p_f = 0.0000001\n",
    "    total_sum = 0\n",
    "    for i in range(1, Nr + 1 + 1):\n",
    "        first_addition = W_max + 1 / (1 - p_f)\n",
    "        numerator = (2**i * T_max + 1) * (p_f ** (2**i * T_max + 1) - 2**i * T_max * p_f - p_f + 2**i * T_max)\n",
    "        denominator = 2**i * T_max * (1 - p_f ** (2**i * T_max + 1))\n",
    "        second_addition = (1 - p) * (2 + D_max)\n",
    "#         huge_sum = 1 + p / p_f + first_addition * numerator / denominator + second_addition\n",
    "        huge_sum = 1 + p * ((1 - p_f ** O_max) / (p_f ** O_max * (1 - p_f))) + first_addition * numerator / denominator + second_addition\n",
    "        total_sum += p_a * p ** (i - 1) * huge_sum\n",
    "    return (1 + total_sum) ** (-1)"
   ]
  },
  {
   "cell_type": "code",
   "execution_count": 71,
   "metadata": {},
   "outputs": [
    {
     "data": {
      "text/plain": [
       "0.005854819088338644"
      ]
     },
     "execution_count": 71,
     "metadata": {},
     "output_type": "execute_result"
    }
   ],
   "source": [
    "pi_idle(0.4, 0.8)"
   ]
  },
  {
   "cell_type": "code",
   "execution_count": 57,
   "metadata": {},
   "outputs": [],
   "source": [
    "def pi_rts(p, p_f):\n",
    "    total_sum = 0\n",
    "    for i in range(1, Nr + 1 + 1): \n",
    "        total_sum += p ** (i - 1) * p_a * pi_idle(p, p_f)\n",
    "    return total_sum\n",
    "\n",
    "# def pi_out(p, p_f):\n",
    "#     total_sum = 0\n",
    "#     for i in range(1, Nr + 1 + 1): \n",
    "#         total_sum += p ** (i - 1) * p_a * p * pi_idle(p, p_f) / p_f\n",
    "#     return total_sum\n",
    "\n",
    "def pi_out(p, p_f):\n",
    "    total_sum = 0\n",
    "    for i in range(1, Nr + 1 + 1): \n",
    "        total_sum += p_a * p ** (i - 1) * p * pi_idle(p, p_f) * ((1 - p_f ** O_max) / (p_f ** O_max * (1 - p_f)))\n",
    "    return total_sum\n",
    "\n",
    "def pi_cts(p, p_f):\n",
    "    total_sum = 0\n",
    "    for i in range(1, Nr + 1 + 1): \n",
    "        total_sum += (1 - p) * p ** (i - 1) * p_a * pi_idle(p, p_f)\n",
    "    return total_sum\n",
    "\n",
    "def pi_bo(p, p_f):\n",
    "    if p_f == 1.:\n",
    "        p_f = 0.9999999\n",
    "    total_sum = 0\n",
    "    for i in range(1, Nr + 1 + 1): \n",
    "        numerator = p ** (i - 1) * p_a * pi_idle(p, p_f) * (2**i * T_max + 1) * (p_f ** (2**i * T_max + 1) - 2**i * T_max * p_f - p_f + 2**i * T_max)\n",
    "        denominator = (2**i * T_max) * (1 - p_f) * (1 - p_f ** (2**i * T_max + 1))\n",
    "        total_sum += numerator / denominator\n",
    "    return total_sum\n",
    "\n",
    "def pi_wait(p, p_f):\n",
    "    if p_f == 1.:\n",
    "        p_f = 0.9999999\n",
    "    total_sum = 0\n",
    "    for i in range(1, Nr + 1 + 1): \n",
    "        numerator = p ** (i - 1) * p_a * pi_idle(p, p_f) * (2**i * T_max + 1) * (p_f ** (2**i * T_max + 1) - 2**i * T_max * p_f - p_f + 2**i * T_max)\n",
    "        denominator = (2**i * T_max) * (1 - p_f ** (2**i * T_max + 1))\n",
    "        total_sum += numerator / denominator\n",
    "    return W_max * total_sum\n",
    "\n",
    "def pi_cts(p, p_f):\n",
    "    total_sum = 0\n",
    "    for i in range(1, Nr + 1 + 1): \n",
    "        total_sum += (1 - p) * p ** (i - 1) * p_a * pi_idle(p, p_f)\n",
    "    return total_sum\n",
    "    \n",
    "def pi_data(p, p_f):\n",
    "    total_sum = 0\n",
    "    for i in range(1, Nr + 1 + 1): \n",
    "        total_sum += (1 - p) * p ** (i - 1) * p_a * pi_idle(p, p_f)\n",
    "    return D_max * total_sum\n",
    "\n",
    "def pi_ack(p, p_f):\n",
    "    total_sum = 0\n",
    "    for i in range(1, Nr + 1 + 1): \n",
    "        total_sum += (1 - p) * p ** (i - 1) * p_a * pi_idle(p, p_f)\n",
    "    return total_sum"
   ]
  },
  {
   "cell_type": "code",
   "execution_count": 58,
   "metadata": {},
   "outputs": [],
   "source": [
    "def p_success(p):\n",
    "    total_sum = 0\n",
    "    for i in range(1, Nr + 1 + 1):\n",
    "        total_sum += (1 - p) * p ** (i - 1) * p_a\n",
    "    return total_sum\n",
    "\n",
    "# alternative formula\n",
    "def p_success(p):\n",
    "    return 1 - p ** (Nr + 1)\n",
    "\n",
    "def p_failure(p):\n",
    "    return p ** (Nr + 1)"
   ]
  },
  {
   "cell_type": "code",
   "execution_count": 59,
   "metadata": {},
   "outputs": [],
   "source": [
    "def transcendental_equation_p_collision(p, p_f, n):\n",
    "    p_rts = pi_rts(p, p_f)\n",
    "    p_cts = pi_cts(p, p_f)\n",
    "    p_data = pi_data(p, p_f)\n",
    "    p_ack = pi_ack(p, p_f)\n",
    "    # We solve transcendental equation f(x) = g(x) by turning it into f(x) - g(x) = 0\n",
    "#     return p - (1 - (1 - p_rts) ** (n) - n * p_rts * (1 - p_rts) ** (n-1))\n",
    "#     return p - (1 - (1 - p_rts) ** (2*(n-1))) - (1 - (1 - p_cts) ** (2*(n-1)))\n",
    "    return p - (1 - (1 - p_rts) ** ((n-1))) - (1 - (1 - p_cts) ** ((n-1)))\n",
    "\n",
    "def transcendental_equation_p_free(p, p_f, n):\n",
    "    p_rts = pi_rts(p, p_f)\n",
    "    p_cts = pi_cts(p, p_f)\n",
    "    p_data = pi_data(p, p_f)\n",
    "    p_ack = pi_ack(p, p_f)\n",
    "    return p_f - (1 - p_cts) ** (n-1)\n",
    "\n",
    "def system_of_equations(p_pf, node):\n",
    "    p, pf = p_pf\n",
    "    return (transcendental_equation_p_collision(p, pf, node), transcendental_equation_p_free(p, pf, node))\n",
    "\n",
    "def calculate_p_pf_from_system():\n",
    "    p_array = []\n",
    "    pf_array = []\n",
    "    for node in range(1, nodes+1):\n",
    "        p, pf = fsolve(system_of_equations, (0.01, 0.01), args=(node))\n",
    "        p_array.append(p)\n",
    "        pf_array.append(pf)\n",
    "    return p_array, pf_array"
   ]
  },
  {
   "cell_type": "code",
   "execution_count": 60,
   "metadata": {},
   "outputs": [],
   "source": [
    "p_array, p_f_array = calculate_p_pf_from_system()"
   ]
  },
  {
   "cell_type": "code",
   "execution_count": 61,
   "metadata": {},
   "outputs": [
    {
     "data": {
      "text/plain": [
       "[1.8086627663754192e-27,\n",
       " 0.08660267093728163,\n",
       " 0.14107498807466884,\n",
       " 0.18190358901228282,\n",
       " 0.21513477457816488,\n",
       " 0.24343439132373987,\n",
       " 0.26823109930689076,\n",
       " 0.29038998623134904,\n",
       " 0.31047956574086233,\n",
       " 0.32889589339737035,\n",
       " 0.3459271845604028,\n",
       " 0.36179040464041057,\n",
       " 0.37665337013848166,\n",
       " 0.3906487973386866,\n",
       " 0.40388360969624076,\n",
       " 0.41644531863697287,\n",
       " 0.4284065256425171,\n",
       " 0.439828177680964,\n",
       " 0.45076197160638876,\n",
       " 0.46125216316011325]"
      ]
     },
     "execution_count": 61,
     "metadata": {},
     "output_type": "execute_result"
    }
   ],
   "source": [
    "p_array"
   ]
  },
  {
   "cell_type": "code",
   "execution_count": 62,
   "metadata": {},
   "outputs": [
    {
     "data": {
      "text/plain": [
       "[1.0,\n",
       " 0.9586585352021165,\n",
       " 0.9347183006517712,\n",
       " 0.9178631164965532,\n",
       " 0.9048573404099832,\n",
       " 0.8943018020625592,\n",
       " 0.8854572417487248,\n",
       " 0.8778815440602455,\n",
       " 0.8712874852956345,\n",
       " 0.8654771291070398,\n",
       " 0.8603079065069665,\n",
       " 0.8556735336286302,\n",
       " 0.8514925592677688,\n",
       " 0.8477011309465111,\n",
       " 0.8442482322820137,\n",
       " 0.8410924380331061,\n",
       " 0.8381996384606334,\n",
       " 0.8355414036256031,\n",
       " 0.8330937823329605,\n",
       " 0.830836403636758]"
      ]
     },
     "execution_count": 62,
     "metadata": {},
     "output_type": "execute_result"
    }
   ],
   "source": [
    "p_f_array"
   ]
  },
  {
   "cell_type": "code",
   "execution_count": 72,
   "metadata": {},
   "outputs": [
    {
     "data": {
      "text/plain": [
       "196.72307544910802"
      ]
     },
     "execution_count": 72,
     "metadata": {},
     "output_type": "execute_result"
    }
   ],
   "source": [
    "1 / pi_idle(0.46125216316011325, 0.830836403636758)"
   ]
  },
  {
   "cell_type": "code",
   "execution_count": 11,
   "metadata": {},
   "outputs": [
    {
     "data": {
      "text/plain": [
       "0.023728874830785954"
      ]
     },
     "execution_count": 11,
     "metadata": {},
     "output_type": "execute_result"
    }
   ],
   "source": [
    "prt = pi_rts(p_array[9], p_f_array[9])\n",
    "prt"
   ]
  },
  {
   "cell_type": "code",
   "execution_count": 12,
   "metadata": {},
   "outputs": [
    {
     "data": {
      "text/plain": [
       "0.022323427120735456"
      ]
     },
     "execution_count": 12,
     "metadata": {},
     "output_type": "execute_result"
    }
   ],
   "source": [
    "1 - (1 - prt) ** (10) - 10 * prt * (1 - prt) ** (9)"
   ]
  },
  {
   "cell_type": "code",
   "execution_count": 13,
   "metadata": {},
   "outputs": [
    {
     "data": {
      "text/plain": [
       "0.786510355786292"
      ]
     },
     "execution_count": 13,
     "metadata": {},
     "output_type": "execute_result"
    }
   ],
   "source": [
    "(1 - prt) ** (10)"
   ]
  },
  {
   "cell_type": "code",
   "execution_count": 14,
   "metadata": {},
   "outputs": [
    {
     "data": {
      "text/plain": [
       "0.19116621709297252"
      ]
     },
     "execution_count": 14,
     "metadata": {},
     "output_type": "execute_result"
    }
   ],
   "source": [
    "10 * prt * (1 - prt) ** (9)"
   ]
  },
  {
   "cell_type": "code",
   "execution_count": null,
   "metadata": {},
   "outputs": [],
   "source": []
  },
  {
   "cell_type": "code",
   "execution_count": 15,
   "metadata": {},
   "outputs": [],
   "source": [
    "analytics_headers = [\n",
    "    'nodes',\n",
    "    'p_collision',\n",
    "    'p_success',\n",
    "    'p_failure',\n",
    "    'p_free',\n",
    "    'cycle_time',\n",
    "    'p_bo',\n",
    "    'p_wait',\n",
    "    'p_rts',\n",
    "    'p_out',\n",
    "    'p_cts',\n",
    "    'p_data',\n",
    "    'p_ack',\n",
    "    'bo_time',\n",
    "    'wait_time',\n",
    "    'rts_time',\n",
    "    'out_time',\n",
    "    'cts_time',\n",
    "    'data_time',\n",
    "    'ack_time',\n",
    "]"
   ]
  },
  {
   "cell_type": "code",
   "execution_count": 86,
   "metadata": {},
   "outputs": [],
   "source": [
    "data = [analytics_headers]\n",
    "for i in range(nodes):\n",
    "    data.append([\n",
    "        i + 1,\n",
    "        p_array[i],\n",
    "        p_success(p_array[i]),\n",
    "        p_failure(p_array[i]),\n",
    "        p_f_array[i],\n",
    "        Etc(p_array[i], p_f_array[i]),\n",
    "        pi_bo(p_array[i], p_f_array[i]),\n",
    "        pi_wait(p_array[i], p_f_array[i]),\n",
    "        pi_rts(p_array[i], p_f_array[i]),\n",
    "        pi_out(p_array[i], p_f_array[i]),\n",
    "        pi_cts(p_array[i], p_f_array[i]),\n",
    "        pi_data(p_array[i], p_f_array[i]),\n",
    "        pi_ack(p_array[i], p_f_array[i]),\n",
    "        pi_bo(p_array[i], p_f_array[i]) * Etc(p_array[i], p_f_array[i]),\n",
    "        pi_wait(p_array[i], p_f_array[i]) * Etc(p_array[i], p_f_array[i]),\n",
    "        pi_rts(p_array[i], p_f_array[i]) * Etc(p_array[i], p_f_array[i]),\n",
    "        pi_out(p_array[i], p_f_array[i]) * Etc(p_array[i], p_f_array[i]),\n",
    "        pi_cts(p_array[i], p_f_array[i]) * Etc(p_array[i], p_f_array[i]),\n",
    "        pi_data(p_array[i], p_f_array[i]) * Etc(p_array[i], p_f_array[i]),\n",
    "        pi_ack(p_array[i], p_f_array[i]) * Etc(p_array[i], p_f_array[i]),\n",
    "    ])"
   ]
  },
  {
   "cell_type": "code",
   "execution_count": 87,
   "metadata": {},
   "outputs": [
    {
     "data": {
      "text/html": [
       "<div>\n",
       "<style scoped>\n",
       "    .dataframe tbody tr th:only-of-type {\n",
       "        vertical-align: middle;\n",
       "    }\n",
       "\n",
       "    .dataframe tbody tr th {\n",
       "        vertical-align: top;\n",
       "    }\n",
       "\n",
       "    .dataframe thead th {\n",
       "        text-align: right;\n",
       "    }\n",
       "</style>\n",
       "<table border=\"1\" class=\"dataframe\">\n",
       "  <thead>\n",
       "    <tr style=\"text-align: right;\">\n",
       "      <th></th>\n",
       "      <th>p_collision</th>\n",
       "      <th>p_success</th>\n",
       "      <th>p_failure</th>\n",
       "      <th>p_free</th>\n",
       "      <th>cycle_time</th>\n",
       "      <th>p_bo</th>\n",
       "      <th>p_wait</th>\n",
       "      <th>p_rts</th>\n",
       "      <th>p_out</th>\n",
       "      <th>p_cts</th>\n",
       "      <th>p_data</th>\n",
       "      <th>p_ack</th>\n",
       "      <th>bo_time</th>\n",
       "      <th>wait_time</th>\n",
       "      <th>rts_time</th>\n",
       "      <th>out_time</th>\n",
       "      <th>cts_time</th>\n",
       "      <th>data_time</th>\n",
       "      <th>ack_time</th>\n",
       "    </tr>\n",
       "  </thead>\n",
       "  <tbody>\n",
       "    <tr>\n",
       "      <th>1</th>\n",
       "      <td>1.808663e-27</td>\n",
       "      <td>1.000000</td>\n",
       "      <td>1.070115e-107</td>\n",
       "      <td>1.000000</td>\n",
       "      <td>52.525587</td>\n",
       "      <td>0.714425</td>\n",
       "      <td>7.144248e-08</td>\n",
       "      <td>0.057115</td>\n",
       "      <td>1.033018e-28</td>\n",
       "      <td>0.057115</td>\n",
       "      <td>0.057115</td>\n",
       "      <td>0.057115</td>\n",
       "      <td>37.525583</td>\n",
       "      <td>0.000004</td>\n",
       "      <td>3.000000</td>\n",
       "      <td>5.425988e-27</td>\n",
       "      <td>3.000000</td>\n",
       "      <td>3.000000</td>\n",
       "      <td>3.000000</td>\n",
       "    </tr>\n",
       "    <tr>\n",
       "      <th>2</th>\n",
       "      <td>8.660267e-02</td>\n",
       "      <td>0.999944</td>\n",
       "      <td>5.625034e-05</td>\n",
       "      <td>0.958659</td>\n",
       "      <td>72.562287</td>\n",
       "      <td>0.754106</td>\n",
       "      <td>3.117585e-02</td>\n",
       "      <td>0.045261</td>\n",
       "      <td>4.088777e-03</td>\n",
       "      <td>0.041341</td>\n",
       "      <td>0.041341</td>\n",
       "      <td>0.041341</td>\n",
       "      <td>54.719655</td>\n",
       "      <td>2.262191</td>\n",
       "      <td>3.284257</td>\n",
       "      <td>2.966910e-01</td>\n",
       "      <td>2.999831</td>\n",
       "      <td>2.999831</td>\n",
       "      <td>2.999831</td>\n",
       "    </tr>\n",
       "    <tr>\n",
       "      <th>3</th>\n",
       "      <td>1.410750e-01</td>\n",
       "      <td>0.999604</td>\n",
       "      <td>3.960957e-04</td>\n",
       "      <td>0.934718</td>\n",
       "      <td>90.348258</td>\n",
       "      <td>0.772326</td>\n",
       "      <td>5.041873e-02</td>\n",
       "      <td>0.038643</td>\n",
       "      <td>5.832348e-03</td>\n",
       "      <td>0.033192</td>\n",
       "      <td>0.033192</td>\n",
       "      <td>0.033192</td>\n",
       "      <td>69.778281</td>\n",
       "      <td>4.555245</td>\n",
       "      <td>3.491355</td>\n",
       "      <td>5.269425e-01</td>\n",
       "      <td>2.998812</td>\n",
       "      <td>2.998812</td>\n",
       "      <td>2.998812</td>\n",
       "    </tr>\n",
       "    <tr>\n",
       "      <th>4</th>\n",
       "      <td>1.819036e-01</td>\n",
       "      <td>0.998905</td>\n",
       "      <td>1.094876e-03</td>\n",
       "      <td>0.917863</td>\n",
       "      <td>106.399434</td>\n",
       "      <td>0.781842</td>\n",
       "      <td>6.421806e-02</td>\n",
       "      <td>0.034427</td>\n",
       "      <td>6.822838e-03</td>\n",
       "      <td>0.028165</td>\n",
       "      <td>0.028165</td>\n",
       "      <td>0.028165</td>\n",
       "      <td>83.187542</td>\n",
       "      <td>6.832765</td>\n",
       "      <td>3.663034</td>\n",
       "      <td>7.259461e-01</td>\n",
       "      <td>2.996715</td>\n",
       "      <td>2.996715</td>\n",
       "      <td>2.996715</td>\n",
       "    </tr>\n",
       "    <tr>\n",
       "      <th>5</th>\n",
       "      <td>2.151348e-01</td>\n",
       "      <td>0.997858</td>\n",
       "      <td>2.142113e-03</td>\n",
       "      <td>0.904857</td>\n",
       "      <td>121.272338</td>\n",
       "      <td>0.787367</td>\n",
       "      <td>7.491223e-02</td>\n",
       "      <td>0.031451</td>\n",
       "      <td>7.477624e-03</td>\n",
       "      <td>0.024685</td>\n",
       "      <td>0.024685</td>\n",
       "      <td>0.024685</td>\n",
       "      <td>95.485883</td>\n",
       "      <td>9.084781</td>\n",
       "      <td>3.814124</td>\n",
       "      <td>9.068289e-01</td>\n",
       "      <td>2.993574</td>\n",
       "      <td>2.993574</td>\n",
       "      <td>2.993574</td>\n",
       "    </tr>\n",
       "    <tr>\n",
       "      <th>6</th>\n",
       "      <td>2.434344e-01</td>\n",
       "      <td>0.996488</td>\n",
       "      <td>3.511783e-03</td>\n",
       "      <td>0.894302</td>\n",
       "      <td>135.302635</td>\n",
       "      <td>0.790804</td>\n",
       "      <td>8.358652e-02</td>\n",
       "      <td>0.029204</td>\n",
       "      <td>7.949474e-03</td>\n",
       "      <td>0.022095</td>\n",
       "      <td>0.022095</td>\n",
       "      <td>0.022095</td>\n",
       "      <td>106.997818</td>\n",
       "      <td>11.309477</td>\n",
       "      <td>3.951362</td>\n",
       "      <td>1.075585e+00</td>\n",
       "      <td>2.989465</td>\n",
       "      <td>2.989465</td>\n",
       "      <td>2.989465</td>\n",
       "    </tr>\n",
       "    <tr>\n",
       "      <th>7</th>\n",
       "      <td>2.682311e-01</td>\n",
       "      <td>0.994823</td>\n",
       "      <td>5.176504e-03</td>\n",
       "      <td>0.885457</td>\n",
       "      <td>148.695466</td>\n",
       "      <td>0.793038</td>\n",
       "      <td>9.083674e-02</td>\n",
       "      <td>0.027428</td>\n",
       "      <td>8.308778e-03</td>\n",
       "      <td>0.020071</td>\n",
       "      <td>0.020071</td>\n",
       "      <td>0.020071</td>\n",
       "      <td>117.921132</td>\n",
       "      <td>13.507012</td>\n",
       "      <td>4.078433</td>\n",
       "      <td>1.235478e+00</td>\n",
       "      <td>2.984470</td>\n",
       "      <td>2.984470</td>\n",
       "      <td>2.984470</td>\n",
       "    </tr>\n",
       "    <tr>\n",
       "      <th>8</th>\n",
       "      <td>2.903900e-01</td>\n",
       "      <td>0.992889</td>\n",
       "      <td>7.110932e-03</td>\n",
       "      <td>0.877882</td>\n",
       "      <td>161.583728</td>\n",
       "      <td>0.794533</td>\n",
       "      <td>9.702714e-02</td>\n",
       "      <td>0.025978</td>\n",
       "      <td>8.593109e-03</td>\n",
       "      <td>0.018434</td>\n",
       "      <td>0.018434</td>\n",
       "      <td>0.018434</td>\n",
       "      <td>128.383601</td>\n",
       "      <td>15.678007</td>\n",
       "      <td>4.197612</td>\n",
       "      <td>1.388507e+00</td>\n",
       "      <td>2.978667</td>\n",
       "      <td>2.978667</td>\n",
       "      <td>2.978667</td>\n",
       "    </tr>\n",
       "    <tr>\n",
       "      <th>9</th>\n",
       "      <td>3.104796e-01</td>\n",
       "      <td>0.990708</td>\n",
       "      <td>9.292490e-03</td>\n",
       "      <td>0.871287</td>\n",
       "      <td>174.058276</td>\n",
       "      <td>0.795552</td>\n",
       "      <td>1.023975e-01</td>\n",
       "      <td>0.024764</td>\n",
       "      <td>8.824629e-03</td>\n",
       "      <td>0.017075</td>\n",
       "      <td>0.017075</td>\n",
       "      <td>0.017075</td>\n",
       "      <td>138.472363</td>\n",
       "      <td>17.823126</td>\n",
       "      <td>4.310420</td>\n",
       "      <td>1.536000e+00</td>\n",
       "      <td>2.972123</td>\n",
       "      <td>2.972123</td>\n",
       "      <td>2.972123</td>\n",
       "    </tr>\n",
       "    <tr>\n",
       "      <th>10</th>\n",
       "      <td>3.288959e-01</td>\n",
       "      <td>0.988299</td>\n",
       "      <td>1.170129e-02</td>\n",
       "      <td>0.865477</td>\n",
       "      <td>186.184036</td>\n",
       "      <td>0.796253</td>\n",
       "      <td>1.071142e-01</td>\n",
       "      <td>0.023729</td>\n",
       "      <td>9.017372e-03</td>\n",
       "      <td>0.015925</td>\n",
       "      <td>0.015925</td>\n",
       "      <td>0.015925</td>\n",
       "      <td>148.249563</td>\n",
       "      <td>19.942957</td>\n",
       "      <td>4.417938</td>\n",
       "      <td>1.678891e+00</td>\n",
       "      <td>2.964896</td>\n",
       "      <td>2.964896</td>\n",
       "      <td>2.964896</td>\n",
       "    </tr>\n",
       "    <tr>\n",
       "      <th>11</th>\n",
       "      <td>3.459272e-01</td>\n",
       "      <td>0.985680</td>\n",
       "      <td>1.431986e-02</td>\n",
       "      <td>0.860308</td>\n",
       "      <td>198.009123</td>\n",
       "      <td>0.796737</td>\n",
       "      <td>1.112978e-01</td>\n",
       "      <td>0.022832</td>\n",
       "      <td>9.180720e-03</td>\n",
       "      <td>0.014934</td>\n",
       "      <td>0.014934</td>\n",
       "      <td>0.014934</td>\n",
       "      <td>157.761181</td>\n",
       "      <td>22.037990</td>\n",
       "      <td>4.520965</td>\n",
       "      <td>1.817866e+00</td>\n",
       "      <td>2.957040</td>\n",
       "      <td>2.957040</td>\n",
       "      <td>2.957040</td>\n",
       "    </tr>\n",
       "    <tr>\n",
       "      <th>12</th>\n",
       "      <td>3.617904e-01</td>\n",
       "      <td>0.982867</td>\n",
       "      <td>1.713279e-02</td>\n",
       "      <td>0.855674</td>\n",
       "      <td>209.570263</td>\n",
       "      <td>0.797071</td>\n",
       "      <td>1.150384e-01</td>\n",
       "      <td>0.022046</td>\n",
       "      <td>9.321205e-03</td>\n",
       "      <td>0.014070</td>\n",
       "      <td>0.014070</td>\n",
       "      <td>0.014070</td>\n",
       "      <td>167.042275</td>\n",
       "      <td>24.108621</td>\n",
       "      <td>4.620115</td>\n",
       "      <td>1.953447e+00</td>\n",
       "      <td>2.948602</td>\n",
       "      <td>2.948602</td>\n",
       "      <td>2.948602</td>\n",
       "    </tr>\n",
       "    <tr>\n",
       "      <th>13</th>\n",
       "      <td>3.766534e-01</td>\n",
       "      <td>0.979874</td>\n",
       "      <td>2.012646e-02</td>\n",
       "      <td>0.851493</td>\n",
       "      <td>220.896184</td>\n",
       "      <td>0.797299</td>\n",
       "      <td>1.184048e-01</td>\n",
       "      <td>0.021349</td>\n",
       "      <td>9.443532e-03</td>\n",
       "      <td>0.013308</td>\n",
       "      <td>0.013308</td>\n",
       "      <td>0.013308</td>\n",
       "      <td>176.120246</td>\n",
       "      <td>26.155167</td>\n",
       "      <td>4.715868</td>\n",
       "      <td>2.086040e+00</td>\n",
       "      <td>2.939621</td>\n",
       "      <td>2.939621</td>\n",
       "      <td>2.939621</td>\n",
       "    </tr>\n",
       "    <tr>\n",
       "      <th>14</th>\n",
       "      <td>3.906488e-01</td>\n",
       "      <td>0.976711</td>\n",
       "      <td>2.328874e-02</td>\n",
       "      <td>0.847701</td>\n",
       "      <td>232.009823</td>\n",
       "      <td>0.797453</td>\n",
       "      <td>1.214512e-01</td>\n",
       "      <td>0.020726</td>\n",
       "      <td>9.551182e-03</td>\n",
       "      <td>0.012629</td>\n",
       "      <td>0.012629</td>\n",
       "      <td>0.012629</td>\n",
       "      <td>185.016967</td>\n",
       "      <td>28.177875</td>\n",
       "      <td>4.808612</td>\n",
       "      <td>2.215968e+00</td>\n",
       "      <td>2.930134</td>\n",
       "      <td>2.930134</td>\n",
       "      <td>2.930134</td>\n",
       "    </tr>\n",
       "    <tr>\n",
       "      <th>15</th>\n",
       "      <td>4.038836e-01</td>\n",
       "      <td>0.973391</td>\n",
       "      <td>2.660878e-02</td>\n",
       "      <td>0.844248</td>\n",
       "      <td>242.929818</td>\n",
       "      <td>0.797556</td>\n",
       "      <td>1.242208e-01</td>\n",
       "      <td>0.020165</td>\n",
       "      <td>9.646791e-03</td>\n",
       "      <td>0.012021</td>\n",
       "      <td>0.012021</td>\n",
       "      <td>0.012021</td>\n",
       "      <td>193.750204</td>\n",
       "      <td>30.176937</td>\n",
       "      <td>4.898664</td>\n",
       "      <td>2.343493e+00</td>\n",
       "      <td>2.920174</td>\n",
       "      <td>2.920174</td>\n",
       "      <td>2.920174</td>\n",
       "    </tr>\n",
       "    <tr>\n",
       "      <th>16</th>\n",
       "      <td>4.164453e-01</td>\n",
       "      <td>0.969923</td>\n",
       "      <td>3.007682e-02</td>\n",
       "      <td>0.841092</td>\n",
       "      <td>253.671535</td>\n",
       "      <td>0.797624</td>\n",
       "      <td>1.267486e-01</td>\n",
       "      <td>0.019656</td>\n",
       "      <td>9.732391e-03</td>\n",
       "      <td>0.011471</td>\n",
       "      <td>0.011471</td>\n",
       "      <td>0.011471</td>\n",
       "      <td>202.334611</td>\n",
       "      <td>32.152500</td>\n",
       "      <td>4.986284</td>\n",
       "      <td>2.468831e+00</td>\n",
       "      <td>2.909770</td>\n",
       "      <td>2.909770</td>\n",
       "      <td>2.909770</td>\n",
       "    </tr>\n",
       "    <tr>\n",
       "      <th>17</th>\n",
       "      <td>4.284065e-01</td>\n",
       "      <td>0.966316</td>\n",
       "      <td>3.368405e-02</td>\n",
       "      <td>0.838200</td>\n",
       "      <td>264.247804</td>\n",
       "      <td>0.797670</td>\n",
       "      <td>1.290632e-01</td>\n",
       "      <td>0.019193</td>\n",
       "      <td>9.809579e-03</td>\n",
       "      <td>0.010971</td>\n",
       "      <td>0.010971</td>\n",
       "      <td>0.010971</td>\n",
       "      <td>210.782432</td>\n",
       "      <td>34.104674</td>\n",
       "      <td>5.071695</td>\n",
       "      <td>2.592160e+00</td>\n",
       "      <td>2.898948</td>\n",
       "      <td>2.898948</td>\n",
       "      <td>2.898948</td>\n",
       "    </tr>\n",
       "    <tr>\n",
       "      <th>18</th>\n",
       "      <td>4.398282e-01</td>\n",
       "      <td>0.962578</td>\n",
       "      <td>3.742245e-02</td>\n",
       "      <td>0.835541</td>\n",
       "      <td>274.669464</td>\n",
       "      <td>0.797701</td>\n",
       "      <td>1.311887e-01</td>\n",
       "      <td>0.018768</td>\n",
       "      <td>9.879624e-03</td>\n",
       "      <td>0.010513</td>\n",
       "      <td>0.010513</td>\n",
       "      <td>0.010513</td>\n",
       "      <td>219.104013</td>\n",
       "      <td>36.033538</td>\n",
       "      <td>5.155084</td>\n",
       "      <td>2.713631e+00</td>\n",
       "      <td>2.887733</td>\n",
       "      <td>2.887733</td>\n",
       "      <td>2.887733</td>\n",
       "    </tr>\n",
       "    <tr>\n",
       "      <th>19</th>\n",
       "      <td>4.507620e-01</td>\n",
       "      <td>0.958715</td>\n",
       "      <td>4.128469e-02</td>\n",
       "      <td>0.833094</td>\n",
       "      <td>284.945752</td>\n",
       "      <td>0.797724</td>\n",
       "      <td>1.331452e-01</td>\n",
       "      <td>0.018378</td>\n",
       "      <td>9.943551e-03</td>\n",
       "      <td>0.010094</td>\n",
       "      <td>0.010094</td>\n",
       "      <td>0.010094</td>\n",
       "      <td>227.308181</td>\n",
       "      <td>37.939149</td>\n",
       "      <td>5.236611</td>\n",
       "      <td>2.833373e+00</td>\n",
       "      <td>2.876146</td>\n",
       "      <td>2.876146</td>\n",
       "      <td>2.876146</td>\n",
       "    </tr>\n",
       "    <tr>\n",
       "      <th>20</th>\n",
       "      <td>4.612522e-01</td>\n",
       "      <td>0.954736</td>\n",
       "      <td>4.526408e-02</td>\n",
       "      <td>0.830836</td>\n",
       "      <td>295.084613</td>\n",
       "      <td>0.797746</td>\n",
       "      <td>1.349496e-01</td>\n",
       "      <td>0.018017</td>\n",
       "      <td>1.000219e-02</td>\n",
       "      <td>0.009706</td>\n",
       "      <td>0.009706</td>\n",
       "      <td>0.009706</td>\n",
       "      <td>235.402540</td>\n",
       "      <td>39.821540</td>\n",
       "      <td>5.316416</td>\n",
       "      <td>2.951494e+00</td>\n",
       "      <td>2.864208</td>\n",
       "      <td>2.864208</td>\n",
       "      <td>2.864208</td>\n",
       "    </tr>\n",
       "  </tbody>\n",
       "</table>\n",
       "</div>"
      ],
      "text/plain": [
       "     p_collision  p_success      p_failure    p_free  cycle_time      p_bo  \\\n",
       "1   1.808663e-27   1.000000  1.070115e-107  1.000000   52.525587  0.714425   \n",
       "2   8.660267e-02   0.999944   5.625034e-05  0.958659   72.562287  0.754106   \n",
       "3   1.410750e-01   0.999604   3.960957e-04  0.934718   90.348258  0.772326   \n",
       "4   1.819036e-01   0.998905   1.094876e-03  0.917863  106.399434  0.781842   \n",
       "5   2.151348e-01   0.997858   2.142113e-03  0.904857  121.272338  0.787367   \n",
       "6   2.434344e-01   0.996488   3.511783e-03  0.894302  135.302635  0.790804   \n",
       "7   2.682311e-01   0.994823   5.176504e-03  0.885457  148.695466  0.793038   \n",
       "8   2.903900e-01   0.992889   7.110932e-03  0.877882  161.583728  0.794533   \n",
       "9   3.104796e-01   0.990708   9.292490e-03  0.871287  174.058276  0.795552   \n",
       "10  3.288959e-01   0.988299   1.170129e-02  0.865477  186.184036  0.796253   \n",
       "11  3.459272e-01   0.985680   1.431986e-02  0.860308  198.009123  0.796737   \n",
       "12  3.617904e-01   0.982867   1.713279e-02  0.855674  209.570263  0.797071   \n",
       "13  3.766534e-01   0.979874   2.012646e-02  0.851493  220.896184  0.797299   \n",
       "14  3.906488e-01   0.976711   2.328874e-02  0.847701  232.009823  0.797453   \n",
       "15  4.038836e-01   0.973391   2.660878e-02  0.844248  242.929818  0.797556   \n",
       "16  4.164453e-01   0.969923   3.007682e-02  0.841092  253.671535  0.797624   \n",
       "17  4.284065e-01   0.966316   3.368405e-02  0.838200  264.247804  0.797670   \n",
       "18  4.398282e-01   0.962578   3.742245e-02  0.835541  274.669464  0.797701   \n",
       "19  4.507620e-01   0.958715   4.128469e-02  0.833094  284.945752  0.797724   \n",
       "20  4.612522e-01   0.954736   4.526408e-02  0.830836  295.084613  0.797746   \n",
       "\n",
       "          p_wait     p_rts         p_out     p_cts    p_data     p_ack  \\\n",
       "1   7.144248e-08  0.057115  1.033018e-28  0.057115  0.057115  0.057115   \n",
       "2   3.117585e-02  0.045261  4.088777e-03  0.041341  0.041341  0.041341   \n",
       "3   5.041873e-02  0.038643  5.832348e-03  0.033192  0.033192  0.033192   \n",
       "4   6.421806e-02  0.034427  6.822838e-03  0.028165  0.028165  0.028165   \n",
       "5   7.491223e-02  0.031451  7.477624e-03  0.024685  0.024685  0.024685   \n",
       "6   8.358652e-02  0.029204  7.949474e-03  0.022095  0.022095  0.022095   \n",
       "7   9.083674e-02  0.027428  8.308778e-03  0.020071  0.020071  0.020071   \n",
       "8   9.702714e-02  0.025978  8.593109e-03  0.018434  0.018434  0.018434   \n",
       "9   1.023975e-01  0.024764  8.824629e-03  0.017075  0.017075  0.017075   \n",
       "10  1.071142e-01  0.023729  9.017372e-03  0.015925  0.015925  0.015925   \n",
       "11  1.112978e-01  0.022832  9.180720e-03  0.014934  0.014934  0.014934   \n",
       "12  1.150384e-01  0.022046  9.321205e-03  0.014070  0.014070  0.014070   \n",
       "13  1.184048e-01  0.021349  9.443532e-03  0.013308  0.013308  0.013308   \n",
       "14  1.214512e-01  0.020726  9.551182e-03  0.012629  0.012629  0.012629   \n",
       "15  1.242208e-01  0.020165  9.646791e-03  0.012021  0.012021  0.012021   \n",
       "16  1.267486e-01  0.019656  9.732391e-03  0.011471  0.011471  0.011471   \n",
       "17  1.290632e-01  0.019193  9.809579e-03  0.010971  0.010971  0.010971   \n",
       "18  1.311887e-01  0.018768  9.879624e-03  0.010513  0.010513  0.010513   \n",
       "19  1.331452e-01  0.018378  9.943551e-03  0.010094  0.010094  0.010094   \n",
       "20  1.349496e-01  0.018017  1.000219e-02  0.009706  0.009706  0.009706   \n",
       "\n",
       "       bo_time  wait_time  rts_time      out_time  cts_time  data_time  \\\n",
       "1    37.525583   0.000004  3.000000  5.425988e-27  3.000000   3.000000   \n",
       "2    54.719655   2.262191  3.284257  2.966910e-01  2.999831   2.999831   \n",
       "3    69.778281   4.555245  3.491355  5.269425e-01  2.998812   2.998812   \n",
       "4    83.187542   6.832765  3.663034  7.259461e-01  2.996715   2.996715   \n",
       "5    95.485883   9.084781  3.814124  9.068289e-01  2.993574   2.993574   \n",
       "6   106.997818  11.309477  3.951362  1.075585e+00  2.989465   2.989465   \n",
       "7   117.921132  13.507012  4.078433  1.235478e+00  2.984470   2.984470   \n",
       "8   128.383601  15.678007  4.197612  1.388507e+00  2.978667   2.978667   \n",
       "9   138.472363  17.823126  4.310420  1.536000e+00  2.972123   2.972123   \n",
       "10  148.249563  19.942957  4.417938  1.678891e+00  2.964896   2.964896   \n",
       "11  157.761181  22.037990  4.520965  1.817866e+00  2.957040   2.957040   \n",
       "12  167.042275  24.108621  4.620115  1.953447e+00  2.948602   2.948602   \n",
       "13  176.120246  26.155167  4.715868  2.086040e+00  2.939621   2.939621   \n",
       "14  185.016967  28.177875  4.808612  2.215968e+00  2.930134   2.930134   \n",
       "15  193.750204  30.176937  4.898664  2.343493e+00  2.920174   2.920174   \n",
       "16  202.334611  32.152500  4.986284  2.468831e+00  2.909770   2.909770   \n",
       "17  210.782432  34.104674  5.071695  2.592160e+00  2.898948   2.898948   \n",
       "18  219.104013  36.033538  5.155084  2.713631e+00  2.887733   2.887733   \n",
       "19  227.308181  37.939149  5.236611  2.833373e+00  2.876146   2.876146   \n",
       "20  235.402540  39.821540  5.316416  2.951494e+00  2.864208   2.864208   \n",
       "\n",
       "    ack_time  \n",
       "1   3.000000  \n",
       "2   2.999831  \n",
       "3   2.998812  \n",
       "4   2.996715  \n",
       "5   2.993574  \n",
       "6   2.989465  \n",
       "7   2.984470  \n",
       "8   2.978667  \n",
       "9   2.972123  \n",
       "10  2.964896  \n",
       "11  2.957040  \n",
       "12  2.948602  \n",
       "13  2.939621  \n",
       "14  2.930134  \n",
       "15  2.920174  \n",
       "16  2.909770  \n",
       "17  2.898948  \n",
       "18  2.887733  \n",
       "19  2.876146  \n",
       "20  2.864208  "
      ]
     },
     "execution_count": 87,
     "metadata": {},
     "output_type": "execute_result"
    }
   ],
   "source": [
    "# Draw table to evaluate the results\n",
    "data_pd = {}\n",
    "for i in range(1, len(data[0])):\n",
    "    data_pd[data[0][i]] = np.array(data[1:]).T[i]\n",
    "df1 = pd.DataFrame(data_pd, index=np.arange(1, len(np.array(data[1:]).T[0])+1))\n",
    "df1"
   ]
  },
  {
   "cell_type": "code",
   "execution_count": 88,
   "metadata": {},
   "outputs": [],
   "source": [
    "# Here we save our table to csv in the same folder\n",
    "with open('2021-04-08-01.csv', \"wt\", newline=\"\") as file:\n",
    "    writer = csv.writer(file, delimiter=',')\n",
    "    writer.writerow(analytics_headers)\n",
    "    for i in range(1, len(data)):\n",
    "        writer.writerow(data[i])"
   ]
  },
  {
   "cell_type": "code",
   "execution_count": null,
   "metadata": {},
   "outputs": [],
   "source": []
  },
  {
   "cell_type": "code",
   "execution_count": 17,
   "metadata": {},
   "outputs": [
    {
     "name": "stdout",
     "output_type": "stream",
     "text": [
      "1\n",
      "3\n",
      "6\n",
      "10\n",
      "15\n",
      "21\n",
      "28\n",
      "36\n",
      "45\n",
      "55\n",
      "66\n",
      "78\n",
      "91\n",
      "105\n",
      "120\n",
      "136\n",
      "153\n",
      "171\n",
      "190\n",
      "210\n"
     ]
    }
   ],
   "source": [
    "s = 0\n",
    "for i in range(1, 21):\n",
    "    s += i\n",
    "    print(s)"
   ]
  },
  {
   "cell_type": "code",
   "execution_count": 18,
   "metadata": {},
   "outputs": [
    {
     "data": {
      "text/plain": [
       "210"
      ]
     },
     "execution_count": 18,
     "metadata": {},
     "output_type": "execute_result"
    }
   ],
   "source": [
    "s"
   ]
  },
  {
   "cell_type": "code",
   "execution_count": 73,
   "metadata": {},
   "outputs": [
    {
     "data": {
      "text/plain": [
       "1.0"
      ]
     },
     "execution_count": 73,
     "metadata": {},
     "output_type": "execute_result"
    }
   ],
   "source": [
    "simpc = 0.4663487125083911\n",
    "simpf = 0.7931865846302574\n",
    "t1 = pi_idle(simpc, simpf) + pi_bo(simpc, simpf) + pi_rts(simpc, simpf)\n",
    "t2 = pi_cts(simpc, simpf) + pi_data(simpc, simpf) + pi_ack(simpc, simpf)\n",
    "t3 = pi_out(simpc, simpf) + pi_wait(simpc, simpf)\n",
    "t1 + t2 + t3"
   ]
  },
  {
   "cell_type": "code",
   "execution_count": 71,
   "metadata": {},
   "outputs": [
    {
     "data": {
      "text/plain": [
       "307.9090475329297"
      ]
     },
     "execution_count": 71,
     "metadata": {},
     "output_type": "execute_result"
    }
   ],
   "source": [
    "vc = 0.4731246508351256\n",
    "vf = 0.8260981839009207\n",
    "Etc(vc, vf)"
   ]
  },
  {
   "cell_type": "code",
   "execution_count": 29,
   "metadata": {},
   "outputs": [
    {
     "name": "stdout",
     "output_type": "stream",
     "text": [
      "42\n"
     ]
    }
   ],
   "source": [
    "s = 0\n",
    "for i in range(9, 13):\n",
    "    s += i\n",
    "print(s)"
   ]
  },
  {
   "cell_type": "code",
   "execution_count": 30,
   "metadata": {},
   "outputs": [
    {
     "name": "stdout",
     "output_type": "stream",
     "text": [
      "42\n"
     ]
    }
   ],
   "source": [
    "s = 0\n",
    "for i in range(13, 16):\n",
    "    s += i\n",
    "print(s)"
   ]
  },
  {
   "cell_type": "code",
   "execution_count": 31,
   "metadata": {},
   "outputs": [
    {
     "name": "stdout",
     "output_type": "stream",
     "text": [
      "33\n"
     ]
    }
   ],
   "source": [
    "s = 0\n",
    "for i in range(16, 18):\n",
    "    s += i\n",
    "print(s)"
   ]
  },
  {
   "cell_type": "code",
   "execution_count": 32,
   "metadata": {},
   "outputs": [
    {
     "name": "stdout",
     "output_type": "stream",
     "text": [
      "37\n"
     ]
    }
   ],
   "source": [
    "s = 0\n",
    "for i in range(18, 20):\n",
    "    s += i\n",
    "print(s)"
   ]
  },
  {
   "cell_type": "code",
   "execution_count": 33,
   "metadata": {},
   "outputs": [
    {
     "name": "stdout",
     "output_type": "stream",
     "text": [
      "20\n"
     ]
    }
   ],
   "source": [
    "s = 0\n",
    "for i in range(20, 21):\n",
    "    s += i\n",
    "print(s)"
   ]
  },
  {
   "cell_type": "code",
   "execution_count": 61,
   "metadata": {},
   "outputs": [],
   "source": [
    "cp = 0.11111884767821734\n",
    "cf = 0.957330465104775"
   ]
  },
  {
   "cell_type": "code",
   "execution_count": 65,
   "metadata": {},
   "outputs": [
    {
     "data": {
      "text/plain": [
       "0.3916852250936333"
      ]
     },
     "execution_count": 65,
     "metadata": {},
     "output_type": "execute_result"
    }
   ],
   "source": [
    "Etc(cp, cf) * pi_out(cp, cf)"
   ]
  },
  {
   "cell_type": "code",
   "execution_count": null,
   "metadata": {},
   "outputs": [],
   "source": []
  },
  {
   "cell_type": "code",
   "execution_count": null,
   "metadata": {},
   "outputs": [],
   "source": [
    "1 - 8\n",
    "9 - 12\n",
    "13 - 15\n",
    "16 - 17\n",
    "18 - 19\n",
    "20"
   ]
  }
 ],
 "metadata": {
  "kernelspec": {
   "display_name": "Python 3",
   "language": "python",
   "name": "python3"
  },
  "language_info": {
   "codemirror_mode": {
    "name": "ipython",
    "version": 3
   },
   "file_extension": ".py",
   "mimetype": "text/x-python",
   "name": "python",
   "nbconvert_exporter": "python",
   "pygments_lexer": "ipython3",
   "version": "3.8.8"
  }
 },
 "nbformat": 4,
 "nbformat_minor": 2
}
