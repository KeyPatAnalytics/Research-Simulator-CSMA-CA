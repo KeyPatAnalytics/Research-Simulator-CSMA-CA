{
 "cells": [
  {
   "cell_type": "code",
   "execution_count": 21,
   "metadata": {},
   "outputs": [],
   "source": [
    "import csv\n",
    "import matplotlib.pyplot as plt\n",
    "import numpy as np\n",
    "from scipy.optimize import root\n",
    "import scipy.special\n",
    "import pandas as pd\n",
    "import time"
   ]
  },
  {
   "cell_type": "code",
   "execution_count": 23,
   "metadata": {},
   "outputs": [],
   "source": [
    "# СОХРАНЕНИЕ С NPY В CSV\n",
    "threads = 6\n",
    "\n",
    "name = '2021_04_08_02'\n",
    "fullname = 'results/npy/' + name\n",
    "tt = np.load(fullname + '_0.npy')\n",
    "for th in range(1, threads):\n",
    "    ct = np.load(fullname + f'_{th}.npy')\n",
    "    tt = np.concatenate((tt, ct))\n",
    "    \n",
    "    \n",
    "stats_headers = [\n",
    "    'nodes',\n",
    "    'p_collision',\n",
    "    'p_failure',\n",
    "    'p_success',\n",
    "    'p_free',\n",
    "    'p_busy',\n",
    "    'p_rts_rts',\n",
    "    'p_rts_cts',\n",
    "    'p_rts_data',\n",
    "    'p_free_v2',\n",
    "    'cycle_time',\n",
    "    'idle_time',\n",
    "    'bo_time',\n",
    "    'rts_time',\n",
    "    'cts_time',\n",
    "    'data_time',\n",
    "    'ack_time',\n",
    "    'out_time',\n",
    "    'wait_time',\n",
    "]\n",
    "\n",
    "    \n",
    "with open(f'results/csv/{name}.csv', \"wt\", newline=\"\") as file:\n",
    "    writer = csv.writer(file, delimiter=',')\n",
    "    writer.writerow(stats_headers)\n",
    "    for ttt in tt:\n",
    "        writer.writerow(list(ttt))"
   ]
  },
  {
   "cell_type": "code",
   "execution_count": null,
   "metadata": {},
   "outputs": [],
   "source": [
    "\n",
    "            np.average(global_not_any_cts),\n",
    "            global_total_cts_free / global_total_tact,\n",
    "\n",
    "            # Average p free\n",
    "            # np.average(global_p_free2),\n",
    "            # Average cycle time\n",
    "            np.average(global_cycle_times),\n",
    "            np.average(global_idle_times),\n",
    "            np.average(global_bo_times),\n",
    "            np.average(global_rts_times),\n",
    "            np.average(global_cts_times),\n",
    "            np.average(global_data_times),\n",
    "            np.average(global_ack_times),\n",
    "            np.average(global_out_times),\n",
    "            np.average(global_wait_times),"
   ]
  },
  {
   "cell_type": "code",
   "execution_count": 50,
   "metadata": {},
   "outputs": [],
   "source": [
    "threads = 6\n",
    "paa = '1.0'\n",
    "name = 'results/npy/2021_01_12_04'\n",
    "tt = np.load(name + '_0.npy')\n",
    "for th in range(1, threads):\n",
    "    ct = np.load(name + f'_{th}.npy')\n",
    "    tt = np.concatenate((tt, ct))"
   ]
  },
  {
   "cell_type": "code",
   "execution_count": 59,
   "metadata": {},
   "outputs": [],
   "source": [
    "stats_headers = [\n",
    "    'nodes',\n",
    "    'p_collision',\n",
    "#     'p_collision 2',\n",
    "    'p_failure',\n",
    "    'p_success',\n",
    "#     'p_free',\n",
    "    \n",
    "#     'p_busy',\n",
    "    'cycle_time',\n",
    "#     'idle_times',\n",
    "#     'bo_times',\n",
    "#     'rts_times',\n",
    "#     'data_times',\n",
    "#     'cts_times',\n",
    "#     'ack_times',\n",
    "#     'out_times',\n",
    "#     'tau_rts',\n",
    "#     'tau_data',\n",
    "#     'bo 1',\n",
    "#     'bo 2',\n",
    "#     'bo 3',\n",
    "#     'bo 4',\n",
    "#     'bo total',\n",
    "#     'av tr success',\n",
    "#     'av tr failure',\n",
    "#     'av tr total',\n",
    "#     '1 rts fraction',\n",
    "]"
   ]
  },
  {
   "cell_type": "code",
   "execution_count": 19,
   "metadata": {},
   "outputs": [],
   "source": [
    "data = [stats_headers]\n",
    "for i in range(len(tt)):\n",
    "    data.append(tt[i])\n",
    " "
   ]
  },
  {
   "cell_type": "code",
   "execution_count": 20,
   "metadata": {},
   "outputs": [
    {
     "data": {
      "text/html": [
       "<div>\n",
       "<style scoped>\n",
       "    .dataframe tbody tr th:only-of-type {\n",
       "        vertical-align: middle;\n",
       "    }\n",
       "\n",
       "    .dataframe tbody tr th {\n",
       "        vertical-align: top;\n",
       "    }\n",
       "\n",
       "    .dataframe thead th {\n",
       "        text-align: right;\n",
       "    }\n",
       "</style>\n",
       "<table border=\"1\" class=\"dataframe\">\n",
       "  <thead>\n",
       "    <tr style=\"text-align: right;\">\n",
       "      <th></th>\n",
       "      <th>p_collision</th>\n",
       "      <th>p_failure</th>\n",
       "      <th>p_success</th>\n",
       "      <th>p_free</th>\n",
       "      <th>p_busy</th>\n",
       "      <th>p_rts_rts</th>\n",
       "      <th>p_rts_cts</th>\n",
       "      <th>p_rts_data</th>\n",
       "      <th>p_free_v2</th>\n",
       "      <th>cycle_time</th>\n",
       "      <th>idle_time</th>\n",
       "      <th>bo_time</th>\n",
       "      <th>rts_time</th>\n",
       "      <th>cts_time</th>\n",
       "      <th>data_time</th>\n",
       "      <th>ack_time</th>\n",
       "      <th>out_time</th>\n",
       "      <th>wait_time</th>\n",
       "    </tr>\n",
       "  </thead>\n",
       "  <tbody>\n",
       "    <tr>\n",
       "      <th>1</th>\n",
       "      <td>0.000000</td>\n",
       "      <td>0.000000</td>\n",
       "      <td>1.000000</td>\n",
       "      <td>1.000000</td>\n",
       "      <td>0.000000</td>\n",
       "      <td>0.000000</td>\n",
       "      <td>0.000000</td>\n",
       "      <td>0.0</td>\n",
       "      <td>1.000000</td>\n",
       "      <td>52.463614</td>\n",
       "      <td>3.0</td>\n",
       "      <td>37.463614</td>\n",
       "      <td>3.000000</td>\n",
       "      <td>3.000000</td>\n",
       "      <td>3.000000</td>\n",
       "      <td>3.000000</td>\n",
       "      <td>0.000000</td>\n",
       "      <td>0.000000</td>\n",
       "    </tr>\n",
       "    <tr>\n",
       "      <th>2</th>\n",
       "      <td>0.111481</td>\n",
       "      <td>0.000195</td>\n",
       "      <td>0.999805</td>\n",
       "      <td>0.957371</td>\n",
       "      <td>0.042629</td>\n",
       "      <td>0.055889</td>\n",
       "      <td>0.055591</td>\n",
       "      <td>0.0</td>\n",
       "      <td>0.963347</td>\n",
       "      <td>81.831008</td>\n",
       "      <td>3.0</td>\n",
       "      <td>63.363488</td>\n",
       "      <td>3.375749</td>\n",
       "      <td>2.999414</td>\n",
       "      <td>2.999414</td>\n",
       "      <td>2.999414</td>\n",
       "      <td>0.376335</td>\n",
       "      <td>2.717193</td>\n",
       "    </tr>\n",
       "    <tr>\n",
       "      <th>3</th>\n",
       "      <td>0.161676</td>\n",
       "      <td>0.000600</td>\n",
       "      <td>0.999400</td>\n",
       "      <td>0.931478</td>\n",
       "      <td>0.068522</td>\n",
       "      <td>0.086289</td>\n",
       "      <td>0.075387</td>\n",
       "      <td>0.0</td>\n",
       "      <td>0.941160</td>\n",
       "      <td>101.913405</td>\n",
       "      <td>3.0</td>\n",
       "      <td>80.227078</td>\n",
       "      <td>3.576441</td>\n",
       "      <td>2.998201</td>\n",
       "      <td>2.998201</td>\n",
       "      <td>2.998201</td>\n",
       "      <td>0.578240</td>\n",
       "      <td>5.537043</td>\n",
       "    </tr>\n",
       "    <tr>\n",
       "      <th>4</th>\n",
       "      <td>0.198797</td>\n",
       "      <td>0.001652</td>\n",
       "      <td>0.998348</td>\n",
       "      <td>0.912038</td>\n",
       "      <td>0.087962</td>\n",
       "      <td>0.109263</td>\n",
       "      <td>0.089534</td>\n",
       "      <td>0.0</td>\n",
       "      <td>0.924668</td>\n",
       "      <td>119.279339</td>\n",
       "      <td>3.0</td>\n",
       "      <td>94.440279</td>\n",
       "      <td>3.738185</td>\n",
       "      <td>2.995043</td>\n",
       "      <td>2.995043</td>\n",
       "      <td>2.995043</td>\n",
       "      <td>0.743141</td>\n",
       "      <td>8.372605</td>\n",
       "    </tr>\n",
       "    <tr>\n",
       "      <th>5</th>\n",
       "      <td>0.229785</td>\n",
       "      <td>0.002722</td>\n",
       "      <td>0.997278</td>\n",
       "      <td>0.896548</td>\n",
       "      <td>0.103452</td>\n",
       "      <td>0.128886</td>\n",
       "      <td>0.100899</td>\n",
       "      <td>0.0</td>\n",
       "      <td>0.911730</td>\n",
       "      <td>135.578566</td>\n",
       "      <td>3.0</td>\n",
       "      <td>107.602026</td>\n",
       "      <td>3.884417</td>\n",
       "      <td>2.991834</td>\n",
       "      <td>2.991834</td>\n",
       "      <td>2.991834</td>\n",
       "      <td>0.892582</td>\n",
       "      <td>11.224038</td>\n",
       "    </tr>\n",
       "    <tr>\n",
       "      <th>6</th>\n",
       "      <td>0.257728</td>\n",
       "      <td>0.004442</td>\n",
       "      <td>0.995558</td>\n",
       "      <td>0.883767</td>\n",
       "      <td>0.116233</td>\n",
       "      <td>0.148267</td>\n",
       "      <td>0.109461</td>\n",
       "      <td>0.0</td>\n",
       "      <td>0.901158</td>\n",
       "      <td>151.094814</td>\n",
       "      <td>3.0</td>\n",
       "      <td>120.004933</td>\n",
       "      <td>4.023697</td>\n",
       "      <td>2.986674</td>\n",
       "      <td>2.986674</td>\n",
       "      <td>2.986674</td>\n",
       "      <td>1.037024</td>\n",
       "      <td>14.069139</td>\n",
       "    </tr>\n",
       "    <tr>\n",
       "      <th>7</th>\n",
       "      <td>0.280134</td>\n",
       "      <td>0.005696</td>\n",
       "      <td>0.994304</td>\n",
       "      <td>0.872100</td>\n",
       "      <td>0.127900</td>\n",
       "      <td>0.164490</td>\n",
       "      <td>0.115645</td>\n",
       "      <td>0.0</td>\n",
       "      <td>0.891761</td>\n",
       "      <td>165.360280</td>\n",
       "      <td>3.0</td>\n",
       "      <td>131.180751</td>\n",
       "      <td>4.143670</td>\n",
       "      <td>2.982911</td>\n",
       "      <td>2.982911</td>\n",
       "      <td>2.982911</td>\n",
       "      <td>1.160759</td>\n",
       "      <td>16.926366</td>\n",
       "    </tr>\n",
       "    <tr>\n",
       "      <th>8</th>\n",
       "      <td>0.302781</td>\n",
       "      <td>0.008536</td>\n",
       "      <td>0.991464</td>\n",
       "      <td>0.862383</td>\n",
       "      <td>0.137617</td>\n",
       "      <td>0.181730</td>\n",
       "      <td>0.121051</td>\n",
       "      <td>0.0</td>\n",
       "      <td>0.884008</td>\n",
       "      <td>179.509849</td>\n",
       "      <td>3.0</td>\n",
       "      <td>142.271916</td>\n",
       "      <td>4.266113</td>\n",
       "      <td>2.974391</td>\n",
       "      <td>2.974391</td>\n",
       "      <td>2.974391</td>\n",
       "      <td>1.291723</td>\n",
       "      <td>19.756924</td>\n",
       "    </tr>\n",
       "    <tr>\n",
       "      <th>9</th>\n",
       "      <td>0.322083</td>\n",
       "      <td>0.010767</td>\n",
       "      <td>0.989233</td>\n",
       "      <td>0.853840</td>\n",
       "      <td>0.146160</td>\n",
       "      <td>0.196230</td>\n",
       "      <td>0.125853</td>\n",
       "      <td>0.0</td>\n",
       "      <td>0.877227</td>\n",
       "      <td>193.393285</td>\n",
       "      <td>3.0</td>\n",
       "      <td>153.116646</td>\n",
       "      <td>4.377692</td>\n",
       "      <td>2.967699</td>\n",
       "      <td>2.967699</td>\n",
       "      <td>2.967699</td>\n",
       "      <td>1.409993</td>\n",
       "      <td>22.585856</td>\n",
       "    </tr>\n",
       "    <tr>\n",
       "      <th>10</th>\n",
       "      <td>0.339157</td>\n",
       "      <td>0.013178</td>\n",
       "      <td>0.986822</td>\n",
       "      <td>0.845414</td>\n",
       "      <td>0.154586</td>\n",
       "      <td>0.209237</td>\n",
       "      <td>0.129920</td>\n",
       "      <td>0.0</td>\n",
       "      <td>0.870681</td>\n",
       "      <td>206.050277</td>\n",
       "      <td>3.0</td>\n",
       "      <td>162.771875</td>\n",
       "      <td>4.479890</td>\n",
       "      <td>2.960467</td>\n",
       "      <td>2.960467</td>\n",
       "      <td>2.960467</td>\n",
       "      <td>1.519423</td>\n",
       "      <td>25.397688</td>\n",
       "    </tr>\n",
       "    <tr>\n",
       "      <th>11</th>\n",
       "      <td>0.356046</td>\n",
       "      <td>0.016130</td>\n",
       "      <td>0.983870</td>\n",
       "      <td>0.838090</td>\n",
       "      <td>0.161910</td>\n",
       "      <td>0.223604</td>\n",
       "      <td>0.132442</td>\n",
       "      <td>0.0</td>\n",
       "      <td>0.865063</td>\n",
       "      <td>218.756950</td>\n",
       "      <td>3.0</td>\n",
       "      <td>172.493688</td>\n",
       "      <td>4.583593</td>\n",
       "      <td>2.951610</td>\n",
       "      <td>2.951610</td>\n",
       "      <td>2.951610</td>\n",
       "      <td>1.631983</td>\n",
       "      <td>28.192856</td>\n",
       "    </tr>\n",
       "    <tr>\n",
       "      <th>12</th>\n",
       "      <td>0.371683</td>\n",
       "      <td>0.019145</td>\n",
       "      <td>0.980855</td>\n",
       "      <td>0.831789</td>\n",
       "      <td>0.168211</td>\n",
       "      <td>0.235190</td>\n",
       "      <td>0.136493</td>\n",
       "      <td>0.0</td>\n",
       "      <td>0.860205</td>\n",
       "      <td>231.555741</td>\n",
       "      <td>3.0</td>\n",
       "      <td>182.339670</td>\n",
       "      <td>4.683299</td>\n",
       "      <td>2.942566</td>\n",
       "      <td>2.942566</td>\n",
       "      <td>2.942566</td>\n",
       "      <td>1.740733</td>\n",
       "      <td>30.964341</td>\n",
       "    </tr>\n",
       "    <tr>\n",
       "      <th>13</th>\n",
       "      <td>0.385763</td>\n",
       "      <td>0.022453</td>\n",
       "      <td>0.977547</td>\n",
       "      <td>0.825045</td>\n",
       "      <td>0.174955</td>\n",
       "      <td>0.247916</td>\n",
       "      <td>0.137847</td>\n",
       "      <td>0.0</td>\n",
       "      <td>0.855164</td>\n",
       "      <td>242.991399</td>\n",
       "      <td>3.0</td>\n",
       "      <td>190.862450</td>\n",
       "      <td>4.774473</td>\n",
       "      <td>2.932642</td>\n",
       "      <td>2.932642</td>\n",
       "      <td>2.932642</td>\n",
       "      <td>1.841831</td>\n",
       "      <td>33.714718</td>\n",
       "    </tr>\n",
       "    <tr>\n",
       "      <th>14</th>\n",
       "      <td>0.398885</td>\n",
       "      <td>0.025263</td>\n",
       "      <td>0.974737</td>\n",
       "      <td>0.819491</td>\n",
       "      <td>0.180509</td>\n",
       "      <td>0.259113</td>\n",
       "      <td>0.139772</td>\n",
       "      <td>0.0</td>\n",
       "      <td>0.850977</td>\n",
       "      <td>255.124333</td>\n",
       "      <td>3.0</td>\n",
       "      <td>200.080035</td>\n",
       "      <td>4.864681</td>\n",
       "      <td>2.924210</td>\n",
       "      <td>2.924210</td>\n",
       "      <td>2.924210</td>\n",
       "      <td>1.940471</td>\n",
       "      <td>36.466517</td>\n",
       "    </tr>\n",
       "    <tr>\n",
       "      <th>15</th>\n",
       "      <td>0.412815</td>\n",
       "      <td>0.029315</td>\n",
       "      <td>0.970685</td>\n",
       "      <td>0.814689</td>\n",
       "      <td>0.185311</td>\n",
       "      <td>0.271783</td>\n",
       "      <td>0.141032</td>\n",
       "      <td>0.0</td>\n",
       "      <td>0.847369</td>\n",
       "      <td>267.132358</td>\n",
       "      <td>3.0</td>\n",
       "      <td>209.236229</td>\n",
       "      <td>4.959378</td>\n",
       "      <td>2.912054</td>\n",
       "      <td>2.912054</td>\n",
       "      <td>2.912054</td>\n",
       "      <td>2.047324</td>\n",
       "      <td>39.153266</td>\n",
       "    </tr>\n",
       "    <tr>\n",
       "      <th>16</th>\n",
       "      <td>0.424540</td>\n",
       "      <td>0.032492</td>\n",
       "      <td>0.967508</td>\n",
       "      <td>0.809571</td>\n",
       "      <td>0.190429</td>\n",
       "      <td>0.281630</td>\n",
       "      <td>0.142910</td>\n",
       "      <td>0.0</td>\n",
       "      <td>0.843616</td>\n",
       "      <td>278.448204</td>\n",
       "      <td>3.0</td>\n",
       "      <td>217.692108</td>\n",
       "      <td>5.043957</td>\n",
       "      <td>2.902523</td>\n",
       "      <td>2.902523</td>\n",
       "      <td>2.902523</td>\n",
       "      <td>2.141434</td>\n",
       "      <td>41.863137</td>\n",
       "    </tr>\n",
       "    <tr>\n",
       "      <th>17</th>\n",
       "      <td>0.436678</td>\n",
       "      <td>0.036240</td>\n",
       "      <td>0.963760</td>\n",
       "      <td>0.805377</td>\n",
       "      <td>0.194623</td>\n",
       "      <td>0.293417</td>\n",
       "      <td>0.143262</td>\n",
       "      <td>0.0</td>\n",
       "      <td>0.840519</td>\n",
       "      <td>290.088068</td>\n",
       "      <td>3.0</td>\n",
       "      <td>226.518370</td>\n",
       "      <td>5.132539</td>\n",
       "      <td>2.891280</td>\n",
       "      <td>2.891280</td>\n",
       "      <td>2.891280</td>\n",
       "      <td>2.241259</td>\n",
       "      <td>44.522060</td>\n",
       "    </tr>\n",
       "    <tr>\n",
       "      <th>18</th>\n",
       "      <td>0.446657</td>\n",
       "      <td>0.039755</td>\n",
       "      <td>0.960245</td>\n",
       "      <td>0.801115</td>\n",
       "      <td>0.198885</td>\n",
       "      <td>0.301663</td>\n",
       "      <td>0.144994</td>\n",
       "      <td>0.0</td>\n",
       "      <td>0.837406</td>\n",
       "      <td>301.197865</td>\n",
       "      <td>3.0</td>\n",
       "      <td>234.853175</td>\n",
       "      <td>5.205918</td>\n",
       "      <td>2.880735</td>\n",
       "      <td>2.880735</td>\n",
       "      <td>2.880735</td>\n",
       "      <td>2.325183</td>\n",
       "      <td>47.171383</td>\n",
       "    </tr>\n",
       "    <tr>\n",
       "      <th>19</th>\n",
       "      <td>0.457413</td>\n",
       "      <td>0.043890</td>\n",
       "      <td>0.956110</td>\n",
       "      <td>0.797186</td>\n",
       "      <td>0.202814</td>\n",
       "      <td>0.312307</td>\n",
       "      <td>0.145106</td>\n",
       "      <td>0.0</td>\n",
       "      <td>0.834552</td>\n",
       "      <td>312.083133</td>\n",
       "      <td>3.0</td>\n",
       "      <td>242.999073</td>\n",
       "      <td>5.286342</td>\n",
       "      <td>2.868331</td>\n",
       "      <td>2.868331</td>\n",
       "      <td>2.868331</td>\n",
       "      <td>2.418010</td>\n",
       "      <td>49.774714</td>\n",
       "    </tr>\n",
       "    <tr>\n",
       "      <th>20</th>\n",
       "      <td>0.467517</td>\n",
       "      <td>0.048033</td>\n",
       "      <td>0.951967</td>\n",
       "      <td>0.793769</td>\n",
       "      <td>0.206231</td>\n",
       "      <td>0.322288</td>\n",
       "      <td>0.145229</td>\n",
       "      <td>0.0</td>\n",
       "      <td>0.832086</td>\n",
       "      <td>323.211857</td>\n",
       "      <td>3.0</td>\n",
       "      <td>251.407613</td>\n",
       "      <td>5.363535</td>\n",
       "      <td>2.855901</td>\n",
       "      <td>2.855901</td>\n",
       "      <td>2.855901</td>\n",
       "      <td>2.507634</td>\n",
       "      <td>52.365372</td>\n",
       "    </tr>\n",
       "  </tbody>\n",
       "</table>\n",
       "</div>"
      ],
      "text/plain": [
       "    p_collision  p_failure  p_success    p_free    p_busy  p_rts_rts  \\\n",
       "1      0.000000   0.000000   1.000000  1.000000  0.000000   0.000000   \n",
       "2      0.111481   0.000195   0.999805  0.957371  0.042629   0.055889   \n",
       "3      0.161676   0.000600   0.999400  0.931478  0.068522   0.086289   \n",
       "4      0.198797   0.001652   0.998348  0.912038  0.087962   0.109263   \n",
       "5      0.229785   0.002722   0.997278  0.896548  0.103452   0.128886   \n",
       "6      0.257728   0.004442   0.995558  0.883767  0.116233   0.148267   \n",
       "7      0.280134   0.005696   0.994304  0.872100  0.127900   0.164490   \n",
       "8      0.302781   0.008536   0.991464  0.862383  0.137617   0.181730   \n",
       "9      0.322083   0.010767   0.989233  0.853840  0.146160   0.196230   \n",
       "10     0.339157   0.013178   0.986822  0.845414  0.154586   0.209237   \n",
       "11     0.356046   0.016130   0.983870  0.838090  0.161910   0.223604   \n",
       "12     0.371683   0.019145   0.980855  0.831789  0.168211   0.235190   \n",
       "13     0.385763   0.022453   0.977547  0.825045  0.174955   0.247916   \n",
       "14     0.398885   0.025263   0.974737  0.819491  0.180509   0.259113   \n",
       "15     0.412815   0.029315   0.970685  0.814689  0.185311   0.271783   \n",
       "16     0.424540   0.032492   0.967508  0.809571  0.190429   0.281630   \n",
       "17     0.436678   0.036240   0.963760  0.805377  0.194623   0.293417   \n",
       "18     0.446657   0.039755   0.960245  0.801115  0.198885   0.301663   \n",
       "19     0.457413   0.043890   0.956110  0.797186  0.202814   0.312307   \n",
       "20     0.467517   0.048033   0.951967  0.793769  0.206231   0.322288   \n",
       "\n",
       "    p_rts_cts  p_rts_data  p_free_v2  cycle_time  idle_time     bo_time  \\\n",
       "1    0.000000         0.0   1.000000   52.463614        3.0   37.463614   \n",
       "2    0.055591         0.0   0.963347   81.831008        3.0   63.363488   \n",
       "3    0.075387         0.0   0.941160  101.913405        3.0   80.227078   \n",
       "4    0.089534         0.0   0.924668  119.279339        3.0   94.440279   \n",
       "5    0.100899         0.0   0.911730  135.578566        3.0  107.602026   \n",
       "6    0.109461         0.0   0.901158  151.094814        3.0  120.004933   \n",
       "7    0.115645         0.0   0.891761  165.360280        3.0  131.180751   \n",
       "8    0.121051         0.0   0.884008  179.509849        3.0  142.271916   \n",
       "9    0.125853         0.0   0.877227  193.393285        3.0  153.116646   \n",
       "10   0.129920         0.0   0.870681  206.050277        3.0  162.771875   \n",
       "11   0.132442         0.0   0.865063  218.756950        3.0  172.493688   \n",
       "12   0.136493         0.0   0.860205  231.555741        3.0  182.339670   \n",
       "13   0.137847         0.0   0.855164  242.991399        3.0  190.862450   \n",
       "14   0.139772         0.0   0.850977  255.124333        3.0  200.080035   \n",
       "15   0.141032         0.0   0.847369  267.132358        3.0  209.236229   \n",
       "16   0.142910         0.0   0.843616  278.448204        3.0  217.692108   \n",
       "17   0.143262         0.0   0.840519  290.088068        3.0  226.518370   \n",
       "18   0.144994         0.0   0.837406  301.197865        3.0  234.853175   \n",
       "19   0.145106         0.0   0.834552  312.083133        3.0  242.999073   \n",
       "20   0.145229         0.0   0.832086  323.211857        3.0  251.407613   \n",
       "\n",
       "    rts_time  cts_time  data_time  ack_time  out_time  wait_time  \n",
       "1   3.000000  3.000000   3.000000  3.000000  0.000000   0.000000  \n",
       "2   3.375749  2.999414   2.999414  2.999414  0.376335   2.717193  \n",
       "3   3.576441  2.998201   2.998201  2.998201  0.578240   5.537043  \n",
       "4   3.738185  2.995043   2.995043  2.995043  0.743141   8.372605  \n",
       "5   3.884417  2.991834   2.991834  2.991834  0.892582  11.224038  \n",
       "6   4.023697  2.986674   2.986674  2.986674  1.037024  14.069139  \n",
       "7   4.143670  2.982911   2.982911  2.982911  1.160759  16.926366  \n",
       "8   4.266113  2.974391   2.974391  2.974391  1.291723  19.756924  \n",
       "9   4.377692  2.967699   2.967699  2.967699  1.409993  22.585856  \n",
       "10  4.479890  2.960467   2.960467  2.960467  1.519423  25.397688  \n",
       "11  4.583593  2.951610   2.951610  2.951610  1.631983  28.192856  \n",
       "12  4.683299  2.942566   2.942566  2.942566  1.740733  30.964341  \n",
       "13  4.774473  2.932642   2.932642  2.932642  1.841831  33.714718  \n",
       "14  4.864681  2.924210   2.924210  2.924210  1.940471  36.466517  \n",
       "15  4.959378  2.912054   2.912054  2.912054  2.047324  39.153266  \n",
       "16  5.043957  2.902523   2.902523  2.902523  2.141434  41.863137  \n",
       "17  5.132539  2.891280   2.891280  2.891280  2.241259  44.522060  \n",
       "18  5.205918  2.880735   2.880735  2.880735  2.325183  47.171383  \n",
       "19  5.286342  2.868331   2.868331  2.868331  2.418010  49.774714  \n",
       "20  5.363535  2.855901   2.855901  2.855901  2.507634  52.365372  "
      ]
     },
     "execution_count": 20,
     "metadata": {},
     "output_type": "execute_result"
    }
   ],
   "source": [
    "data_pd = {}\n",
    "for i in range(1, len(data[0])):\n",
    "    data_pd[data[0][i]] = np.array(data[1:]).T[i]\n",
    "df1 = pd.DataFrame(data_pd, index=np.arange(1, len(np.array(data[1:]).T[0])+1))\n",
    "df1"
   ]
  },
  {
   "cell_type": "code",
   "execution_count": 10,
   "metadata": {},
   "outputs": [
    {
     "data": {
      "text/html": [
       "<div>\n",
       "<style scoped>\n",
       "    .dataframe tbody tr th:only-of-type {\n",
       "        vertical-align: middle;\n",
       "    }\n",
       "\n",
       "    .dataframe tbody tr th {\n",
       "        vertical-align: top;\n",
       "    }\n",
       "\n",
       "    .dataframe thead th {\n",
       "        text-align: right;\n",
       "    }\n",
       "</style>\n",
       "<table border=\"1\" class=\"dataframe\">\n",
       "  <thead>\n",
       "    <tr style=\"text-align: right;\">\n",
       "      <th></th>\n",
       "      <th>car</th>\n",
       "      <th>cost</th>\n",
       "      <th>class</th>\n",
       "    </tr>\n",
       "  </thead>\n",
       "  <tbody>\n",
       "    <tr>\n",
       "      <th>0</th>\n",
       "      <td>bmw</td>\n",
       "      <td>3kk</td>\n",
       "      <td>s</td>\n",
       "    </tr>\n",
       "    <tr>\n",
       "      <th>1</th>\n",
       "      <td>mers</td>\n",
       "      <td>4kk</td>\n",
       "      <td>s</td>\n",
       "    </tr>\n",
       "  </tbody>\n",
       "</table>\n",
       "</div>"
      ],
      "text/plain": [
       "    car cost class\n",
       "0   bmw  3kk     s\n",
       "1  mers  4kk     s"
      ]
     },
     "execution_count": 10,
     "metadata": {},
     "output_type": "execute_result"
    }
   ],
   "source": [
    "list1 = ['car', 'bmw', 'mers']\n",
    "list2 = ['cost', '3kk', '4kk']\n",
    "list3 = ['class', 's', 's']\n",
    "\n",
    "data = [list1, list2, list3]\n",
    "\n",
    "data_pd = {}\n",
    "\n",
    "for i in range(len(data[0])):\n",
    "    data_pd[data[i][0]] = np.array(data[i][1:])\n",
    "df1 = pd.DataFrame(data_pd, index=None)\n",
    "df1"
   ]
  },
  {
   "cell_type": "code",
   "execution_count": 15,
   "metadata": {},
   "outputs": [
    {
     "ename": "TypeError",
     "evalue": "The parameter \"keys\" may be a column key, one-dimensional array, or a list containing only valid column keys and one-dimensional arrays.. Received column of type <class 'dict'>",
     "output_type": "error",
     "traceback": [
      "\u001b[1;31m---------------------------------------------------------------------------\u001b[0m",
      "\u001b[1;31mTypeError\u001b[0m                                 Traceback (most recent call last)",
      "\u001b[1;32m~\\Anaconda3\\envs\\science\\lib\\site-packages\\pandas\\core\\frame.py\u001b[0m in \u001b[0;36mset_index\u001b[1;34m(self, keys, drop, append, inplace, verify_integrity)\u001b[0m\n\u001b[0;32m   4294\u001b[0m                 \u001b[1;32mtry\u001b[0m\u001b[1;33m:\u001b[0m\u001b[1;33m\u001b[0m\u001b[1;33m\u001b[0m\u001b[0m\n\u001b[1;32m-> 4295\u001b[1;33m                     \u001b[0mfound\u001b[0m \u001b[1;33m=\u001b[0m \u001b[0mcol\u001b[0m \u001b[1;32min\u001b[0m \u001b[0mself\u001b[0m\u001b[1;33m.\u001b[0m\u001b[0mcolumns\u001b[0m\u001b[1;33m\u001b[0m\u001b[1;33m\u001b[0m\u001b[0m\n\u001b[0m\u001b[0;32m   4296\u001b[0m                 \u001b[1;32mexcept\u001b[0m \u001b[0mTypeError\u001b[0m\u001b[1;33m:\u001b[0m\u001b[1;33m\u001b[0m\u001b[1;33m\u001b[0m\u001b[0m\n",
      "\u001b[1;32m~\\Anaconda3\\envs\\science\\lib\\site-packages\\pandas\\core\\indexes\\base.py\u001b[0m in \u001b[0;36m__contains__\u001b[1;34m(self, key)\u001b[0m\n\u001b[0;32m   3898\u001b[0m     \u001b[1;32mdef\u001b[0m \u001b[0m__contains__\u001b[0m\u001b[1;33m(\u001b[0m\u001b[0mself\u001b[0m\u001b[1;33m,\u001b[0m \u001b[0mkey\u001b[0m\u001b[1;33m)\u001b[0m \u001b[1;33m->\u001b[0m \u001b[0mbool\u001b[0m\u001b[1;33m:\u001b[0m\u001b[1;33m\u001b[0m\u001b[1;33m\u001b[0m\u001b[0m\n\u001b[1;32m-> 3899\u001b[1;33m         \u001b[0mhash\u001b[0m\u001b[1;33m(\u001b[0m\u001b[0mkey\u001b[0m\u001b[1;33m)\u001b[0m\u001b[1;33m\u001b[0m\u001b[1;33m\u001b[0m\u001b[0m\n\u001b[0m\u001b[0;32m   3900\u001b[0m         \u001b[1;32mtry\u001b[0m\u001b[1;33m:\u001b[0m\u001b[1;33m\u001b[0m\u001b[1;33m\u001b[0m\u001b[0m\n",
      "\u001b[1;31mTypeError\u001b[0m: unhashable type: 'dict'",
      "\nDuring handling of the above exception, another exception occurred:\n",
      "\u001b[1;31mTypeError\u001b[0m                                 Traceback (most recent call last)",
      "\u001b[1;32m<ipython-input-15-fd04cbcfa444>\u001b[0m in \u001b[0;36m<module>\u001b[1;34m\u001b[0m\n\u001b[0;32m     11\u001b[0m }\n\u001b[0;32m     12\u001b[0m \u001b[1;33m\u001b[0m\u001b[0m\n\u001b[1;32m---> 13\u001b[1;33m \u001b[0mdf1\u001b[0m \u001b[1;33m=\u001b[0m \u001b[0mpd\u001b[0m\u001b[1;33m.\u001b[0m\u001b[0mDataFrame\u001b[0m\u001b[1;33m(\u001b[0m\u001b[0mdata_pd\u001b[0m\u001b[1;33m)\u001b[0m\u001b[1;33m.\u001b[0m\u001b[0mset_index\u001b[0m\u001b[1;33m(\u001b[0m\u001b[1;33m{\u001b[0m\u001b[1;33m}\u001b[0m\u001b[1;33m)\u001b[0m\u001b[1;33m\u001b[0m\u001b[1;33m\u001b[0m\u001b[0m\n\u001b[0m\u001b[0;32m     14\u001b[0m \u001b[0mdf1\u001b[0m\u001b[1;33m\u001b[0m\u001b[1;33m\u001b[0m\u001b[0m\n",
      "\u001b[1;32m~\\Anaconda3\\envs\\science\\lib\\site-packages\\pandas\\core\\frame.py\u001b[0m in \u001b[0;36mset_index\u001b[1;34m(self, keys, drop, append, inplace, verify_integrity)\u001b[0m\n\u001b[0;32m   4295\u001b[0m                     \u001b[0mfound\u001b[0m \u001b[1;33m=\u001b[0m \u001b[0mcol\u001b[0m \u001b[1;32min\u001b[0m \u001b[0mself\u001b[0m\u001b[1;33m.\u001b[0m\u001b[0mcolumns\u001b[0m\u001b[1;33m\u001b[0m\u001b[1;33m\u001b[0m\u001b[0m\n\u001b[0;32m   4296\u001b[0m                 \u001b[1;32mexcept\u001b[0m \u001b[0mTypeError\u001b[0m\u001b[1;33m:\u001b[0m\u001b[1;33m\u001b[0m\u001b[1;33m\u001b[0m\u001b[0m\n\u001b[1;32m-> 4297\u001b[1;33m                     \u001b[1;32mraise\u001b[0m \u001b[0mTypeError\u001b[0m\u001b[1;33m(\u001b[0m\u001b[1;34mf\"{err_msg}. Received column of type {type(col)}\"\u001b[0m\u001b[1;33m)\u001b[0m\u001b[1;33m\u001b[0m\u001b[1;33m\u001b[0m\u001b[0m\n\u001b[0m\u001b[0;32m   4298\u001b[0m                 \u001b[1;32melse\u001b[0m\u001b[1;33m:\u001b[0m\u001b[1;33m\u001b[0m\u001b[1;33m\u001b[0m\u001b[0m\n\u001b[0;32m   4299\u001b[0m                     \u001b[1;32mif\u001b[0m \u001b[1;32mnot\u001b[0m \u001b[0mfound\u001b[0m\u001b[1;33m:\u001b[0m\u001b[1;33m\u001b[0m\u001b[1;33m\u001b[0m\u001b[0m\n",
      "\u001b[1;31mTypeError\u001b[0m: The parameter \"keys\" may be a column key, one-dimensional array, or a list containing only valid column keys and one-dimensional arrays.. Received column of type <class 'dict'>"
     ]
    }
   ],
   "source": [
    "list1 = ['car', 'bmw', 'mers']\n",
    "list2 = ['cost', '3kk', '4kk']\n",
    "list3 = ['class', 's', 's']\n",
    "\n",
    "data = [list1, list2, list3]\n",
    "\n",
    "data_pd = {\n",
    "    list1[0]: np.array(list1[1:]),\n",
    "    list2[0]: np.array(list2[1:]),\n",
    "    list3[0]: np.array(list3[1:]),\n",
    "}\n",
    "\n",
    "df1 = pd.DataFrame(data_pd).set_index({})\n",
    "df1"
   ]
  },
  {
   "cell_type": "code",
   "execution_count": 22,
   "metadata": {},
   "outputs": [
    {
     "ename": "ValueError",
     "evalue": "x and y must have same first dimension, but have shapes (30,) and (50,)",
     "output_type": "error",
     "traceback": [
      "\u001b[1;31m---------------------------------------------------------------------------\u001b[0m",
      "\u001b[1;31mValueError\u001b[0m                                Traceback (most recent call last)",
      "\u001b[1;32m<ipython-input-22-62741fada71f>\u001b[0m in \u001b[0;36m<module>\u001b[1;34m\u001b[0m\n\u001b[0;32m      2\u001b[0m \u001b[0mdatap\u001b[0m \u001b[1;33m=\u001b[0m \u001b[0mnp\u001b[0m\u001b[1;33m.\u001b[0m\u001b[0marray\u001b[0m\u001b[1;33m(\u001b[0m\u001b[0mdata\u001b[0m\u001b[1;33m[\u001b[0m\u001b[1;36m1\u001b[0m\u001b[1;33m:\u001b[0m\u001b[1;33m]\u001b[0m\u001b[1;33m)\u001b[0m\u001b[1;33m.\u001b[0m\u001b[0mT\u001b[0m\u001b[1;33m[\u001b[0m\u001b[1;36m1\u001b[0m\u001b[1;33m]\u001b[0m\u001b[1;33m\u001b[0m\u001b[1;33m\u001b[0m\u001b[0m\n\u001b[0;32m      3\u001b[0m \u001b[1;31m# plt.plot(np.arange(1, 51), dataold, label='old')\u001b[0m\u001b[1;33m\u001b[0m\u001b[1;33m\u001b[0m\u001b[1;33m\u001b[0m\u001b[0m\n\u001b[1;32m----> 4\u001b[1;33m \u001b[0mplt\u001b[0m\u001b[1;33m.\u001b[0m\u001b[0mplot\u001b[0m\u001b[1;33m(\u001b[0m\u001b[0mnp\u001b[0m\u001b[1;33m.\u001b[0m\u001b[0marange\u001b[0m\u001b[1;33m(\u001b[0m\u001b[1;36m1\u001b[0m\u001b[1;33m,\u001b[0m \u001b[1;36m31\u001b[0m\u001b[1;33m)\u001b[0m\u001b[1;33m,\u001b[0m \u001b[0mdatap\u001b[0m\u001b[1;33m,\u001b[0m \u001b[0mlabel\u001b[0m\u001b[1;33m=\u001b[0m\u001b[1;34m'p{collision}'\u001b[0m\u001b[1;33m)\u001b[0m\u001b[1;33m\u001b[0m\u001b[1;33m\u001b[0m\u001b[0m\n\u001b[0m\u001b[0;32m      5\u001b[0m \u001b[0mplt\u001b[0m\u001b[1;33m.\u001b[0m\u001b[0mplot\u001b[0m\u001b[1;33m(\u001b[0m\u001b[0mnp\u001b[0m\u001b[1;33m.\u001b[0m\u001b[0marange\u001b[0m\u001b[1;33m(\u001b[0m\u001b[1;36m1\u001b[0m\u001b[1;33m,\u001b[0m \u001b[1;36m31\u001b[0m\u001b[1;33m)\u001b[0m\u001b[1;33m,\u001b[0m \u001b[0mp\u001b[0m\u001b[1;33m,\u001b[0m \u001b[0mlabel\u001b[0m\u001b[1;33m=\u001b[0m\u001b[1;34m'analytic'\u001b[0m\u001b[1;33m)\u001b[0m\u001b[1;33m\u001b[0m\u001b[1;33m\u001b[0m\u001b[0m\n\u001b[0;32m      6\u001b[0m \u001b[1;31m# plt.plot(np.arange(1, 31), p3, label='analytic Emil')\u001b[0m\u001b[1;33m\u001b[0m\u001b[1;33m\u001b[0m\u001b[1;33m\u001b[0m\u001b[0m\n",
      "\u001b[1;32m~\\Anaconda3\\envs\\science\\lib\\site-packages\\matplotlib\\pyplot.py\u001b[0m in \u001b[0;36mplot\u001b[1;34m(scalex, scaley, data, *args, **kwargs)\u001b[0m\n\u001b[0;32m   2793\u001b[0m     return gca().plot(\n\u001b[0;32m   2794\u001b[0m         *args, scalex=scalex, scaley=scaley, **({\"data\": data} if data\n\u001b[1;32m-> 2795\u001b[1;33m         is not None else {}), **kwargs)\n\u001b[0m\u001b[0;32m   2796\u001b[0m \u001b[1;33m\u001b[0m\u001b[0m\n\u001b[0;32m   2797\u001b[0m \u001b[1;33m\u001b[0m\u001b[0m\n",
      "\u001b[1;32m~\\Anaconda3\\envs\\science\\lib\\site-packages\\matplotlib\\axes\\_axes.py\u001b[0m in \u001b[0;36mplot\u001b[1;34m(self, scalex, scaley, data, *args, **kwargs)\u001b[0m\n\u001b[0;32m   1664\u001b[0m         \"\"\"\n\u001b[0;32m   1665\u001b[0m         \u001b[0mkwargs\u001b[0m \u001b[1;33m=\u001b[0m \u001b[0mcbook\u001b[0m\u001b[1;33m.\u001b[0m\u001b[0mnormalize_kwargs\u001b[0m\u001b[1;33m(\u001b[0m\u001b[0mkwargs\u001b[0m\u001b[1;33m,\u001b[0m \u001b[0mmlines\u001b[0m\u001b[1;33m.\u001b[0m\u001b[0mLine2D\u001b[0m\u001b[1;33m.\u001b[0m\u001b[0m_alias_map\u001b[0m\u001b[1;33m)\u001b[0m\u001b[1;33m\u001b[0m\u001b[1;33m\u001b[0m\u001b[0m\n\u001b[1;32m-> 1666\u001b[1;33m         \u001b[0mlines\u001b[0m \u001b[1;33m=\u001b[0m \u001b[1;33m[\u001b[0m\u001b[1;33m*\u001b[0m\u001b[0mself\u001b[0m\u001b[1;33m.\u001b[0m\u001b[0m_get_lines\u001b[0m\u001b[1;33m(\u001b[0m\u001b[1;33m*\u001b[0m\u001b[0margs\u001b[0m\u001b[1;33m,\u001b[0m \u001b[0mdata\u001b[0m\u001b[1;33m=\u001b[0m\u001b[0mdata\u001b[0m\u001b[1;33m,\u001b[0m \u001b[1;33m**\u001b[0m\u001b[0mkwargs\u001b[0m\u001b[1;33m)\u001b[0m\u001b[1;33m]\u001b[0m\u001b[1;33m\u001b[0m\u001b[1;33m\u001b[0m\u001b[0m\n\u001b[0m\u001b[0;32m   1667\u001b[0m         \u001b[1;32mfor\u001b[0m \u001b[0mline\u001b[0m \u001b[1;32min\u001b[0m \u001b[0mlines\u001b[0m\u001b[1;33m:\u001b[0m\u001b[1;33m\u001b[0m\u001b[1;33m\u001b[0m\u001b[0m\n\u001b[0;32m   1668\u001b[0m             \u001b[0mself\u001b[0m\u001b[1;33m.\u001b[0m\u001b[0madd_line\u001b[0m\u001b[1;33m(\u001b[0m\u001b[0mline\u001b[0m\u001b[1;33m)\u001b[0m\u001b[1;33m\u001b[0m\u001b[1;33m\u001b[0m\u001b[0m\n",
      "\u001b[1;32m~\\Anaconda3\\envs\\science\\lib\\site-packages\\matplotlib\\axes\\_base.py\u001b[0m in \u001b[0;36m__call__\u001b[1;34m(self, *args, **kwargs)\u001b[0m\n\u001b[0;32m    223\u001b[0m                 \u001b[0mthis\u001b[0m \u001b[1;33m+=\u001b[0m \u001b[0margs\u001b[0m\u001b[1;33m[\u001b[0m\u001b[1;36m0\u001b[0m\u001b[1;33m]\u001b[0m\u001b[1;33m,\u001b[0m\u001b[1;33m\u001b[0m\u001b[1;33m\u001b[0m\u001b[0m\n\u001b[0;32m    224\u001b[0m                 \u001b[0margs\u001b[0m \u001b[1;33m=\u001b[0m \u001b[0margs\u001b[0m\u001b[1;33m[\u001b[0m\u001b[1;36m1\u001b[0m\u001b[1;33m:\u001b[0m\u001b[1;33m]\u001b[0m\u001b[1;33m\u001b[0m\u001b[1;33m\u001b[0m\u001b[0m\n\u001b[1;32m--> 225\u001b[1;33m             \u001b[1;32myield\u001b[0m \u001b[1;32mfrom\u001b[0m \u001b[0mself\u001b[0m\u001b[1;33m.\u001b[0m\u001b[0m_plot_args\u001b[0m\u001b[1;33m(\u001b[0m\u001b[0mthis\u001b[0m\u001b[1;33m,\u001b[0m \u001b[0mkwargs\u001b[0m\u001b[1;33m)\u001b[0m\u001b[1;33m\u001b[0m\u001b[1;33m\u001b[0m\u001b[0m\n\u001b[0m\u001b[0;32m    226\u001b[0m \u001b[1;33m\u001b[0m\u001b[0m\n\u001b[0;32m    227\u001b[0m     \u001b[1;32mdef\u001b[0m \u001b[0mget_next_color\u001b[0m\u001b[1;33m(\u001b[0m\u001b[0mself\u001b[0m\u001b[1;33m)\u001b[0m\u001b[1;33m:\u001b[0m\u001b[1;33m\u001b[0m\u001b[1;33m\u001b[0m\u001b[0m\n",
      "\u001b[1;32m~\\Anaconda3\\envs\\science\\lib\\site-packages\\matplotlib\\axes\\_base.py\u001b[0m in \u001b[0;36m_plot_args\u001b[1;34m(self, tup, kwargs)\u001b[0m\n\u001b[0;32m    389\u001b[0m             \u001b[0mx\u001b[0m\u001b[1;33m,\u001b[0m \u001b[0my\u001b[0m \u001b[1;33m=\u001b[0m \u001b[0mindex_of\u001b[0m\u001b[1;33m(\u001b[0m\u001b[0mtup\u001b[0m\u001b[1;33m[\u001b[0m\u001b[1;33m-\u001b[0m\u001b[1;36m1\u001b[0m\u001b[1;33m]\u001b[0m\u001b[1;33m)\u001b[0m\u001b[1;33m\u001b[0m\u001b[1;33m\u001b[0m\u001b[0m\n\u001b[0;32m    390\u001b[0m \u001b[1;33m\u001b[0m\u001b[0m\n\u001b[1;32m--> 391\u001b[1;33m         \u001b[0mx\u001b[0m\u001b[1;33m,\u001b[0m \u001b[0my\u001b[0m \u001b[1;33m=\u001b[0m \u001b[0mself\u001b[0m\u001b[1;33m.\u001b[0m\u001b[0m_xy_from_xy\u001b[0m\u001b[1;33m(\u001b[0m\u001b[0mx\u001b[0m\u001b[1;33m,\u001b[0m \u001b[0my\u001b[0m\u001b[1;33m)\u001b[0m\u001b[1;33m\u001b[0m\u001b[1;33m\u001b[0m\u001b[0m\n\u001b[0m\u001b[0;32m    392\u001b[0m \u001b[1;33m\u001b[0m\u001b[0m\n\u001b[0;32m    393\u001b[0m         \u001b[1;32mif\u001b[0m \u001b[0mself\u001b[0m\u001b[1;33m.\u001b[0m\u001b[0mcommand\u001b[0m \u001b[1;33m==\u001b[0m \u001b[1;34m'plot'\u001b[0m\u001b[1;33m:\u001b[0m\u001b[1;33m\u001b[0m\u001b[1;33m\u001b[0m\u001b[0m\n",
      "\u001b[1;32m~\\Anaconda3\\envs\\science\\lib\\site-packages\\matplotlib\\axes\\_base.py\u001b[0m in \u001b[0;36m_xy_from_xy\u001b[1;34m(self, x, y)\u001b[0m\n\u001b[0;32m    268\u001b[0m         \u001b[1;32mif\u001b[0m \u001b[0mx\u001b[0m\u001b[1;33m.\u001b[0m\u001b[0mshape\u001b[0m\u001b[1;33m[\u001b[0m\u001b[1;36m0\u001b[0m\u001b[1;33m]\u001b[0m \u001b[1;33m!=\u001b[0m \u001b[0my\u001b[0m\u001b[1;33m.\u001b[0m\u001b[0mshape\u001b[0m\u001b[1;33m[\u001b[0m\u001b[1;36m0\u001b[0m\u001b[1;33m]\u001b[0m\u001b[1;33m:\u001b[0m\u001b[1;33m\u001b[0m\u001b[1;33m\u001b[0m\u001b[0m\n\u001b[0;32m    269\u001b[0m             raise ValueError(\"x and y must have same first dimension, but \"\n\u001b[1;32m--> 270\u001b[1;33m                              \"have shapes {} and {}\".format(x.shape, y.shape))\n\u001b[0m\u001b[0;32m    271\u001b[0m         \u001b[1;32mif\u001b[0m \u001b[0mx\u001b[0m\u001b[1;33m.\u001b[0m\u001b[0mndim\u001b[0m \u001b[1;33m>\u001b[0m \u001b[1;36m2\u001b[0m \u001b[1;32mor\u001b[0m \u001b[0my\u001b[0m\u001b[1;33m.\u001b[0m\u001b[0mndim\u001b[0m \u001b[1;33m>\u001b[0m \u001b[1;36m2\u001b[0m\u001b[1;33m:\u001b[0m\u001b[1;33m\u001b[0m\u001b[1;33m\u001b[0m\u001b[0m\n\u001b[0;32m    272\u001b[0m             raise ValueError(\"x and y can be no greater than 2-D, but have \"\n",
      "\u001b[1;31mValueError\u001b[0m: x and y must have same first dimension, but have shapes (30,) and (50,)"
     ]
    },
    {
     "data": {
      "image/png": "[encoded data removed]",
      "text/plain": [
       "<Figure size 900x600 with 1 Axes>"
      ]
     },
     "metadata": {
      "needs_background": "light"
     },
     "output_type": "display_data"
    }
   ],
   "source": [
    "plt.figure(dpi=150)\n",
    "datap = np.array(data[1:]).T[1]\n",
    "# plt.plot(np.arange(1, 51), dataold, label='old')\n",
    "plt.plot(np.arange(1, 31), datap, label='p{collision}')\n",
    "plt.plot(np.arange(1, 31), p, label='analytic')\n",
    "# plt.plot(np.arange(1, 31), p3, label='analytic Emil')\n",
    "plt.xlabel('Number of nodes')\n",
    "plt.ylabel(data[0][1])\n",
    "plt.grid(alpha=0.2)\n",
    "plt.legend()\n",
    "plt.show()"
   ]
  },
  {
   "cell_type": "code",
   "execution_count": 109,
   "metadata": {},
   "outputs": [
    {
     "data": {
      "text/plain": [
       "array([0.        , 0.06230901, 0.12313416, 0.17920038, 0.23150293,\n",
       "       0.27897478, 0.323842  , 0.36631453, 0.40441522, 0.44094805,\n",
       "       0.47468233, 0.50524307, 0.53458066, 0.56175141, 0.58746174,\n",
       "       0.61113624, 0.63367482, 0.6548544 , 0.67467298, 0.69362295,\n",
       "       0.71110139, 0.72764765, 0.74311845, 0.75820222, 0.77188536,\n",
       "       0.78548133, 0.79758301, 0.80940887, 0.82023259, 0.83065205])"
      ]
     },
     "execution_count": 109,
     "metadata": {},
     "output_type": "execute_result"
    }
   ],
   "source": [
    "kpinum = 1\n",
    "datap = np.array(data[1:]).T[kpinum]\n",
    "datap"
   ]
  },
  {
   "cell_type": "code",
   "execution_count": 110,
   "metadata": {},
   "outputs": [
    {
     "data": {
      "text/plain": [
       "array([0.        , 0.06230901, 0.12313416, 0.17920038, 0.23150293,\n",
       "       0.27897478, 0.323842  , 0.36631453, 0.40441522, 0.44094805,\n",
       "       0.47468233, 0.50524307, 0.53458066, 0.56175141, 0.58746174,\n",
       "       0.61113624, 0.63367482, 0.6548544 , 0.67467298, 0.69362295,\n",
       "       0.71110139, 0.72764765, 0.74311845, 0.75820222, 0.77188536,\n",
       "       0.78548133, 0.79758301, 0.80940887, 0.82023259, 0.83065205])"
      ]
     },
     "execution_count": 110,
     "metadata": {},
     "output_type": "execute_result"
    }
   ],
   "source": [
    "datap"
   ]
  },
  {
   "cell_type": "code",
   "execution_count": 121,
   "metadata": {},
   "outputs": [
    {
     "data": {
      "image/png": "[encoded data removed]",
      "text/plain": [
       "<Figure size 900x600 with 1 Axes>"
      ]
     },
     "metadata": {
      "needs_background": "light"
     },
     "output_type": "display_data"
    }
   ],
   "source": [
    "plt.figure(dpi=150)\n",
    "# plt.plot(np.arange(1, 51), dataold, label='old')\n",
    "plt.plot(np.arange(1, 31), datap, label='simulator')\n",
    "plt.plot(np.arange(1, 31), p, label='analytic')\n",
    "# plt.plot(np.arange(1, 31), p3, label='analytic Emil')\n",
    "plt.xlabel('Number of nodes')\n",
    "plt.ylabel(data[0][kpinum])\n",
    "plt.grid(alpha=0.2)\n",
    "plt.legend()\n",
    "plt.show()"
   ]
  },
  {
   "cell_type": "code",
   "execution_count": 122,
   "metadata": {},
   "outputs": [
    {
     "data": {
      "image/png": "[encoded data removed]",
      "text/plain": [
       "<Figure size 900x600 with 1 Axes>"
      ]
     },
     "metadata": {
      "needs_background": "light"
     },
     "output_type": "display_data"
    }
   ],
   "source": [
    "plt.figure(dpi=150)\n",
    "# plt.plot(np.arange(1, 51), dataold, label='old')\n",
    "plt.plot(np.arange(1, 31), np.array(data[1:]).T[7], label='simulator')\n",
    "plt.plot(np.arange(1, 31), E_tc(p), label='analytic')\n",
    "# plt.plot(np.arange(1, 31), E_tc(p3), label='analytic Emil')\n",
    "plt.xlabel('Number of nodes')\n",
    "plt.ylabel(data[0][3])\n",
    "plt.grid(alpha=0.2)\n",
    "plt.legend()\n",
    "plt.show()"
   ]
  },
  {
   "cell_type": "code",
   "execution_count": 63,
   "metadata": {},
   "outputs": [
    {
     "data": {
      "text/plain": [
       "[1.0,\n",
       " 0.0,\n",
       " 0.0,\n",
       " 46.66236460128538,\n",
       " 3.1999999999999953,\n",
       " 17.862369578607463,\n",
       " 3.1999999999999957,\n",
       " 16.0,\n",
       " 3.1999999999999957,\n",
       " 3.1999999999999957,\n",
       " 0.0,\n",
       " 0.06857775055642695,\n",
       " 0.3428887527821352]"
      ]
     },
     "execution_count": 63,
     "metadata": {},
     "output_type": "execute_result"
    }
   ],
   "source": [
    "list(tt[0])"
   ]
  },
  {
   "cell_type": "code",
   "execution_count": null,
   "metadata": {},
   "outputs": [],
   "source": []
  },
  {
   "cell_type": "code",
   "execution_count": 62,
   "metadata": {},
   "outputs": [],
   "source": [
    "\n",
    "with open('results/csv/2021_01_12_not_norm_retx3.csv', \"wt\", newline=\"\") as file:\n",
    "    writer = csv.writer(file, delimiter=',')\n",
    "    writer.writerow(stats_headers)\n",
    "    for ttt in tt:\n",
    "        writer.writerow(list(ttt))"
   ]
  },
  {
   "cell_type": "code",
   "execution_count": 436,
   "metadata": {},
   "outputs": [],
   "source": [
    "ds = [67.37, 67.48, 67.15, 67.49, ]"
   ]
  },
  {
   "cell_type": "code",
   "execution_count": 437,
   "metadata": {},
   "outputs": [],
   "source": [
    "header = ['row1', 'row2', 'row3']\n",
    "some_list = [[1, 2, 3], [1, 2, 3]]\n",
    "with open('tests.csv', 'wt', newline ='') as file:\n",
    "    writer = csv.writer(file, delimiter=',')\n",
    "    writer.writerow(header)\n",
    "    for ttt in some_list:\n",
    "        writer.writerow(ttt)"
   ]
  },
  {
   "cell_type": "code",
   "execution_count": null,
   "metadata": {},
   "outputs": [],
   "source": [
    "# Analytics"
   ]
  },
  {
   "cell_type": "code",
   "execution_count": 26,
   "metadata": {},
   "outputs": [],
   "source": [
    "pa = 1.0\n",
    "N = 3\n",
    "nodes = 30\n",
    "T_max = 12\n",
    "T_idle = 3.2\n",
    "T_rts = 3.2\n",
    "T_cts = 3.2\n",
    "T_out = 3.2\n",
    "T_data = 16.0\n",
    "T_ack = 3.2\n",
    "T_unit = 3.2"
   ]
  },
  {
   "cell_type": "code",
   "execution_count": 16,
   "metadata": {},
   "outputs": [],
   "source": [
    "pa = 1.0\n",
    "N = 3\n",
    "nodes = 50\n",
    "T_max = 12\n",
    "T_idle = 0.48\n",
    "T_data = 0.48\n",
    "T_unit = 0.48\n",
    "T_rts = 0.48\n",
    "T_cts = 0.48\n",
    "T_out = 0.48\n",
    "T_ack = 0.48"
   ]
  },
  {
   "cell_type": "code",
   "execution_count": 17,
   "metadata": {},
   "outputs": [],
   "source": [
    "# p = np.linspace(0,0.9999,20)"
   ]
  },
  {
   "cell_type": "code",
   "execution_count": 32,
   "metadata": {},
   "outputs": [
    {
     "data": {
      "text/plain": [
       "(6.5, 12.5, 18.5, 24.5)"
      ]
     },
     "execution_count": 32,
     "metadata": {},
     "output_type": "execute_result"
    }
   ],
   "source": [
    "s1 = 0\n",
    "s2 = 0\n",
    "s3 = 0\n",
    "s4 = 0\n",
    "n = 12\n",
    "for i in range(1, n + 1):\n",
    "    s1 += i\n",
    "for i in range(1, 2*n + 1):\n",
    "    s2 += i\n",
    "for i in range(1, 3*n + 1):\n",
    "    s3 += i\n",
    "for i in range(1, 4*n + 1):\n",
    "    s4 += i\n",
    "s1 / n, s2 / (2*n), s3 / (3*n), s4 / (4*n)"
   ]
  },
  {
   "cell_type": "code",
   "execution_count": 34,
   "metadata": {},
   "outputs": [
    {
     "data": {
      "text/plain": [
       "29.759999999999998"
      ]
     },
     "execution_count": 34,
     "metadata": {},
     "output_type": "execute_result"
    }
   ],
   "source": [
    "(s1 / n + s2 / (2*n) + s3 / (3*n) + s4 / (4*n)) * 0.48"
   ]
  },
  {
   "cell_type": "code",
   "execution_count": 18,
   "metadata": {},
   "outputs": [],
   "source": [
    "# E_tc(p)"
   ]
  },
  {
   "cell_type": "code",
   "execution_count": 28,
   "metadata": {},
   "outputs": [],
   "source": [
    "def E_tc(p):  \n",
    "    ksi = 0\n",
    "    for i in range(1, N+2):\n",
    "        ksi += p**(i-1) * (T_rts + p*T_out + 0.5*((i*T_max-1) * T_unit) + (T_cts + T_data + T_ack)*(1-p))\n",
    "    return T_idle + pa * ksi"
   ]
  },
  {
   "cell_type": "code",
   "execution_count": 29,
   "metadata": {},
   "outputs": [],
   "source": [
    "def E_idle(p):\n",
    "    return T_idle\n",
    "\n",
    "def E_bo(p):\n",
    "    s = 0\n",
    "    for i in range(1, N+1 + 1):\n",
    "        s += 0.5*((i*T_max-1) * T_unit) * pa * p**(i-1)\n",
    "    return s\n",
    "\n",
    "def E_rts(p):\n",
    "    s = 0\n",
    "    for i in range(1, N+1 + 1):\n",
    "        s += T_rts * pa * p**(i-1)\n",
    "    return s\n",
    "\n",
    "def E_out(p):\n",
    "    s = 0\n",
    "    for i in range(1, N+1 + 1):\n",
    "        s += p*T_out * pa * p**(i-1)\n",
    "    return s\n",
    "\n",
    "def E_data(p):\n",
    "    s = 0\n",
    "    for i in range(1, N+1 + 1):\n",
    "        s += T_data * pa * p**(i-1) * (1 - p)\n",
    "    return s\n",
    "\n",
    "def E_datacts(p):\n",
    "    s = 0\n",
    "    for i in range(1, N+1 + 1):\n",
    "        s += (T_data + T_cts) * pa * p**(i-1) * (1 - p)\n",
    "    return s"
   ]
  },
  {
   "cell_type": "code",
   "execution_count": 30,
   "metadata": {},
   "outputs": [],
   "source": [
    "def tau_rts(p):\n",
    "    return E_rts(p) / E_tc(p)\n",
    "\n",
    "def tau_data(p):\n",
    "    return E_data(p) / E_tc(p)\n",
    "\n",
    "def tr_eq_rts(p, n):\n",
    "    tau = tau_rts(p)\n",
    "    return p - (1 - (1 - tau) ** (n-1))\n",
    "\n",
    "def tr_eq_rts2(p, n):\n",
    "    tau = tau_rts(p)\n",
    "    return p - (1 - (1 - tau) ** (2*(n-1)))\n",
    "\n",
    "def tr_eq_rts3(p, n):\n",
    "    tau = tau_rts(p)\n",
    "    return p - (1 - (1 - 2*tau) ** ((n-1)))\n",
    "\n",
    "def tr_eq_data(p, n):\n",
    "    tau = tau_data(p)\n",
    "    return p - (1 - (1 - tau) ** (n-1))\n",
    "\n",
    "def calculate_transcendental_equation(tr_eq):\n",
    "    return np.array([root(tr_eq, 0.1, args=(node)).x[0] for node in range(1, nodes+1)])"
   ]
  },
  {
   "cell_type": "code",
   "execution_count": 31,
   "metadata": {},
   "outputs": [
    {
     "name": "stdout",
     "output_type": "stream",
     "text": [
      "[0.         0.06915082 0.1333306  0.19233091 0.2463198  0.29568988\n",
      " 0.34091701 0.38247362 0.42078849 0.45623419 0.48912795 0.51973787\n",
      " 0.5482905  0.57497811 0.59996492 0.62339239 0.64538338 0.66604559\n",
      " 0.68547426 0.70375431 0.72096205 0.73716657 0.75243082 0.76681251\n",
      " 0.7803648  0.7931369  0.80517451 0.81652025 0.82721395 0.83729293]\n"
     ]
    }
   ],
   "source": [
    "p = calculate_transcendental_equation(tr_eq_rts)\n",
    "with np.printoptions(suppress=True):\n",
    "    print(p)"
   ]
  },
  {
   "cell_type": "code",
   "execution_count": 24,
   "metadata": {},
   "outputs": [
    {
     "data": {
      "text/plain": [
       "array([ 5.04      ,  5.72758867,  6.47746994,  7.26553975,  8.07381111,\n",
       "        8.8905402 ,  9.70811108, 10.52138647, 11.3267146 , 12.12136703,\n",
       "       12.90322132, 13.67057846, 14.42205443, 15.15651328, 15.87302381,\n",
       "       16.57082993, 17.24932925, 17.90805641, 18.5466695 , 19.1649384 ,\n",
       "       19.76273434, 20.34002037, 20.89684251, 21.43332138, 21.9496444 ,\n",
       "       22.44605833, 22.92286229, 23.3804012 , 23.81905958, 24.23925581,\n",
       "       24.64143676, 25.02607286, 25.3936535 , 25.74468286, 26.07967608,\n",
       "       26.39915581, 26.70364905, 26.99368438, 27.26978941, 27.53248859,\n",
       "       27.78230123, 28.01973982, 28.2453085 , 28.45950185, 28.66280375,\n",
       "       28.85568655, 29.0386103 , 29.21202214, 29.37635589, 29.53203168])"
      ]
     },
     "execution_count": 24,
     "metadata": {},
     "output_type": "execute_result"
    }
   ],
   "source": [
    "E_tc(p)"
   ]
  },
  {
   "cell_type": "code",
   "execution_count": 27,
   "metadata": {},
   "outputs": [
    {
     "data": {
      "text/plain": [
       "array([0.48      , 0.47996513, 0.47959376, 0.47847745, 0.47636251,\n",
       "       0.47314528, 0.46881559, 0.46341511, 0.45701301, 0.44969248,\n",
       "       0.44154312, 0.43265664, 0.42312415, 0.41303458, 0.40247358,\n",
       "       0.39152281, 0.38025947, 0.36875602, 0.35707993, 0.34529366,\n",
       "       0.33345461, 0.32161521, 0.30982295, 0.2981206 , 0.28654634,\n",
       "       0.27513396, 0.26391311, 0.25290951, 0.24214519, 0.23163875,\n",
       "       0.22140561, 0.21145827, 0.2018065 , 0.19245764, 0.18341681,\n",
       "       0.1746871 , 0.16626981, 0.15816463, 0.15036984, 0.14288246,\n",
       "       0.13569845, 0.12881281, 0.12221975, 0.1159128 , 0.10988493,\n",
       "       0.10412866, 0.09863615, 0.09339929, 0.08840975, 0.08365908])"
      ]
     },
     "execution_count": 27,
     "metadata": {},
     "output_type": "execute_result"
    }
   ],
   "source": [
    "E_data(p)"
   ]
  },
  {
   "cell_type": "code",
   "execution_count": 15,
   "metadata": {},
   "outputs": [
    {
     "data": {
      "image/png": "[encoded data removed]",
      "text/plain": [
       "<Figure size 900x600 with 1 Axes>"
      ]
     },
     "metadata": {
      "needs_background": "light"
     },
     "output_type": "display_data"
    }
   ],
   "source": [
    "plt.figure(dpi=150)\n",
    "plt.plot(np.arange(1, 26), p)\n",
    "plt.show()"
   ]
  },
  {
   "cell_type": "code",
   "execution_count": 132,
   "metadata": {},
   "outputs": [
    {
     "data": {
      "text/plain": [
       "array([0.32258065, 0.30365165, 0.28465276, 0.2660632 , 0.2482662 ,\n",
       "       0.23149781, 0.2158625 , 0.20137231, 0.18798414, 0.17562679,\n",
       "       0.16421814, 0.15367497, 0.14391807, 0.13487461, 0.12647885,\n",
       "       0.11867211, 0.11140222, 0.10462297, 0.0982933 , 0.09237677,\n",
       "       0.08684086, 0.0816565 , 0.07679757, 0.07224055, 0.06796415,\n",
       "       0.06394903, 0.06017754, 0.05663356, 0.05330226, 0.05017001])"
      ]
     },
     "execution_count": 132,
     "metadata": {},
     "output_type": "execute_result"
    }
   ],
   "source": [
    "tau_data(p)"
   ]
  },
  {
   "cell_type": "code",
   "execution_count": 133,
   "metadata": {},
   "outputs": [
    {
     "data": {
      "text/plain": [
       "array([24.8       , 26.3455102 , 28.09732505, 30.03437353, 32.12421539,\n",
       "       34.33215108, 36.62620572, 38.97893317, 41.36750865, 43.77314843,\n",
       "       46.18038832, 48.57643258, 50.95063034, 53.29407463, 55.59930063,\n",
       "       57.8600586 , 60.07114059, 62.22824541, 64.32787037, 66.36722182,\n",
       "       68.34413897, 70.25702738, 72.10479936, 73.88681998, 75.60285729,\n",
       "       77.25303639, 78.83779668, 80.35785225, 81.81415504, 83.20786087])"
      ]
     },
     "execution_count": 133,
     "metadata": {},
     "output_type": "execute_result"
    }
   ],
   "source": [
    "E_tc(p)"
   ]
  },
  {
   "cell_type": "code",
   "execution_count": 134,
   "metadata": {},
   "outputs": [
    {
     "data": {
      "text/plain": [
       "array([1.6       , 3.02133203, 3.45981664, 3.77825439, 4.0323409 ,\n",
       "       4.24393136, 4.4247146 , 4.58196266, 4.72059781, 4.84413016,\n",
       "       4.95515429, 5.05564093, 5.14712053, 5.23080439, 5.30766741,\n",
       "       5.37850613, 5.44398037, 5.50464354, 5.56096522, 5.61334801,\n",
       "       5.66214047, 5.70764705, 5.75013577, 5.78984438, 5.82698509,\n",
       "       5.86174849, 5.89430665, 5.92481567, 5.95341774, 5.98024289])"
      ]
     },
     "execution_count": 134,
     "metadata": {},
     "output_type": "execute_result"
    }
   ],
   "source": [
    "E_rts(p**(1/4))"
   ]
  },
  {
   "cell_type": "code",
   "execution_count": 100,
   "metadata": {},
   "outputs": [
    {
     "data": {
      "text/plain": [
       "array([ 46.4       ,  49.71224556,  53.45651246,  57.5712193 ,\n",
       "        61.975876  ,  66.59241551,  71.3538889 ,  76.2058039 ,\n",
       "        81.10453962,  86.01513211,  90.90929739,  95.76389741,\n",
       "       100.55981549, 105.28114886, 109.91462901, 114.44919993,\n",
       "       118.87570423, 123.18664176, 127.37597749, 131.43898267,\n",
       "       135.37209873, 139.17281732, 142.83957199, 146.37163877,\n",
       "       149.76904396, 153.03247823, 156.16321624, 159.16304173,\n",
       "       162.03417776, 164.77922195])"
      ]
     },
     "execution_count": 100,
     "metadata": {},
     "output_type": "execute_result"
    }
   ],
   "source": [
    "E_tc(p)"
   ]
  },
  {
   "cell_type": "code",
   "execution_count": 101,
   "metadata": {},
   "outputs": [
    {
     "data": {
      "text/plain": [
       "array([0.        , 0.1333306 , 0.2463198 , 0.34091701, 0.42078849,\n",
       "       0.48912795, 0.5482905 , 0.59996492, 0.64538338, 0.68547426,\n",
       "       0.72096205, 0.75243082, 0.7803648 , 0.80517451, 0.82721395,\n",
       "       0.84679221, 0.86418148, 0.87962288, 0.89333076, 0.90549609,\n",
       "       0.91628922, 0.92586211, 0.93435038, 0.94187496, 0.94854367,\n",
       "       0.95445255, 0.95968713, 0.96432353, 0.96842942, 0.97206496])"
      ]
     },
     "execution_count": 101,
     "metadata": {},
     "output_type": "execute_result"
    }
   ],
   "source": [
    "p2 = calculate_transcendental_equation(tr_eq_rts2)\n",
    "p2"
   ]
  },
  {
   "cell_type": "code",
   "execution_count": 102,
   "metadata": {},
   "outputs": [
    {
     "data": {
      "text/plain": [
       "array([0.        , 0.1380623 , 0.25411162, 0.35051321, 0.43143431,\n",
       "       0.50037064, 0.55983679, 0.61160813, 0.6569684 , 0.69688035,\n",
       "       0.73209392, 0.76321368, 0.79074105, 0.81510138, 0.83666152,\n",
       "       0.85574158, 0.8726232 , 0.88755536, 0.90075895, 0.91243019,\n",
       "       0.92274355, 0.93185417, 0.93989996, 0.94700346, 0.95327347,\n",
       "       0.95880656, 0.96368832, 0.96799465, 0.97179274, 0.97514206])"
      ]
     },
     "execution_count": 102,
     "metadata": {},
     "output_type": "execute_result"
    }
   ],
   "source": [
    "p3 = calculate_transcendental_equation(tr_eq_rts3)\n",
    "p3"
   ]
  },
  {
   "cell_type": "code",
   "execution_count": 79,
   "metadata": {},
   "outputs": [],
   "source": [
    "dsi = [0, 0.128930037, 0.243703594, 0.340773507, 0.423299275, 0.494323761, 0.555299951, \n",
    "       0.60800504, 0.654420078, 0.694593134, 0.730687458, 0.762018526, 0.789410357, \n",
    "       0.814104018, 0.835764901, 0.854877149, 0.871958194, 0.886748582, 0.900126972, \n",
    "       0.911999711, 0.922210037, 0.931479584, 0.939485215, 0.94649087, 0.952813656, \n",
    "       0.958432112, 0.963366548, 0.967655941, 0.971418894, 0.974879181]\n",
    "\n",
    "Edsi = [46.69110378, 53.43671424, 62.01276887, 71.6480565, 81.77265697, 92.08859386, \n",
    "        102.1279078, 111.8666592, 121.1048372, 129.7812165, 138.0095068, 145.5499092, \n",
    "        152.5226371, 158.9438527, 164.9105521, 170.1948725, 174.938903, 179.3578189, \n",
    "        183.3251749, 186.8487196, 190.0070853, 192.8275785, 195.3150873, 197.4876235, \n",
    "        199.5113815, 201.3246955, 202.9009397, 204.2613849, 205.5769041, 206.6392368]"
   ]
  },
  {
   "cell_type": "code",
   "execution_count": 30,
   "metadata": {},
   "outputs": [
    {
     "data": {
      "image/png": "[encoded data removed]",
      "text/plain": [
       "<Figure size 900x600 with 1 Axes>"
      ]
     },
     "metadata": {
      "needs_background": "light"
     },
     "output_type": "display_data"
    }
   ],
   "source": [
    "plt.figure(dpi=150)\n",
    "plt.plot(np.arange(1, 31), Edsi)\n",
    "plt.plot(np.arange(1, 31), E_tc(p2))\n",
    "plt.plot(np.arange(1, 31), E_tc(p3))\n",
    "plt.show()"
   ]
  },
  {
   "cell_type": "code",
   "execution_count": 135,
   "metadata": {},
   "outputs": [],
   "source": [
    "analytics_headers = [\n",
    "    'nodes',\n",
    "    'p_collision',\n",
    "    'p_success',\n",
    "    'p_failure',\n",
    "    'cycle_time',\n",
    "    'rts_time',\n",
    "    'data_time',\n",
    "    'tau_rts',\n",
    "    'tau_data',\n",
    "]"
   ]
  },
  {
   "cell_type": "code",
   "execution_count": 137,
   "metadata": {},
   "outputs": [],
   "source": [
    "data_an = [analytics_headers]\n",
    "pfile = p\n",
    "for i in range(nodes):\n",
    "    data_an.append([\n",
    "        i + 1,\n",
    "        p[i],\n",
    "        1 - p[i]**(N+1),\n",
    "        p[i]**(N+1),\n",
    "        E_tc(p[i]),\n",
    "        E_rts(p[i]),\n",
    "        E_datacts(p[i]),\n",
    "        tau_rts(p[i]),\n",
    "        tau_data(p[i]),\n",
    "    ])\n",
    " "
   ]
  },
  {
   "cell_type": "code",
   "execution_count": 138,
   "metadata": {},
   "outputs": [],
   "source": [
    "with open('results/csv/case_2_analytics_data_pa=05.csv', \"wt\", newline=\"\") as file:\n",
    "    writer = csv.writer(file, delimiter=',')\n",
    "    writer.writerow(analytics_headers)\n",
    "    for i in range(1, len(data_an)):\n",
    "        writer.writerow(data_an[i])"
   ]
  },
  {
   "cell_type": "code",
   "execution_count": 53,
   "metadata": {},
   "outputs": [
    {
     "data": {
      "text/plain": [
       "3.2"
      ]
     },
     "execution_count": 53,
     "metadata": {},
     "output_type": "execute_result"
    }
   ],
   "source": [
    "E_idle(p2[5])"
   ]
  },
  {
   "cell_type": "code",
   "execution_count": 54,
   "metadata": {},
   "outputs": [
    {
     "data": {
      "text/plain": [
       "0.026363030906256683"
      ]
     },
     "execution_count": 54,
     "metadata": {},
     "output_type": "execute_result"
    }
   ],
   "source": [
    "loc_tau = tau_rts(p2[2])\n",
    "6 * loc_tau**2 * (1 - loc_tau) + loc_tau**3"
   ]
  },
  {
   "cell_type": "code",
   "execution_count": 55,
   "metadata": {},
   "outputs": [],
   "source": [
    "def C(n, k):\n",
    "    return int(np.math.factorial(n) / (np.math.factorial(n-k) * np.math.factorial(k)))"
   ]
  },
  {
   "cell_type": "code",
   "execution_count": null,
   "metadata": {},
   "outputs": [],
   "source": []
  },
  {
   "cell_type": "code",
   "execution_count": 110,
   "metadata": {},
   "outputs": [],
   "source": [
    "def tr_eq_data_exp(p, n):\n",
    "    tau = tau_data(p)\n",
    "    return p - ((1 - (1 - tau)**n) - n * tau * (1 - tau)**(n-1))\n",
    "#     return p - 3 * tau**2 * (1 - tau) + tau**3"
   ]
  },
  {
   "cell_type": "code",
   "execution_count": 111,
   "metadata": {},
   "outputs": [
    {
     "data": {
      "text/plain": [
       "array([0.        , 0.09736688, 0.18956537, 0.2631249 , 0.32183964,\n",
       "       0.3698106 , 0.40991024, 0.44407763, 0.47364864, 0.49957168,\n",
       "       0.52254006, 0.54307399, 0.5615727 , 0.57834861, 0.59365039,\n",
       "       0.60767887, 0.62059838, 0.63254492, 0.64363218, 0.65395607,\n",
       "       0.66359814, 0.67262829, 0.6811068 , 0.68908598, 0.69661148,\n",
       "       0.70372335, 0.71045689, 0.71684335, 0.72291052, 0.72868318])"
      ]
     },
     "execution_count": 111,
     "metadata": {},
     "output_type": "execute_result"
    }
   ],
   "source": [
    "p_new = calculate_transcendental_equation(tr_eq_data_exp)\n",
    "p_new"
   ]
  },
  {
   "cell_type": "code",
   "execution_count": 82,
   "metadata": {},
   "outputs": [
    {
     "name": "stdout",
     "output_type": "stream",
     "text": [
      "[0.         0.09736688 0.18956537 0.2631249  0.32183964 0.3698106\n",
      " 0.40991024 0.44407763 0.47364864 0.49957168 0.52254006 0.54307399\n",
      " 0.5615727  0.57834861 0.59365039 0.60767887 0.62059838 0.63254492\n",
      " 0.64363218 0.65395607 0.66359814 0.67262829 0.6811068  0.68908598\n",
      " 0.69661148 0.70372335 0.71045689 0.71684335 0.72291052 0.72868318]\n"
     ]
    }
   ],
   "source": []
  },
  {
   "cell_type": "code",
   "execution_count": 93,
   "metadata": {},
   "outputs": [
    {
     "data": {
      "text/plain": [
       "array([0.        , 0.06915082, 0.1333306 , 0.19233091, 0.2463198 ,\n",
       "       0.29568988, 0.34091701, 0.38247362, 0.42078849, 0.45623419,\n",
       "       0.48912795, 0.51973787, 0.5482905 , 0.57497811, 0.59996492,\n",
       "       0.62339239, 0.64538338, 0.66604559, 0.68547426, 0.70375431,\n",
       "       0.72096205, 0.73716657, 0.75243082, 0.76681251, 0.7803648 ,\n",
       "       0.7931369 , 0.80517451, 0.81652025, 0.82721395, 0.83729293])"
      ]
     },
     "execution_count": 93,
     "metadata": {},
     "output_type": "execute_result"
    }
   ],
   "source": [
    "p"
   ]
  },
  {
   "cell_type": "code",
   "execution_count": 76,
   "metadata": {},
   "outputs": [
    {
     "data": {
      "text/plain": [
       "float"
      ]
     },
     "execution_count": 76,
     "metadata": {},
     "output_type": "execute_result"
    }
   ],
   "source": []
  },
  {
   "cell_type": "code",
   "execution_count": 129,
   "metadata": {},
   "outputs": [
    {
     "data": {
      "text/plain": [
       "0.15556709186408463"
      ]
     },
     "execution_count": 129,
     "metadata": {},
     "output_type": "execute_result"
    }
   ],
   "source": [
    "root(tr_eq_data_exp, 0.1).x[0]"
   ]
  },
  {
   "cell_type": "code",
   "execution_count": 140,
   "metadata": {},
   "outputs": [
    {
     "data": {
      "text/plain": [
       "21"
      ]
     },
     "execution_count": 140,
     "metadata": {},
     "output_type": "execute_result"
    }
   ],
   "source": [
    "s = 0\n",
    "for i in range(1, 6 + 1):\n",
    "    s += i\n",
    "s"
   ]
  },
  {
   "cell_type": "code",
   "execution_count": 164,
   "metadata": {},
   "outputs": [],
   "source": [
    "def t1(t):\n",
    "    return 10 * t**2 * (1-t)**3 + 10 * t**3 * (1-t)**2 + 5 * t**4 * (1-t) + t**5"
   ]
  },
  {
   "cell_type": "code",
   "execution_count": 165,
   "metadata": {},
   "outputs": [],
   "source": [
    "def t2(t):\n",
    "    return 1 - (1-t)**5 - 5 * t * (1-t)**4"
   ]
  },
  {
   "cell_type": "code",
   "execution_count": 167,
   "metadata": {},
   "outputs": [
    {
     "data": {
      "text/plain": [
       "(0.922569039397828, 0.922569039397828)"
      ]
     },
     "execution_count": 167,
     "metadata": {},
     "output_type": "execute_result"
    }
   ],
   "source": [
    "t1(0.613), t2(0.613)"
   ]
  },
  {
   "cell_type": "code",
   "execution_count": 68,
   "metadata": {},
   "outputs": [
    {
     "data": {
      "text/plain": [
       "36.800000000000004"
      ]
     },
     "execution_count": 68,
     "metadata": {},
     "output_type": "execute_result"
    }
   ],
   "source": [
    "(2 * T_max - 1) / 2 * T_unit"
   ]
  },
  {
   "cell_type": "code",
   "execution_count": 46,
   "metadata": {},
   "outputs": [
    {
     "data": {
      "text/plain": [
       "46.400000000000006"
      ]
     },
     "execution_count": 46,
     "metadata": {},
     "output_type": "execute_result"
    }
   ],
   "source": [
    "Etc(0)"
   ]
  },
  {
   "cell_type": "code",
   "execution_count": 29,
   "metadata": {},
   "outputs": [
    {
     "data": {
      "text/plain": [
       "17.6"
      ]
     },
     "execution_count": 29,
     "metadata": {},
     "output_type": "execute_result"
    }
   ],
   "source": [
    "0.5 * 11 * 3.2"
   ]
  },
  {
   "cell_type": "code",
   "execution_count": 30,
   "metadata": {},
   "outputs": [],
   "source": [
    "def Etcnew(p):\n",
    "    s1 = 0\n",
    "    for i in range(1, N+1 + 1):\n",
    "        sv = 0\n",
    "        for n in range(1, i + 1):\n",
    "            sv += (n * T_max - 1) * T_unit / 2\n",
    "        sk1 = (i-1) * T_out + sv + i * T_rts\n",
    "        sk2 = T_cts + T_data + T_ack\n",
    "        s1 += (sk1 + sk2) * p**(i-1)\n",
    "    sv2 = 0\n",
    "    for i in range(1, N+1 + 1):\n",
    "        sv2 += (i * T_max - 1) * T_unit / 2\n",
    "    s2 = (N + 1) * T_out + sv2 + (N + 1) * T_rts\n",
    "    d_non_idle = (1 - p) * s1 + s2 * p**(N+1)\n",
    "    d_mc = T_idle / pa + pa * d_non_idle\n",
    "    return d_mc"
   ]
  },
  {
   "cell_type": "code",
   "execution_count": 31,
   "metadata": {},
   "outputs": [],
   "source": [
    "def Etc(p):\n",
    "    s1 = 0\n",
    "    for i in range(1, N+1 + 1):\n",
    "        sv = 0\n",
    "        for n in range(1, i + 1):\n",
    "            sv += (n * T_max - 1) * T_unit / 2\n",
    "        sk1 = (i-1) * T_out + sv + i * T_rts\n",
    "        sk2 = T_cts + T_data + T_ack\n",
    "        s1 += (sk1 + sk2) * p**(i-1)\n",
    "    sv2 = 0\n",
    "    for i in range(1, N+1 + 1):\n",
    "        sv2 += (i * T_max - 1) * T_unit / 2\n",
    "    s2 = (N + 1) * T_out + sv2 + (N + 1) * T_rts\n",
    "    d_non_idle = (1 - p) * s1 + s2 * p**(N+1)\n",
    "    d_mc = (1 - pa) * T_idle + pa * d_non_idle\n",
    "    return d_mc"
   ]
  },
  {
   "cell_type": "code",
   "execution_count": 32,
   "metadata": {},
   "outputs": [],
   "source": [
    "def Etco(p):\n",
    "    \n",
    "    ksi = 0\n",
    "    for i in range(1, N+2):\n",
    "        ksi += pa*p**(i-1) * (T_rts + p*T_out + 0.5*i*((T_max - 1) * T_unit) + (T_cts + T_data + T_ack)*(1-p))\n",
    "#     tau = 0\n",
    "#     for i in range(1, N+2):\n",
    "#         tau += (T_rts * p_a * p**(i-1)) / (T_idle + ksi2)\n",
    "    return (1-pa)*T_idle + ksi\n",
    "\n",
    "def fifth_tau(p):\n",
    "    ksi2 = 0\n",
    "    for i in range(1, N+2):\n",
    "        ksi2 += pa*p**(i-1) * (T_rts + p*T_out + 0.5*i*((T_max) * T_unit) + (T_cts + T_data + T_ack)*(1-p))\n",
    "    tau = 0\n",
    "    for i in range(1, N+2):\n",
    "        tau += (T_rts * pa * p**(i-1)) / (T_idle + ksi2)\n",
    "    return tau"
   ]
  },
  {
   "cell_type": "code",
   "execution_count": 33,
   "metadata": {},
   "outputs": [],
   "source": []
  },
  {
   "cell_type": "code",
   "execution_count": 36,
   "metadata": {},
   "outputs": [
    {
     "data": {
      "text/plain": [
       "277.77777777777777"
      ]
     },
     "execution_count": 36,
     "metadata": {},
     "output_type": "execute_result"
    }
   ],
   "source": [
    "0.06 ** (-2)"
   ]
  },
  {
   "cell_type": "code",
   "execution_count": null,
   "metadata": {},
   "outputs": [],
   "source": []
  },
  {
   "cell_type": "code",
   "execution_count": 37,
   "metadata": {},
   "outputs": [
    {
     "name": "stdout",
     "output_type": "stream",
     "text": [
      "0.0\n",
      "0.5128015588595579\n",
      "0.6042719827327043\n",
      "0.6622352118435956\n",
      "0.704489999226747\n",
      "0.7374101600146461\n",
      "0.7641210568415066\n",
      "0.7864124316694503\n",
      "0.8054080422159068\n",
      "0.8218583211489383\n",
      "0.8362875281781503\n",
      "0.8490750717506346\n",
      "0.8605035793344695\n",
      "0.8707887860729892\n",
      "0.8800988734494731\n",
      "0.8885673959138191\n",
      "0.8963021614865107\n",
      "0.9033914781657469\n",
      "0.9099086388779127\n",
      "0.915915200887565\n",
      "0.9214634230854006\n",
      "0.9265981042152668\n",
      "0.9313579879368475\n",
      "0.9357768500338111\n",
      "0.9398843492440546\n",
      "0.9437067001476107\n",
      "0.9472672105957816\n",
      "0.9505867149535209\n",
      "0.9536839264376611\n",
      "0.9565757260675145\n"
     ]
    }
   ],
   "source": [
    "pa = 1\n",
    "cx = calculate_transcendental_equation(tr_eq_rts)\n",
    "cx2 = calculate_transcendental_equation(tr_eq_rts2)\n",
    "for b in range(len(cx)):\n",
    "    print(cx[b]**(1/4))"
   ]
  },
  {
   "cell_type": "code",
   "execution_count": 38,
   "metadata": {},
   "outputs": [
    {
     "name": "stdout",
     "output_type": "stream",
     "text": [
      "0.0\n",
      "0.13333060017205217\n",
      "0.2463198034717578\n",
      "0.3409170099095195\n",
      "0.4207884856281584\n",
      "0.48912795004196413\n",
      "0.5482905044085342\n",
      "0.5999649233758557\n",
      "0.6453833767372423\n",
      "0.6854742631008764\n",
      "0.720962047457722\n",
      "0.7524308176657414\n",
      "0.7803648002336956\n",
      "0.805174511207262\n",
      "0.8272139545511841\n",
      "0.8467922103181267\n",
      "0.8641814804123208\n",
      "0.8796228770087137\n",
      "0.8933307551880293\n",
      "0.9054960907771816\n",
      "0.916289216767952\n",
      "0.9258621144780017\n",
      "0.9343503825702831\n",
      "0.9418749617575652\n",
      "0.9485436651455017\n",
      "0.9544525471603922\n",
      "0.9596871337188083\n",
      "0.9643235301101779\n",
      "0.9684294193439184\n",
      "0.9720649614475667\n"
     ]
    }
   ],
   "source": [
    "for b in range(len(cx2)):\n",
    "    print(cx2[b])"
   ]
  },
  {
   "cell_type": "code",
   "execution_count": 36,
   "metadata": {},
   "outputs": [
    {
     "data": {
      "text/plain": [
       "array([0.        , 0.12813965, 0.2398829 , 0.34259691, 0.42325455,\n",
       "       0.49725706, 0.5562581 , 0.60897244, 0.6523564 , 0.69513189,\n",
       "       0.73068908, 0.76114844, 0.78997234, 0.81244585, 0.83496904,\n",
       "       0.85479297, 0.87209411, 0.88717165, 0.89985758, 0.91182904,\n",
       "       0.92254194, 0.9316878 , 0.93915878, 0.94656813, 0.95259755,\n",
       "       0.95813573, 0.96308534, 0.96758045, 0.97160165, 0.97509781])"
      ]
     },
     "execution_count": 36,
     "metadata": {},
     "output_type": "execute_result"
    }
   ],
   "source": [
    "datap"
   ]
  },
  {
   "cell_type": "code",
   "execution_count": 17,
   "metadata": {},
   "outputs": [
    {
     "name": "stdout",
     "output_type": "stream",
     "text": [
      "3.2\n",
      "6.113971470576561\n",
      "7.008202498778779\n",
      "7.651896211437993\n",
      "8.161404428207321\n",
      "8.582938200802325\n",
      "8.941304976393756\n",
      "9.251870071764364\n",
      "9.524940635246562\n",
      "9.767790490525464\n",
      "9.985742330276942\n",
      "10.182803033447971\n",
      "10.362060753934928\n",
      "10.525944374236863\n",
      "10.676398813132224\n",
      "10.815006696803554\n",
      "10.943074713107062\n",
      "11.06169608856131\n",
      "11.171796557865978\n",
      "11.274168698406971\n",
      "11.369497923321157\n",
      "11.458382403088061\n",
      "11.541348507394614\n",
      "11.618862900897518\n",
      "11.691342111649096\n",
      "11.759160171124284\n",
      "11.82265476908166\n",
      "11.882132254740537\n",
      "11.93787173457216\n",
      "11.990128457364433\n"
     ]
    }
   ],
   "source": [
    "for b in range(len(cx)):\n",
    "    print(Erts(cx[b]**(1/4)))"
   ]
  },
  {
   "cell_type": "code",
   "execution_count": 28,
   "metadata": {},
   "outputs": [
    {
     "name": "stdout",
     "output_type": "stream",
     "text": [
      "4.0\n",
      "3.8618537210962502\n",
      "3.723504471936959\n",
      "3.585296542699341\n",
      "3.447627652408618\n",
      "3.3109378314759836\n",
      "3.1756935162950146\n",
      "3.0423684064017205\n",
      "2.9114232902225354\n",
      "2.783287231818322\n",
      "2.6583421667468516\n",
      "2.5369122072942862\n",
      "2.419258055637582\n",
      "2.305576123779829\n",
      "2.196001426652666\n",
      "2.090613091811167\n",
      "1.989441361609161\n",
      "1.8924751539531905\n",
      "1.7996695003137573\n",
      "1.7109524261181592\n",
      "1.6262310420554793\n",
      "1.5453967633315622\n",
      "1.468329670923533\n",
      "1.3949020846849007\n",
      "1.3249814444397872\n",
      "1.2584326022783048\n",
      "1.1951196250306952\n",
      "1.1349071958695116\n",
      "1.0776616917119015\n",
      "1.023252000663493\n"
     ]
    }
   ],
   "source": [
    "for b in range(len(cx)):\n",
    "    print(Edata(cx[b]**(1/4)))"
   ]
  },
  {
   "cell_type": "code",
   "execution_count": 11,
   "metadata": {},
   "outputs": [
    {
     "ename": "NameError",
     "evalue": "name 'cx' is not defined",
     "output_type": "error",
     "traceback": [
      "\u001b[1;31m---------------------------------------------------------------------------\u001b[0m",
      "\u001b[1;31mNameError\u001b[0m                                 Traceback (most recent call last)",
      "\u001b[1;32m<ipython-input-11-eede88742650>\u001b[0m in \u001b[0;36m<module>\u001b[1;34m\u001b[0m\n\u001b[1;32m----> 1\u001b[1;33m \u001b[1;32mfor\u001b[0m \u001b[0mb\u001b[0m \u001b[1;32min\u001b[0m \u001b[0mrange\u001b[0m\u001b[1;33m(\u001b[0m\u001b[0mlen\u001b[0m\u001b[1;33m(\u001b[0m\u001b[0mcx\u001b[0m\u001b[1;33m)\u001b[0m\u001b[1;33m)\u001b[0m\u001b[1;33m:\u001b[0m\u001b[1;33m\u001b[0m\u001b[1;33m\u001b[0m\u001b[0m\n\u001b[0m\u001b[0;32m      2\u001b[0m     \u001b[0mprint\u001b[0m\u001b[1;33m(\u001b[0m\u001b[0mEtconew\u001b[0m\u001b[1;33m(\u001b[0m\u001b[0mcx\u001b[0m\u001b[1;33m[\u001b[0m\u001b[0mb\u001b[0m\u001b[1;33m]\u001b[0m\u001b[1;33m**\u001b[0m\u001b[1;33m(\u001b[0m\u001b[1;36m1\u001b[0m\u001b[1;33m/\u001b[0m\u001b[1;36m4\u001b[0m\u001b[1;33m)\u001b[0m\u001b[1;33m)\u001b[0m\u001b[1;33m)\u001b[0m\u001b[1;33m\u001b[0m\u001b[1;33m\u001b[0m\u001b[0m\n",
      "\u001b[1;31mNameError\u001b[0m: name 'cx' is not defined"
     ]
    }
   ],
   "source": [
    "for b in range(len(cx)):\n",
    "    print(Etconew(cx[b]**(1/4)))"
   ]
  },
  {
   "cell_type": "code",
   "execution_count": 12,
   "metadata": {},
   "outputs": [
    {
     "ename": "NameError",
     "evalue": "name 'cx' is not defined",
     "output_type": "error",
     "traceback": [
      "\u001b[1;31m---------------------------------------------------------------------------\u001b[0m",
      "\u001b[1;31mNameError\u001b[0m                                 Traceback (most recent call last)",
      "\u001b[1;32m<ipython-input-12-63dbe2d7e5c3>\u001b[0m in \u001b[0;36m<module>\u001b[1;34m\u001b[0m\n\u001b[1;32m----> 1\u001b[1;33m \u001b[1;32mfor\u001b[0m \u001b[0mb\u001b[0m \u001b[1;32min\u001b[0m \u001b[0mrange\u001b[0m\u001b[1;33m(\u001b[0m\u001b[0mlen\u001b[0m\u001b[1;33m(\u001b[0m\u001b[0mcx\u001b[0m\u001b[1;33m)\u001b[0m\u001b[1;33m)\u001b[0m\u001b[1;33m:\u001b[0m\u001b[1;33m\u001b[0m\u001b[1;33m\u001b[0m\u001b[0m\n\u001b[0m\u001b[0;32m      2\u001b[0m     \u001b[0mprint\u001b[0m\u001b[1;33m(\u001b[0m\u001b[0mtau_rts\u001b[0m\u001b[1;33m(\u001b[0m\u001b[0mcx\u001b[0m\u001b[1;33m[\u001b[0m\u001b[0mb\u001b[0m\u001b[1;33m]\u001b[0m\u001b[1;33m**\u001b[0m\u001b[1;33m(\u001b[0m\u001b[1;36m1\u001b[0m\u001b[1;33m/\u001b[0m\u001b[1;36m4\u001b[0m\u001b[1;33m)\u001b[0m\u001b[1;33m)\u001b[0m\u001b[1;33m)\u001b[0m\u001b[1;33m\u001b[0m\u001b[1;33m\u001b[0m\u001b[0m\n",
      "\u001b[1;31mNameError\u001b[0m: name 'cx' is not defined"
     ]
    }
   ],
   "source": [
    "for b in range(len(cx)):\n",
    "    print(tau_rts(cx[b]**(1/4)))"
   ]
  },
  {
   "cell_type": "code",
   "execution_count": 13,
   "metadata": {},
   "outputs": [
    {
     "ename": "NameError",
     "evalue": "name 'cx' is not defined",
     "output_type": "error",
     "traceback": [
      "\u001b[1;31m---------------------------------------------------------------------------\u001b[0m",
      "\u001b[1;31mNameError\u001b[0m                                 Traceback (most recent call last)",
      "\u001b[1;32m<ipython-input-13-554df2da5b47>\u001b[0m in \u001b[0;36m<module>\u001b[1;34m\u001b[0m\n\u001b[1;32m----> 1\u001b[1;33m \u001b[1;32mfor\u001b[0m \u001b[0mb\u001b[0m \u001b[1;32min\u001b[0m \u001b[0mrange\u001b[0m\u001b[1;33m(\u001b[0m\u001b[0mlen\u001b[0m\u001b[1;33m(\u001b[0m\u001b[0mcx\u001b[0m\u001b[1;33m)\u001b[0m\u001b[1;33m)\u001b[0m\u001b[1;33m:\u001b[0m\u001b[1;33m\u001b[0m\u001b[1;33m\u001b[0m\u001b[0m\n\u001b[0m\u001b[0;32m      2\u001b[0m     \u001b[0mprint\u001b[0m\u001b[1;33m(\u001b[0m\u001b[0mtau_data\u001b[0m\u001b[1;33m(\u001b[0m\u001b[0mcx\u001b[0m\u001b[1;33m[\u001b[0m\u001b[0mb\u001b[0m\u001b[1;33m]\u001b[0m\u001b[1;33m**\u001b[0m\u001b[1;33m(\u001b[0m\u001b[1;36m1\u001b[0m\u001b[1;33m/\u001b[0m\u001b[1;36m4\u001b[0m\u001b[1;33m)\u001b[0m\u001b[1;33m)\u001b[0m\u001b[1;33m)\u001b[0m\u001b[1;33m\u001b[0m\u001b[1;33m\u001b[0m\u001b[0m\n",
      "\u001b[1;31mNameError\u001b[0m: name 'cx' is not defined"
     ]
    }
   ],
   "source": [
    "for b in range(len(cx)):\n",
    "    print(tau_data(cx[b]**(1/4)))"
   ]
  },
  {
   "cell_type": "code",
   "execution_count": 14,
   "metadata": {},
   "outputs": [
    {
     "ename": "NameError",
     "evalue": "name 'N' is not defined",
     "output_type": "error",
     "traceback": [
      "\u001b[1;31m---------------------------------------------------------------------------\u001b[0m",
      "\u001b[1;31mNameError\u001b[0m                                 Traceback (most recent call last)",
      "\u001b[1;32m<ipython-input-14-f08ca5325400>\u001b[0m in \u001b[0;36m<module>\u001b[1;34m\u001b[0m\n\u001b[1;32m----> 1\u001b[1;33m \u001b[0mcx2\u001b[0m \u001b[1;33m=\u001b[0m \u001b[0mcalculate_transcendental_equation\u001b[0m\u001b[1;33m(\u001b[0m\u001b[0mtr_eq_data\u001b[0m\u001b[1;33m)\u001b[0m\u001b[1;33m\u001b[0m\u001b[1;33m\u001b[0m\u001b[0m\n\u001b[0m\u001b[0;32m      2\u001b[0m \u001b[0mcx2\u001b[0m\u001b[1;33m\u001b[0m\u001b[1;33m\u001b[0m\u001b[0m\n",
      "\u001b[1;32m<ipython-input-6-7acd0eadcf2e>\u001b[0m in \u001b[0;36mcalculate_transcendental_equation\u001b[1;34m(tr_eq)\u001b[0m\n\u001b[0;32m     14\u001b[0m \u001b[1;33m\u001b[0m\u001b[0m\n\u001b[0;32m     15\u001b[0m \u001b[1;32mdef\u001b[0m \u001b[0mcalculate_transcendental_equation\u001b[0m\u001b[1;33m(\u001b[0m\u001b[0mtr_eq\u001b[0m\u001b[1;33m)\u001b[0m\u001b[1;33m:\u001b[0m\u001b[1;33m\u001b[0m\u001b[1;33m\u001b[0m\u001b[0m\n\u001b[1;32m---> 16\u001b[1;33m     \u001b[1;32mreturn\u001b[0m \u001b[0mnp\u001b[0m\u001b[1;33m.\u001b[0m\u001b[0marray\u001b[0m\u001b[1;33m(\u001b[0m\u001b[1;33m[\u001b[0m\u001b[0mroot\u001b[0m\u001b[1;33m(\u001b[0m\u001b[0mtr_eq\u001b[0m\u001b[1;33m,\u001b[0m \u001b[1;36m0.1\u001b[0m\u001b[1;33m,\u001b[0m \u001b[0margs\u001b[0m\u001b[1;33m=\u001b[0m\u001b[1;33m(\u001b[0m\u001b[0mnode\u001b[0m\u001b[1;33m)\u001b[0m\u001b[1;33m)\u001b[0m\u001b[1;33m.\u001b[0m\u001b[0mx\u001b[0m\u001b[1;33m[\u001b[0m\u001b[1;36m0\u001b[0m\u001b[1;33m]\u001b[0m \u001b[1;32mfor\u001b[0m \u001b[0mnode\u001b[0m \u001b[1;32min\u001b[0m \u001b[0mrange\u001b[0m\u001b[1;33m(\u001b[0m\u001b[1;36m1\u001b[0m\u001b[1;33m,\u001b[0m \u001b[1;36m31\u001b[0m\u001b[1;33m)\u001b[0m\u001b[1;33m]\u001b[0m\u001b[1;33m)\u001b[0m\u001b[1;33m\u001b[0m\u001b[1;33m\u001b[0m\u001b[0m\n\u001b[0m",
      "\u001b[1;32m<ipython-input-6-7acd0eadcf2e>\u001b[0m in \u001b[0;36m<listcomp>\u001b[1;34m(.0)\u001b[0m\n\u001b[0;32m     14\u001b[0m \u001b[1;33m\u001b[0m\u001b[0m\n\u001b[0;32m     15\u001b[0m \u001b[1;32mdef\u001b[0m \u001b[0mcalculate_transcendental_equation\u001b[0m\u001b[1;33m(\u001b[0m\u001b[0mtr_eq\u001b[0m\u001b[1;33m)\u001b[0m\u001b[1;33m:\u001b[0m\u001b[1;33m\u001b[0m\u001b[1;33m\u001b[0m\u001b[0m\n\u001b[1;32m---> 16\u001b[1;33m     \u001b[1;32mreturn\u001b[0m \u001b[0mnp\u001b[0m\u001b[1;33m.\u001b[0m\u001b[0marray\u001b[0m\u001b[1;33m(\u001b[0m\u001b[1;33m[\u001b[0m\u001b[0mroot\u001b[0m\u001b[1;33m(\u001b[0m\u001b[0mtr_eq\u001b[0m\u001b[1;33m,\u001b[0m \u001b[1;36m0.1\u001b[0m\u001b[1;33m,\u001b[0m \u001b[0margs\u001b[0m\u001b[1;33m=\u001b[0m\u001b[1;33m(\u001b[0m\u001b[0mnode\u001b[0m\u001b[1;33m)\u001b[0m\u001b[1;33m)\u001b[0m\u001b[1;33m.\u001b[0m\u001b[0mx\u001b[0m\u001b[1;33m[\u001b[0m\u001b[1;36m0\u001b[0m\u001b[1;33m]\u001b[0m \u001b[1;32mfor\u001b[0m \u001b[0mnode\u001b[0m \u001b[1;32min\u001b[0m \u001b[0mrange\u001b[0m\u001b[1;33m(\u001b[0m\u001b[1;36m1\u001b[0m\u001b[1;33m,\u001b[0m \u001b[1;36m31\u001b[0m\u001b[1;33m)\u001b[0m\u001b[1;33m]\u001b[0m\u001b[1;33m)\u001b[0m\u001b[1;33m\u001b[0m\u001b[1;33m\u001b[0m\u001b[0m\n\u001b[0m",
      "\u001b[1;32m~\\Anaconda3\\envs\\science\\lib\\site-packages\\scipy\\optimize\\_root.py\u001b[0m in \u001b[0;36mroot\u001b[1;34m(fun, x0, args, method, jac, tol, callback, options)\u001b[0m\n\u001b[0;32m    185\u001b[0m \u001b[1;33m\u001b[0m\u001b[0m\n\u001b[0;32m    186\u001b[0m     \u001b[1;32mif\u001b[0m \u001b[0mmeth\u001b[0m \u001b[1;33m==\u001b[0m \u001b[1;34m'hybr'\u001b[0m\u001b[1;33m:\u001b[0m\u001b[1;33m\u001b[0m\u001b[1;33m\u001b[0m\u001b[0m\n\u001b[1;32m--> 187\u001b[1;33m         \u001b[0msol\u001b[0m \u001b[1;33m=\u001b[0m \u001b[0m_root_hybr\u001b[0m\u001b[1;33m(\u001b[0m\u001b[0mfun\u001b[0m\u001b[1;33m,\u001b[0m \u001b[0mx0\u001b[0m\u001b[1;33m,\u001b[0m \u001b[0margs\u001b[0m\u001b[1;33m=\u001b[0m\u001b[0margs\u001b[0m\u001b[1;33m,\u001b[0m \u001b[0mjac\u001b[0m\u001b[1;33m=\u001b[0m\u001b[0mjac\u001b[0m\u001b[1;33m,\u001b[0m \u001b[1;33m**\u001b[0m\u001b[0moptions\u001b[0m\u001b[1;33m)\u001b[0m\u001b[1;33m\u001b[0m\u001b[1;33m\u001b[0m\u001b[0m\n\u001b[0m\u001b[0;32m    188\u001b[0m     \u001b[1;32melif\u001b[0m \u001b[0mmeth\u001b[0m \u001b[1;33m==\u001b[0m \u001b[1;34m'lm'\u001b[0m\u001b[1;33m:\u001b[0m\u001b[1;33m\u001b[0m\u001b[1;33m\u001b[0m\u001b[0m\n\u001b[0;32m    189\u001b[0m         \u001b[0msol\u001b[0m \u001b[1;33m=\u001b[0m \u001b[0m_root_leastsq\u001b[0m\u001b[1;33m(\u001b[0m\u001b[0mfun\u001b[0m\u001b[1;33m,\u001b[0m \u001b[0mx0\u001b[0m\u001b[1;33m,\u001b[0m \u001b[0margs\u001b[0m\u001b[1;33m=\u001b[0m\u001b[0margs\u001b[0m\u001b[1;33m,\u001b[0m \u001b[0mjac\u001b[0m\u001b[1;33m=\u001b[0m\u001b[0mjac\u001b[0m\u001b[1;33m,\u001b[0m \u001b[1;33m**\u001b[0m\u001b[0moptions\u001b[0m\u001b[1;33m)\u001b[0m\u001b[1;33m\u001b[0m\u001b[1;33m\u001b[0m\u001b[0m\n",
      "\u001b[1;32m~\\Anaconda3\\envs\\science\\lib\\site-packages\\scipy\\optimize\\minpack.py\u001b[0m in \u001b[0;36m_root_hybr\u001b[1;34m(func, x0, args, jac, col_deriv, xtol, maxfev, band, eps, factor, diag, **unknown_options)\u001b[0m\n\u001b[0;32m    211\u001b[0m     \u001b[1;32mif\u001b[0m \u001b[1;32mnot\u001b[0m \u001b[0misinstance\u001b[0m\u001b[1;33m(\u001b[0m\u001b[0margs\u001b[0m\u001b[1;33m,\u001b[0m \u001b[0mtuple\u001b[0m\u001b[1;33m)\u001b[0m\u001b[1;33m:\u001b[0m\u001b[1;33m\u001b[0m\u001b[1;33m\u001b[0m\u001b[0m\n\u001b[0;32m    212\u001b[0m         \u001b[0margs\u001b[0m \u001b[1;33m=\u001b[0m \u001b[1;33m(\u001b[0m\u001b[0margs\u001b[0m\u001b[1;33m,\u001b[0m\u001b[1;33m)\u001b[0m\u001b[1;33m\u001b[0m\u001b[1;33m\u001b[0m\u001b[0m\n\u001b[1;32m--> 213\u001b[1;33m     \u001b[0mshape\u001b[0m\u001b[1;33m,\u001b[0m \u001b[0mdtype\u001b[0m \u001b[1;33m=\u001b[0m \u001b[0m_check_func\u001b[0m\u001b[1;33m(\u001b[0m\u001b[1;34m'fsolve'\u001b[0m\u001b[1;33m,\u001b[0m \u001b[1;34m'func'\u001b[0m\u001b[1;33m,\u001b[0m \u001b[0mfunc\u001b[0m\u001b[1;33m,\u001b[0m \u001b[0mx0\u001b[0m\u001b[1;33m,\u001b[0m \u001b[0margs\u001b[0m\u001b[1;33m,\u001b[0m \u001b[0mn\u001b[0m\u001b[1;33m,\u001b[0m \u001b[1;33m(\u001b[0m\u001b[0mn\u001b[0m\u001b[1;33m,\u001b[0m\u001b[1;33m)\u001b[0m\u001b[1;33m)\u001b[0m\u001b[1;33m\u001b[0m\u001b[1;33m\u001b[0m\u001b[0m\n\u001b[0m\u001b[0;32m    214\u001b[0m     \u001b[1;32mif\u001b[0m \u001b[0mepsfcn\u001b[0m \u001b[1;32mis\u001b[0m \u001b[1;32mNone\u001b[0m\u001b[1;33m:\u001b[0m\u001b[1;33m\u001b[0m\u001b[1;33m\u001b[0m\u001b[0m\n\u001b[0;32m    215\u001b[0m         \u001b[0mepsfcn\u001b[0m \u001b[1;33m=\u001b[0m \u001b[0mfinfo\u001b[0m\u001b[1;33m(\u001b[0m\u001b[0mdtype\u001b[0m\u001b[1;33m)\u001b[0m\u001b[1;33m.\u001b[0m\u001b[0meps\u001b[0m\u001b[1;33m\u001b[0m\u001b[1;33m\u001b[0m\u001b[0m\n",
      "\u001b[1;32m~\\Anaconda3\\envs\\science\\lib\\site-packages\\scipy\\optimize\\minpack.py\u001b[0m in \u001b[0;36m_check_func\u001b[1;34m(checker, argname, thefunc, x0, args, numinputs, output_shape)\u001b[0m\n\u001b[0;32m     24\u001b[0m def _check_func(checker, argname, thefunc, x0, args, numinputs,\n\u001b[0;32m     25\u001b[0m                 output_shape=None):\n\u001b[1;32m---> 26\u001b[1;33m     \u001b[0mres\u001b[0m \u001b[1;33m=\u001b[0m \u001b[0matleast_1d\u001b[0m\u001b[1;33m(\u001b[0m\u001b[0mthefunc\u001b[0m\u001b[1;33m(\u001b[0m\u001b[1;33m*\u001b[0m\u001b[1;33m(\u001b[0m\u001b[1;33m(\u001b[0m\u001b[0mx0\u001b[0m\u001b[1;33m[\u001b[0m\u001b[1;33m:\u001b[0m\u001b[0mnuminputs\u001b[0m\u001b[1;33m]\u001b[0m\u001b[1;33m,\u001b[0m\u001b[1;33m)\u001b[0m \u001b[1;33m+\u001b[0m \u001b[0margs\u001b[0m\u001b[1;33m)\u001b[0m\u001b[1;33m)\u001b[0m\u001b[1;33m)\u001b[0m\u001b[1;33m\u001b[0m\u001b[1;33m\u001b[0m\u001b[0m\n\u001b[0m\u001b[0;32m     27\u001b[0m     \u001b[1;32mif\u001b[0m \u001b[1;33m(\u001b[0m\u001b[0moutput_shape\u001b[0m \u001b[1;32mis\u001b[0m \u001b[1;32mnot\u001b[0m \u001b[1;32mNone\u001b[0m\u001b[1;33m)\u001b[0m \u001b[1;32mand\u001b[0m \u001b[1;33m(\u001b[0m\u001b[0mshape\u001b[0m\u001b[1;33m(\u001b[0m\u001b[0mres\u001b[0m\u001b[1;33m)\u001b[0m \u001b[1;33m!=\u001b[0m \u001b[0moutput_shape\u001b[0m\u001b[1;33m)\u001b[0m\u001b[1;33m:\u001b[0m\u001b[1;33m\u001b[0m\u001b[1;33m\u001b[0m\u001b[0m\n\u001b[0;32m     28\u001b[0m         \u001b[1;32mif\u001b[0m \u001b[1;33m(\u001b[0m\u001b[0moutput_shape\u001b[0m\u001b[1;33m[\u001b[0m\u001b[1;36m0\u001b[0m\u001b[1;33m]\u001b[0m \u001b[1;33m!=\u001b[0m \u001b[1;36m1\u001b[0m\u001b[1;33m)\u001b[0m\u001b[1;33m:\u001b[0m\u001b[1;33m\u001b[0m\u001b[1;33m\u001b[0m\u001b[0m\n",
      "\u001b[1;32m<ipython-input-6-7acd0eadcf2e>\u001b[0m in \u001b[0;36mtr_eq_data\u001b[1;34m(p, n)\u001b[0m\n\u001b[0;32m     10\u001b[0m \u001b[1;33m\u001b[0m\u001b[0m\n\u001b[0;32m     11\u001b[0m \u001b[1;32mdef\u001b[0m \u001b[0mtr_eq_data\u001b[0m\u001b[1;33m(\u001b[0m\u001b[0mp\u001b[0m\u001b[1;33m,\u001b[0m \u001b[0mn\u001b[0m\u001b[1;33m)\u001b[0m\u001b[1;33m:\u001b[0m\u001b[1;33m\u001b[0m\u001b[1;33m\u001b[0m\u001b[0m\n\u001b[1;32m---> 12\u001b[1;33m     \u001b[0mtau\u001b[0m \u001b[1;33m=\u001b[0m \u001b[0mtau_data\u001b[0m\u001b[1;33m(\u001b[0m\u001b[0mp\u001b[0m\u001b[1;33m)\u001b[0m\u001b[1;33m\u001b[0m\u001b[1;33m\u001b[0m\u001b[0m\n\u001b[0m\u001b[0;32m     13\u001b[0m     \u001b[1;32mreturn\u001b[0m \u001b[0mp\u001b[0m \u001b[1;33m-\u001b[0m \u001b[1;33m(\u001b[0m\u001b[1;36m1\u001b[0m \u001b[1;33m-\u001b[0m \u001b[1;33m(\u001b[0m\u001b[1;36m1\u001b[0m \u001b[1;33m-\u001b[0m \u001b[0mtau\u001b[0m\u001b[1;33m)\u001b[0m \u001b[1;33m**\u001b[0m \u001b[1;33m(\u001b[0m\u001b[0mn\u001b[0m\u001b[1;33m-\u001b[0m\u001b[1;36m1\u001b[0m\u001b[1;33m)\u001b[0m\u001b[1;33m)\u001b[0m\u001b[1;33m\u001b[0m\u001b[1;33m\u001b[0m\u001b[0m\n\u001b[0;32m     14\u001b[0m \u001b[1;33m\u001b[0m\u001b[0m\n",
      "\u001b[1;32m<ipython-input-6-7acd0eadcf2e>\u001b[0m in \u001b[0;36mtau_data\u001b[1;34m(p)\u001b[0m\n\u001b[0;32m      3\u001b[0m \u001b[1;33m\u001b[0m\u001b[0m\n\u001b[0;32m      4\u001b[0m \u001b[1;32mdef\u001b[0m \u001b[0mtau_data\u001b[0m\u001b[1;33m(\u001b[0m\u001b[0mp\u001b[0m\u001b[1;33m)\u001b[0m\u001b[1;33m:\u001b[0m\u001b[1;33m\u001b[0m\u001b[1;33m\u001b[0m\u001b[0m\n\u001b[1;32m----> 5\u001b[1;33m     \u001b[1;32mreturn\u001b[0m \u001b[0mEdata\u001b[0m\u001b[1;33m(\u001b[0m\u001b[0mp\u001b[0m\u001b[1;33m)\u001b[0m \u001b[1;33m/\u001b[0m \u001b[0mEtconew\u001b[0m\u001b[1;33m(\u001b[0m\u001b[0mp\u001b[0m\u001b[1;33m)\u001b[0m\u001b[1;33m\u001b[0m\u001b[1;33m\u001b[0m\u001b[0m\n\u001b[0m\u001b[0;32m      6\u001b[0m \u001b[1;33m\u001b[0m\u001b[0m\n\u001b[0;32m      7\u001b[0m \u001b[1;32mdef\u001b[0m \u001b[0mtr_eq_rts\u001b[0m\u001b[1;33m(\u001b[0m\u001b[0mp\u001b[0m\u001b[1;33m,\u001b[0m \u001b[0mn\u001b[0m\u001b[1;33m)\u001b[0m\u001b[1;33m:\u001b[0m\u001b[1;33m\u001b[0m\u001b[1;33m\u001b[0m\u001b[0m\n",
      "\u001b[1;32m<ipython-input-5-44502096e349>\u001b[0m in \u001b[0;36mEdata\u001b[1;34m(p)\u001b[0m\n\u001b[0;32m      7\u001b[0m \u001b[1;32mdef\u001b[0m \u001b[0mEdata\u001b[0m\u001b[1;33m(\u001b[0m\u001b[0mp\u001b[0m\u001b[1;33m)\u001b[0m\u001b[1;33m:\u001b[0m\u001b[1;33m\u001b[0m\u001b[1;33m\u001b[0m\u001b[0m\n\u001b[0;32m      8\u001b[0m     \u001b[0ms\u001b[0m \u001b[1;33m=\u001b[0m \u001b[1;36m0\u001b[0m\u001b[1;33m\u001b[0m\u001b[1;33m\u001b[0m\u001b[0m\n\u001b[1;32m----> 9\u001b[1;33m     \u001b[1;32mfor\u001b[0m \u001b[0mi\u001b[0m \u001b[1;32min\u001b[0m \u001b[0mrange\u001b[0m\u001b[1;33m(\u001b[0m\u001b[1;36m1\u001b[0m\u001b[1;33m,\u001b[0m \u001b[0mN\u001b[0m\u001b[1;33m+\u001b[0m\u001b[1;36m1\u001b[0m \u001b[1;33m+\u001b[0m \u001b[1;36m1\u001b[0m\u001b[1;33m)\u001b[0m\u001b[1;33m:\u001b[0m\u001b[1;33m\u001b[0m\u001b[1;33m\u001b[0m\u001b[0m\n\u001b[0m\u001b[0;32m     10\u001b[0m         \u001b[0ms\u001b[0m \u001b[1;33m+=\u001b[0m \u001b[0mT_data\u001b[0m \u001b[1;33m*\u001b[0m \u001b[0mpa\u001b[0m \u001b[1;33m*\u001b[0m \u001b[0mp\u001b[0m\u001b[1;33m**\u001b[0m\u001b[1;33m(\u001b[0m\u001b[0mi\u001b[0m\u001b[1;33m-\u001b[0m\u001b[1;36m1\u001b[0m\u001b[1;33m)\u001b[0m \u001b[1;33m*\u001b[0m \u001b[1;33m(\u001b[0m\u001b[1;36m1\u001b[0m \u001b[1;33m-\u001b[0m \u001b[0mp\u001b[0m\u001b[1;33m)\u001b[0m\u001b[1;33m\u001b[0m\u001b[1;33m\u001b[0m\u001b[0m\n\u001b[0;32m     11\u001b[0m     \u001b[1;32mreturn\u001b[0m \u001b[0ms\u001b[0m\u001b[1;33m\u001b[0m\u001b[1;33m\u001b[0m\u001b[0m\n",
      "\u001b[1;31mNameError\u001b[0m: name 'N' is not defined"
     ]
    }
   ],
   "source": [
    "cx2 = calculate_transcendental_equation(tr_eq_data)\n",
    "cx2"
   ]
  },
  {
   "cell_type": "code",
   "execution_count": 15,
   "metadata": {},
   "outputs": [
    {
     "ename": "NameError",
     "evalue": "name 'N' is not defined",
     "output_type": "error",
     "traceback": [
      "\u001b[1;31m---------------------------------------------------------------------------\u001b[0m",
      "\u001b[1;31mNameError\u001b[0m                                 Traceback (most recent call last)",
      "\u001b[1;32m<ipython-input-15-a6c09ee4466e>\u001b[0m in \u001b[0;36m<module>\u001b[1;34m\u001b[0m\n\u001b[1;32m----> 1\u001b[1;33m \u001b[0mEdata\u001b[0m\u001b[1;33m(\u001b[0m\u001b[1;36m0\u001b[0m\u001b[1;33m)\u001b[0m\u001b[1;33m\u001b[0m\u001b[1;33m\u001b[0m\u001b[0m\n\u001b[0m",
      "\u001b[1;32m<ipython-input-5-44502096e349>\u001b[0m in \u001b[0;36mEdata\u001b[1;34m(p)\u001b[0m\n\u001b[0;32m      7\u001b[0m \u001b[1;32mdef\u001b[0m \u001b[0mEdata\u001b[0m\u001b[1;33m(\u001b[0m\u001b[0mp\u001b[0m\u001b[1;33m)\u001b[0m\u001b[1;33m:\u001b[0m\u001b[1;33m\u001b[0m\u001b[1;33m\u001b[0m\u001b[0m\n\u001b[0;32m      8\u001b[0m     \u001b[0ms\u001b[0m \u001b[1;33m=\u001b[0m \u001b[1;36m0\u001b[0m\u001b[1;33m\u001b[0m\u001b[1;33m\u001b[0m\u001b[0m\n\u001b[1;32m----> 9\u001b[1;33m     \u001b[1;32mfor\u001b[0m \u001b[0mi\u001b[0m \u001b[1;32min\u001b[0m \u001b[0mrange\u001b[0m\u001b[1;33m(\u001b[0m\u001b[1;36m1\u001b[0m\u001b[1;33m,\u001b[0m \u001b[0mN\u001b[0m\u001b[1;33m+\u001b[0m\u001b[1;36m1\u001b[0m \u001b[1;33m+\u001b[0m \u001b[1;36m1\u001b[0m\u001b[1;33m)\u001b[0m\u001b[1;33m:\u001b[0m\u001b[1;33m\u001b[0m\u001b[1;33m\u001b[0m\u001b[0m\n\u001b[0m\u001b[0;32m     10\u001b[0m         \u001b[0ms\u001b[0m \u001b[1;33m+=\u001b[0m \u001b[0mT_data\u001b[0m \u001b[1;33m*\u001b[0m \u001b[0mpa\u001b[0m \u001b[1;33m*\u001b[0m \u001b[0mp\u001b[0m\u001b[1;33m**\u001b[0m\u001b[1;33m(\u001b[0m\u001b[0mi\u001b[0m\u001b[1;33m-\u001b[0m\u001b[1;36m1\u001b[0m\u001b[1;33m)\u001b[0m \u001b[1;33m*\u001b[0m \u001b[1;33m(\u001b[0m\u001b[1;36m1\u001b[0m \u001b[1;33m-\u001b[0m \u001b[0mp\u001b[0m\u001b[1;33m)\u001b[0m\u001b[1;33m\u001b[0m\u001b[1;33m\u001b[0m\u001b[0m\n\u001b[0;32m     11\u001b[0m     \u001b[1;32mreturn\u001b[0m \u001b[0ms\u001b[0m\u001b[1;33m\u001b[0m\u001b[1;33m\u001b[0m\u001b[0m\n",
      "\u001b[1;31mNameError\u001b[0m: name 'N' is not defined"
     ]
    }
   ],
   "source": [
    "Edata(0)"
   ]
  },
  {
   "cell_type": "code",
   "execution_count": 22,
   "metadata": {},
   "outputs": [],
   "source": [
    "def Etconew(p):\n",
    "    \n",
    "    ksi = 0\n",
    "    for i in range(1, N+2):\n",
    "        ksi += p**(i-1) * (T_rts + p*T_out + 0.5*((i*T_max-1) * T_unit) + (T_cts + T_data + T_ack)*(1-p))\n",
    "#     tau = 0\n",
    "#     for i in range(1, N+2):\n",
    "#         tau += (T_rts * p_a * p**(i-1)) / (T_idle + ksi2)\n",
    "    return T_idle / pa + pa * ksi"
   ]
  },
  {
   "cell_type": "code",
   "execution_count": 23,
   "metadata": {},
   "outputs": [
    {
     "ename": "NameError",
     "evalue": "name 'N' is not defined",
     "output_type": "error",
     "traceback": [
      "\u001b[1;31m---------------------------------------------------------------------------\u001b[0m",
      "\u001b[1;31mNameError\u001b[0m                                 Traceback (most recent call last)",
      "\u001b[1;32m<ipython-input-23-7bee2c8c9a04>\u001b[0m in \u001b[0;36m<module>\u001b[1;34m\u001b[0m\n\u001b[1;32m----> 1\u001b[1;33m \u001b[0mEtcnew\u001b[0m\u001b[1;33m(\u001b[0m\u001b[1;36m0.954036\u001b[0m\u001b[1;33m)\u001b[0m\u001b[1;33m,\u001b[0m \u001b[0mEtconew\u001b[0m\u001b[1;33m(\u001b[0m\u001b[1;36m0.954036\u001b[0m\u001b[1;33m)\u001b[0m\u001b[1;33m\u001b[0m\u001b[1;33m\u001b[0m\u001b[0m\n\u001b[0m",
      "\u001b[1;32m<ipython-input-17-6f881a9f5fd2>\u001b[0m in \u001b[0;36mEtcnew\u001b[1;34m(p)\u001b[0m\n\u001b[0;32m      1\u001b[0m \u001b[1;32mdef\u001b[0m \u001b[0mEtcnew\u001b[0m\u001b[1;33m(\u001b[0m\u001b[0mp\u001b[0m\u001b[1;33m)\u001b[0m\u001b[1;33m:\u001b[0m\u001b[1;33m\u001b[0m\u001b[1;33m\u001b[0m\u001b[0m\n\u001b[0;32m      2\u001b[0m     \u001b[0ms1\u001b[0m \u001b[1;33m=\u001b[0m \u001b[1;36m0\u001b[0m\u001b[1;33m\u001b[0m\u001b[1;33m\u001b[0m\u001b[0m\n\u001b[1;32m----> 3\u001b[1;33m     \u001b[1;32mfor\u001b[0m \u001b[0mi\u001b[0m \u001b[1;32min\u001b[0m \u001b[0mrange\u001b[0m\u001b[1;33m(\u001b[0m\u001b[1;36m1\u001b[0m\u001b[1;33m,\u001b[0m \u001b[0mN\u001b[0m\u001b[1;33m+\u001b[0m\u001b[1;36m1\u001b[0m \u001b[1;33m+\u001b[0m \u001b[1;36m1\u001b[0m\u001b[1;33m)\u001b[0m\u001b[1;33m:\u001b[0m\u001b[1;33m\u001b[0m\u001b[1;33m\u001b[0m\u001b[0m\n\u001b[0m\u001b[0;32m      4\u001b[0m         \u001b[0msv\u001b[0m \u001b[1;33m=\u001b[0m \u001b[1;36m0\u001b[0m\u001b[1;33m\u001b[0m\u001b[1;33m\u001b[0m\u001b[0m\n\u001b[0;32m      5\u001b[0m         \u001b[1;32mfor\u001b[0m \u001b[0mn\u001b[0m \u001b[1;32min\u001b[0m \u001b[0mrange\u001b[0m\u001b[1;33m(\u001b[0m\u001b[1;36m1\u001b[0m\u001b[1;33m,\u001b[0m \u001b[0mi\u001b[0m \u001b[1;33m+\u001b[0m \u001b[1;36m1\u001b[0m\u001b[1;33m)\u001b[0m\u001b[1;33m:\u001b[0m\u001b[1;33m\u001b[0m\u001b[1;33m\u001b[0m\u001b[0m\n",
      "\u001b[1;31mNameError\u001b[0m: name 'N' is not defined"
     ]
    }
   ],
   "source": [
    "Etcnew(0.954036), Etconew(0.954036)"
   ]
  },
  {
   "cell_type": "code",
   "execution_count": 295,
   "metadata": {},
   "outputs": [
    {
     "data": {
      "text/plain": [
       "1.0"
      ]
     },
     "execution_count": 295,
     "metadata": {},
     "output_type": "execute_result"
    }
   ],
   "source": [
    "Erts(1) / Etc(1)"
   ]
  },
  {
   "cell_type": "code",
   "execution_count": 296,
   "metadata": {},
   "outputs": [
    {
     "data": {
      "text/plain": [
       "(array([43.2       , 46.7588705 , 50.69677459, 54.81519451, 58.9115642 ,\n",
       "        62.82638035, 66.44954932, 69.7118053 , 72.57397606, 75.01815333,\n",
       "        77.04128004, 78.65067433, 79.8609141 , 80.69163337, 81.1659244 ,\n",
       "        81.30914671, 81.14801661, 80.70989699, 80.02223603, 79.11212123,\n",
       "        78.00592621, 76.7290342 , 75.30562635, 73.75852546, 72.1090873 ,\n",
       "        70.37713269, 68.58091428, 66.73711257, 64.86085616, 62.96576164,\n",
       "        61.06398921, 59.16631018, 57.28218329, 55.41983699, 53.58635528,\n",
       "        51.78776512, 50.02912376, 48.3146045 , 46.64757999, 45.0307021 ,\n",
       "        43.46597782, 41.95484074, 40.49821786, 39.09659164, 37.75005719,\n",
       "        36.45837465, 35.22101704, 34.03721356, 32.90598868, 31.82619724]),\n",
       " array([ 43.2       ,  46.62716319,  50.47232209,  54.65358556,\n",
       "         59.07934731,  63.66953799,  68.36057418,  73.10351668,\n",
       "         77.86069531,  82.60270392,  87.30616366,  91.95216609,\n",
       "         96.52521442, 101.012504  , 105.40342654, 109.68922   ,\n",
       "        113.86271273, 117.91812857, 121.85093153, 125.65769636,\n",
       "        129.33599639, 132.88430312, 136.30189443, 139.58876922,\n",
       "        142.74556752, 145.77349537, 148.67425437, 151.4499755 ,\n",
       "        154.10315747, 156.6366095 , 159.05339841, 161.35680016,\n",
       "        163.55025571, 165.63733095, 167.62168084, 169.50701727,\n",
       "        171.29708068, 172.99561506, 174.60634626, 176.13296312,\n",
       "        177.5791015 , 178.94833073, 180.24414227, 181.46994053,\n",
       "        182.62903545, 183.72463669, 184.75984934, 185.7376708 ,\n",
       "        186.66098887, 187.53258074]))"
      ]
     },
     "execution_count": 296,
     "metadata": {},
     "output_type": "execute_result"
    }
   ],
   "source": [
    "Etc(ans), Etco(ans)"
   ]
  },
  {
   "cell_type": "code",
   "execution_count": 265,
   "metadata": {},
   "outputs": [
    {
     "data": {
      "text/plain": [
       "74.66666666666667"
      ]
     },
     "execution_count": 265,
     "metadata": {},
     "output_type": "execute_result"
    }
   ],
   "source": [
    "T_idle / pa"
   ]
  },
  {
   "cell_type": "code",
   "execution_count": 261,
   "metadata": {},
   "outputs": [
    {
     "data": {
      "text/plain": [
       "111.60180961710955"
      ]
     },
     "execution_count": 261,
     "metadata": {},
     "output_type": "execute_result"
    }
   ],
   "source": [
    "Etc(0.6806212871993961)"
   ]
  },
  {
   "cell_type": "code",
   "execution_count": 309,
   "metadata": {},
   "outputs": [
    {
     "data": {
      "text/plain": [
       "228.31999999999996"
      ]
     },
     "execution_count": 309,
     "metadata": {},
     "output_type": "execute_result"
    }
   ],
   "source": [
    "Etcnew(0)"
   ]
  },
  {
   "cell_type": "code",
   "execution_count": 466,
   "metadata": {},
   "outputs": [
    {
     "data": {
      "text/plain": [
       "array(['13', '14'], dtype='<U4')"
      ]
     },
     "execution_count": 466,
     "metadata": {},
     "output_type": "execute_result"
    }
   ],
   "source": [
    "np.array([['asd', 13], ['asd2', 14]]).T[1]"
   ]
  },
  {
   "cell_type": "code",
   "execution_count": 467,
   "metadata": {},
   "outputs": [
    {
     "data": {
      "text/plain": [
       "array([13, 14])"
      ]
     },
     "execution_count": 467,
     "metadata": {},
     "output_type": "execute_result"
    }
   ],
   "source": [
    "np.array([13, 14])"
   ]
  },
  {
   "cell_type": "code",
   "execution_count": null,
   "metadata": {},
   "outputs": [],
   "source": []
  },
  {
   "cell_type": "code",
   "execution_count": 234,
   "metadata": {},
   "outputs": [
    {
     "data": {
      "text/plain": [
       "0.9548020011785624"
      ]
     },
     "execution_count": 234,
     "metadata": {},
     "output_type": "execute_result"
    }
   ],
   "source": [
    "0.8311**(1/4)"
   ]
  },
  {
   "cell_type": "code",
   "execution_count": 260,
   "metadata": {},
   "outputs": [
    {
     "data": {
      "text/plain": [
       "0.6806212871993961"
      ]
     },
     "execution_count": 260,
     "metadata": {},
     "output_type": "execute_result"
    }
   ],
   "source": [
    "0.21459624187142146**(1/4)"
   ]
  },
  {
   "cell_type": "code",
   "execution_count": 403,
   "metadata": {},
   "outputs": [],
   "source": [
    "def tr_eq1(p, n):\n",
    "    tau = Erts(p) / Etcnew(p)\n",
    "    return p - (1 - (1 - tau) ** (n-1))\n",
    "\n",
    "def calculate_transcendental_equation1():\n",
    "    return [root(tr_eq1, 0.1, args=(node)).x[0] for node in range(1, 51)]\n",
    "\n",
    "def tr_eq2(p, n):\n",
    "    tau = Erts(p) / Etconew(p)\n",
    "    return p - (1 - (1 - tau) ** (n-1))\n",
    "\n",
    "def calculate_transcendental_equation2():\n",
    "    return [root(tr_eq2, 0.1, args=(node)).x[0] for node in range(1, 51)]"
   ]
  },
  {
   "cell_type": "code",
   "execution_count": 404,
   "metadata": {},
   "outputs": [],
   "source": [
    "ans1 = np.array(calculate_transcendental_equation1())\n",
    "ans2 = np.array(calculate_transcendental_equation2())"
   ]
  },
  {
   "cell_type": "code",
   "execution_count": 405,
   "metadata": {},
   "outputs": [
    {
     "data": {
      "text/plain": [
       "array([0.        , 0.06915082, 0.1333306 , 0.19233091, 0.2463198 ,\n",
       "       0.29568988, 0.34091701, 0.38247362, 0.42078849, 0.45623419,\n",
       "       0.48912795, 0.51973787, 0.5482905 , 0.57497811, 0.59996492,\n",
       "       0.62339239, 0.64538338, 0.66604559, 0.68547426, 0.70375431,\n",
       "       0.72096205, 0.73716657, 0.75243082, 0.76681251, 0.7803648 ,\n",
       "       0.7931369 , 0.80517451, 0.81652025, 0.82721395, 0.83729293,\n",
       "       0.84679221, 0.85574473, 0.86418148, 0.87213168, 0.87962288,\n",
       "       0.88668106, 0.89333076, 0.89959514, 0.90549609, 0.91105428,\n",
       "       0.91628922, 0.92121936, 0.92586211, 0.93023394, 0.93435038,\n",
       "       0.9382261 , 0.94187496, 0.94531003, 0.94854367, 0.95158751])"
      ]
     },
     "execution_count": 405,
     "metadata": {},
     "output_type": "execute_result"
    }
   ],
   "source": [
    "ans1"
   ]
  },
  {
   "cell_type": "code",
   "execution_count": 360,
   "metadata": {},
   "outputs": [],
   "source": [
    "nod = 50 - 1"
   ]
  },
  {
   "cell_type": "code",
   "execution_count": 361,
   "metadata": {},
   "outputs": [
    {
     "data": {
      "text/plain": [
       "(0.9836385609444136, 0.9854697236285584)"
      ]
     },
     "execution_count": 361,
     "metadata": {},
     "output_type": "execute_result"
    }
   ],
   "source": [
    "ans1[nod]**(1/4), ans2[nod]**(1/4)"
   ]
  },
  {
   "cell_type": "code",
   "execution_count": 362,
   "metadata": {},
   "outputs": [
    {
     "data": {
      "text/plain": [
       "(228.15393184197745, 219.48012535970926)"
      ]
     },
     "execution_count": 362,
     "metadata": {},
     "output_type": "execute_result"
    }
   ],
   "source": [
    "Etcnew(ans1[nod]**(1/4)), Etconew(ans2[nod]**(1/4))"
   ]
  },
  {
   "cell_type": "code",
   "execution_count": 187,
   "metadata": {},
   "outputs": [
    {
     "data": {
      "text/plain": [
       "0.9871286168148014"
      ]
     },
     "execution_count": 187,
     "metadata": {},
     "output_type": "execute_result"
    }
   ],
   "source": [
    "0.9495**(1/4)"
   ]
  },
  {
   "cell_type": "code",
   "execution_count": 316,
   "metadata": {},
   "outputs": [],
   "source": [
    "a = np.array([1, 3, 7, 12, 5])\n",
    "b = np.array([5, 7, 2, 3, 6, 12, 6, 7, 9, 5, 12])"
   ]
  },
  {
   "cell_type": "code",
   "execution_count": 321,
   "metadata": {},
   "outputs": [
    {
     "data": {
      "text/plain": [
       "(5.6, 6.7272727272727275, 6.163636363636364)"
      ]
     },
     "execution_count": 321,
     "metadata": {},
     "output_type": "execute_result"
    }
   ],
   "source": [
    "np.mean(a), np.mean(b), np.mean([np.mean(a), np.mean(b)])"
   ]
  },
  {
   "cell_type": "code",
   "execution_count": 323,
   "metadata": {},
   "outputs": [
    {
     "data": {
      "text/plain": [
       "6.375"
      ]
     },
     "execution_count": 323,
     "metadata": {},
     "output_type": "execute_result"
    }
   ],
   "source": [
    "np.mean(np.concatenate((a, b)))"
   ]
  },
  {
   "cell_type": "code",
   "execution_count": 324,
   "metadata": {},
   "outputs": [
    {
     "data": {
      "text/plain": [
       "array([ 1,  3,  7, 12,  5,  5,  7,  2,  3,  6, 12,  6,  7,  9,  5, 12])"
      ]
     },
     "execution_count": 324,
     "metadata": {},
     "output_type": "execute_result"
    }
   ],
   "source": [
    "np.concatenate((a, b))"
   ]
  },
  {
   "cell_type": "code",
   "execution_count": null,
   "metadata": {},
   "outputs": [],
   "source": []
  },
  {
   "cell_type": "code",
   "execution_count": 143,
   "metadata": {},
   "outputs": [],
   "source": [
    "def Etc2(p):\n",
    "    s = 0\n",
    "    for i in range(1, N+1 + 1):\n",
    "        s2 = 0\n",
    "        for n in range(1, i + 1):\n",
    "            s2 += (n * T_max - 1) * T_unit / 2\n",
    "        s += ((((i-1)*T_out + s2 + i*T_rts) + (T_cts + T_data + T_ack)) * (1-p) * p**(i-1))\n",
    "    s3 = 0\n",
    "    for i in range(1, N+1 + 1):\n",
    "        s3 += (i * T_max - 1) * T_unit / 2\n",
    "    d = s + ((N+1) * T_out + s3 + (N+1)*T_rts)*p**(N+1)\n",
    "    return (1 - pa) * T_idle + pa * d"
   ]
  },
  {
   "cell_type": "code",
   "execution_count": 144,
   "metadata": {},
   "outputs": [],
   "source": [
    "p30 = [0.000000, 0.0712647, 0.136615, 0.196080, 0.250064, 0.299146, 0.343929, 0.384965, 0.422734, 0.457636, \n",
    "       0.490007, 0.520123, 0.548217, 0.574482, 0.599084, 0.622163, 0.643841, 0.664224, 0.683406, 0.701470, \n",
    "       0.718491, 0.734535, 0.749663, 0.763932, 0.777393, 0.790093, 0.802077, 0.813385, 0.824056, 0.834125]\n",
    "p30 = np.array(p30)"
   ]
  },
  {
   "cell_type": "code",
   "execution_count": 145,
   "metadata": {},
   "outputs": [],
   "source": [
    "p302 = [0.000000, 0.516676, 0.607959, 0.665439, 0.707152, 0.739556, 0.765803, 0.787690, 0.806337, 0.822489, \n",
    "        0.836663, 0.849232, 0.860475, 0.870601, 0.879776, 0.888129, 0.895766, 0.902773, 0.909222, 0.915171, \n",
    "        0.920673, 0.925770, 0.930500, 0.934897, 0.938988, 0.942800, 0.946355, 0.949673, 0.952772, 0.955670]\n",
    "p302 = np.array(p302)"
   ]
  },
  {
   "cell_type": "code",
   "execution_count": 208,
   "metadata": {},
   "outputs": [
    {
     "ename": "NameError",
     "evalue": "name 'p_a' is not defined",
     "output_type": "error",
     "traceback": [
      "\u001b[1;31m---------------------------------------------------------------------------\u001b[0m",
      "\u001b[1;31mNameError\u001b[0m                                 Traceback (most recent call last)",
      "\u001b[1;32m<ipython-input-208-506da914c876>\u001b[0m in \u001b[0;36m<module>\u001b[1;34m\u001b[0m\n\u001b[1;32m----> 1\u001b[1;33m \u001b[0mEtco\u001b[0m\u001b[1;33m(\u001b[0m\u001b[0mp30\u001b[0m\u001b[1;33m)\u001b[0m\u001b[1;33m\u001b[0m\u001b[1;33m\u001b[0m\u001b[0m\n\u001b[0m",
      "\u001b[1;32m<ipython-input-207-72c47c90b65c>\u001b[0m in \u001b[0;36mEtco\u001b[1;34m(p)\u001b[0m\n\u001b[0;32m      2\u001b[0m     \u001b[0mksi\u001b[0m \u001b[1;33m=\u001b[0m \u001b[1;36m0\u001b[0m\u001b[1;33m\u001b[0m\u001b[1;33m\u001b[0m\u001b[0m\n\u001b[0;32m      3\u001b[0m     \u001b[1;32mfor\u001b[0m \u001b[0mi\u001b[0m \u001b[1;32min\u001b[0m \u001b[0mrange\u001b[0m\u001b[1;33m(\u001b[0m\u001b[1;36m1\u001b[0m\u001b[1;33m,\u001b[0m \u001b[0mN\u001b[0m\u001b[1;33m+\u001b[0m\u001b[1;36m2\u001b[0m\u001b[1;33m)\u001b[0m\u001b[1;33m:\u001b[0m\u001b[1;33m\u001b[0m\u001b[1;33m\u001b[0m\u001b[0m\n\u001b[1;32m----> 4\u001b[1;33m         \u001b[0mksi\u001b[0m \u001b[1;33m+=\u001b[0m \u001b[0mp_a\u001b[0m\u001b[1;33m*\u001b[0m\u001b[0mp\u001b[0m\u001b[1;33m**\u001b[0m\u001b[1;33m(\u001b[0m\u001b[0mi\u001b[0m\u001b[1;33m-\u001b[0m\u001b[1;36m1\u001b[0m\u001b[1;33m)\u001b[0m \u001b[1;33m*\u001b[0m \u001b[1;33m(\u001b[0m\u001b[0mT_rts\u001b[0m \u001b[1;33m+\u001b[0m \u001b[0mp\u001b[0m\u001b[1;33m*\u001b[0m\u001b[0mT_out\u001b[0m \u001b[1;33m+\u001b[0m \u001b[1;36m0.5\u001b[0m\u001b[1;33m*\u001b[0m\u001b[0mi\u001b[0m\u001b[1;33m*\u001b[0m\u001b[0mT_bo\u001b[0m \u001b[1;33m+\u001b[0m \u001b[0mT_data\u001b[0m\u001b[1;33m*\u001b[0m\u001b[1;33m(\u001b[0m\u001b[1;36m1\u001b[0m\u001b[1;33m-\u001b[0m\u001b[0mp\u001b[0m\u001b[1;33m)\u001b[0m\u001b[1;33m)\u001b[0m\u001b[1;33m\u001b[0m\u001b[1;33m\u001b[0m\u001b[0m\n\u001b[0m\u001b[0;32m      5\u001b[0m \u001b[1;31m#     tau = 0\u001b[0m\u001b[1;33m\u001b[0m\u001b[1;33m\u001b[0m\u001b[1;33m\u001b[0m\u001b[0m\n\u001b[0;32m      6\u001b[0m \u001b[1;31m#     for i in range(1, N+2):\u001b[0m\u001b[1;33m\u001b[0m\u001b[1;33m\u001b[0m\u001b[1;33m\u001b[0m\u001b[0m\n",
      "\u001b[1;31mNameError\u001b[0m: name 'p_a' is not defined"
     ]
    }
   ],
   "source": [
    "Etco(p30)"
   ]
  },
  {
   "cell_type": "code",
   "execution_count": null,
   "metadata": {},
   "outputs": [],
   "source": []
  },
  {
   "cell_type": "code",
   "execution_count": null,
   "metadata": {},
   "outputs": [],
   "source": []
  },
  {
   "cell_type": "code",
   "execution_count": 223,
   "metadata": {},
   "outputs": [],
   "source": [
    "p_an1 = [0.0000, 0.0713, 0.1366, 0.1961, 0.2501, 0.2991, 0.3439, 0.3850, 0.4227, 0.4576, \n",
    "        0.4900, 0.5201, 0.5482, 0.5745, 0.5991, 0.6222, 0.6438, 0.6642, 0.6834, 0.7015, \n",
    "        0.7185, 0.7345, 0.7497, 0.7639, 0.7774, 0.7901, 0.8021, 0.8134, 0.8241, 0.8341, \n",
    "        0.8436, 0.8526, 0.8611, 0.8690, 0.8766, 0.8837, 0.8904, 0.8967, 0.9026, 0.9083, \n",
    "        0.9136, 0.9186, 0.9233, 0.9277, 0.9319, 0.9359, 0.9396, 0.9431, 0.9464, 0.9495]\n",
    "p_an1 = np.array(p_an1)  \n",
    "\n",
    "p_an2 = [0.0000, 0.5167, 0.6080, 0.6654, 0.7072, 0.7396, 0.7658, 0.7877, 0.8063, 0.8225, \n",
    "         0.8367, 0.8492, 0.8605, 0.8706, 0.8798, 0.8881, 0.8958, 0.9028, 0.9092, 0.9152, \n",
    "         0.9207, 0.9258, 0.9305, 0.9349, 0.9390, 0.9428, 0.9464, 0.9497, 0.9528, 0.9557, \n",
    "         0.9584, 0.9609, 0.9633, 0.9655, 0.9676, 0.9696, 0.9714, 0.9731, 0.9747, 0.9762, \n",
    "         0.9777, 0.9790, 0.9802, 0.9814, 0.9825, 0.9836, 0.9845, 0.9855, 0.9863, 0.9871]\n",
    "p_an2 = np.array(p_an2)"
   ]
  },
  {
   "cell_type": "code",
   "execution_count": 228,
   "metadata": {},
   "outputs": [
    {
     "data": {
      "text/plain": [
       "array([ 43.2       ,  92.06894655, 108.24899142, 119.84970198,\n",
       "       129.01810331, 136.55173137, 142.92050823, 148.43595495,\n",
       "       153.25866781, 157.56329791, 161.41668674, 164.87101327,\n",
       "       168.04406635, 170.92073369, 173.57447982, 175.99601313,\n",
       "       178.26577287, 180.34866347, 182.26927243, 184.08395979,\n",
       "       185.75943716, 187.32334   , 188.77334867, 190.13842878,\n",
       "       191.41707665, 192.60788943, 193.74111069, 194.78424351,\n",
       "       195.76794525, 196.69150683, 197.55426446, 198.35559972,\n",
       "       199.12713078, 199.83630369, 200.5149695 , 201.16288747,\n",
       "       201.74732318, 202.30042963, 202.82201168, 203.31188561,\n",
       "       203.8026217 , 204.22862381, 204.62243147, 205.01679113,\n",
       "       205.37877247, 205.74121776, 206.03810902, 206.36835252,\n",
       "       206.63282346, 206.89753988])"
      ]
     },
     "execution_count": 228,
     "metadata": {},
     "output_type": "execute_result"
    }
   ],
   "source": [
    "Etc(p_an2)"
   ]
  },
  {
   "cell_type": "code",
   "execution_count": 229,
   "metadata": {},
   "outputs": [
    {
     "data": {
      "text/plain": [
       "array([ 38.4       ,  89.19972702, 106.24743239, 118.54874739,\n",
       "       128.31658732, 136.37260674, 143.20378103, 149.13492297,\n",
       "       154.33264164, 158.98101866, 163.14930668, 166.89166697,\n",
       "       170.33406927, 173.45886062, 176.34481098, 178.98099295,\n",
       "       181.45433647, 183.7260794 , 185.82254506, 187.80490276,\n",
       "       189.63649058, 191.34723497, 192.93436208, 194.42938225,\n",
       "       195.83049218, 197.13600591, 198.37896358, 199.52361094,\n",
       "       200.60348405, 201.61772631, 202.56553455, 203.44615944,\n",
       "       204.29429854, 205.07411903, 205.82060067, 206.53345113,\n",
       "       207.17661577, 207.78544126, 208.35968985, 208.89913748,\n",
       "       209.43964024, 209.90892996, 210.34282471, 210.77739588,\n",
       "       211.1763473 , 211.57586765, 211.9031713 , 212.26728908,\n",
       "       212.55892226, 212.85085684])"
      ]
     },
     "execution_count": 229,
     "metadata": {},
     "output_type": "execute_result"
    }
   ],
   "source": [
    "Etco(p_an2)"
   ]
  },
  {
   "cell_type": "code",
   "execution_count": 133,
   "metadata": {},
   "outputs": [
    {
     "name": "stdout",
     "output_type": "stream",
     "text": [
      "1.0\n",
      "0.5\n",
      "0.25\n",
      "0.125\n"
     ]
    },
    {
     "data": {
      "text/plain": [
       "0.9375"
      ]
     },
     "execution_count": 133,
     "metadata": {},
     "output_type": "execute_result"
    }
   ],
   "source": [
    "pa = 1\n",
    "p = 0.5\n",
    "pidle = 0.8\n",
    "n = 3\n",
    "s = 0\n",
    "for i in range(1, 4+1):\n",
    "    print(p**(i-1))\n",
    "    s += p**(i-1) * (1-p)\n",
    "s"
   ]
  },
  {
   "cell_type": "code",
   "execution_count": 135,
   "metadata": {},
   "outputs": [
    {
     "data": {
      "text/plain": [
       "0.9375"
      ]
     },
     "execution_count": 135,
     "metadata": {},
     "output_type": "execute_result"
    }
   ],
   "source": [
    "s2 =  (1-p**(n+1))\n",
    "s2"
   ]
  },
  {
   "cell_type": "code",
   "execution_count": 105,
   "metadata": {},
   "outputs": [],
   "source": [
    "###################################################################"
   ]
  },
  {
   "cell_type": "code",
   "execution_count": 676,
   "metadata": {},
   "outputs": [],
   "source": [
    "pa = 0.01\n",
    "p = 0.97\n",
    "n = 3\n",
    "Tmax = 12"
   ]
  },
  {
   "cell_type": "code",
   "execution_count": 677,
   "metadata": {},
   "outputs": [
    {
     "data": {
      "text/plain": [
       "0.616463097657467"
      ]
     },
     "execution_count": 677,
     "metadata": {},
     "output_type": "execute_result"
    }
   ],
   "source": [
    "s = 0\n",
    "for i in range(1, n+1 + 1):\n",
    "    s += pa * p ** (i-1) * (1 + p + 0.5 * (i*Tmax-1) + (1 - p))\n",
    "pidle = (1 + s)**(-1)\n",
    "pidle"
   ]
  },
  {
   "cell_type": "code",
   "execution_count": 678,
   "metadata": {},
   "outputs": [
    {
     "data": {
      "text/plain": [
       "0.622157115"
      ]
     },
     "execution_count": 678,
     "metadata": {},
     "output_type": "execute_result"
    }
   ],
   "source": [
    "s"
   ]
  },
  {
   "cell_type": "code",
   "execution_count": 679,
   "metadata": {},
   "outputs": [
    {
     "data": {
      "text/plain": [
       "0.0007071274967098369"
      ]
     },
     "execution_count": 679,
     "metadata": {},
     "output_type": "execute_result"
    }
   ],
   "source": [
    "d = 0\n",
    "for i in range(1, n+1 + 1):\n",
    "    d += pa * p**(i-1) * (1-p) * pidle\n",
    "d"
   ]
  },
  {
   "cell_type": "code",
   "execution_count": 680,
   "metadata": {},
   "outputs": [
    {
     "data": {
      "text/plain": [
       "0.6164630976574684"
      ]
     },
     "execution_count": 680,
     "metadata": {},
     "output_type": "execute_result"
    }
   ],
   "source": [
    "c1 = pa / (2 * (1 - p)**2)\n",
    "c2 = 1 - p**(n+1) * ((n+2) - (n+1) * p)\n",
    "c3 = 3 * (1 - p) * (1 - p**(n+1))\n",
    "pidle = (1 + c1 * (c2 * Tmax + c3))**(-1)\n",
    "pidle"
   ]
  },
  {
   "cell_type": "code",
   "execution_count": 681,
   "metadata": {},
   "outputs": [
    {
     "data": {
      "text/plain": [
       "0.0007071274967098383"
      ]
     },
     "execution_count": 681,
     "metadata": {},
     "output_type": "execute_result"
    }
   ],
   "source": [
    "pd = (1 - p**(n+1)) * pa * pidle\n",
    "pd"
   ]
  },
  {
   "cell_type": "code",
   "execution_count": 682,
   "metadata": {},
   "outputs": [
    {
     "data": {
      "text/plain": [
       "0.6221571149999965"
      ]
     },
     "execution_count": 682,
     "metadata": {},
     "output_type": "execute_result"
    }
   ],
   "source": [
    "c1 * (c2 * Tmax + c3)"
   ]
  },
  {
   "cell_type": "code",
   "execution_count": 683,
   "metadata": {},
   "outputs": [
    {
     "data": {
      "text/plain": [
       "0.622157115"
      ]
     },
     "execution_count": 683,
     "metadata": {},
     "output_type": "execute_result"
    }
   ],
   "source": [
    "ksi = 0\n",
    "for i in range(1, n+2):\n",
    "    ksi += pa*p**(i-1) * (1 + p*1 + 0.5*((i*T_max-1) * 1) + (1-p))\n",
    "ksi\n",
    "# T_idle / pa + ksi"
   ]
  },
  {
   "cell_type": "code",
   "execution_count": 624,
   "metadata": {},
   "outputs": [],
   "source": [
    "###################################################################"
   ]
  },
  {
   "cell_type": "code",
   "execution_count": 625,
   "metadata": {},
   "outputs": [
    {
     "data": {
      "text/plain": [
       "1.0100755000000001"
      ]
     },
     "execution_count": 625,
     "metadata": {},
     "output_type": "execute_result"
    }
   ],
   "source": [
    "s = 0\n",
    "n = 3\n",
    "p = 0.005\n",
    "for i in range(1, n+1 + 1):\n",
    "    s += i * p**(i-1)\n",
    "s"
   ]
  },
  {
   "cell_type": "code",
   "execution_count": 626,
   "metadata": {},
   "outputs": [
    {
     "data": {
      "text/plain": [
       "1.0100755"
      ]
     },
     "execution_count": 626,
     "metadata": {},
     "output_type": "execute_result"
    }
   ],
   "source": [
    "(1 - p**(n+1) * ((n+2) - (n+1)*p)) / (1 - p)**2"
   ]
  },
  {
   "cell_type": "code",
   "execution_count": 627,
   "metadata": {},
   "outputs": [
    {
     "data": {
      "text/plain": [
       "2.7789702187499996"
      ]
     },
     "execution_count": 627,
     "metadata": {},
     "output_type": "execute_result"
    }
   ],
   "source": [
    "pibo = pa * (((1 - p**(n+1) * ((n+2) - (n+1)*p)) / (2 * (1 - p)**2)) * Tmax - 0.5 * (1-p**(n+1))/(1-p))\n",
    "pibo"
   ]
  },
  {
   "cell_type": "code",
   "execution_count": 628,
   "metadata": {},
   "outputs": [
    {
     "data": {
      "text/plain": [
       "2.7789702187500005"
      ]
     },
     "execution_count": 628,
     "metadata": {},
     "output_type": "execute_result"
    }
   ],
   "source": [
    "s1 = 0\n",
    "s2 = 0\n",
    "for i in range(1, n+1 + 1):\n",
    "    s1 += i * p**(i-1)\n",
    "    s2 += p**(i-1)\n",
    "pa * Tmax * 0.5 * s1 - pa * 0.5 * s2"
   ]
  },
  {
   "cell_type": "code",
   "execution_count": 629,
   "metadata": {},
   "outputs": [
    {
     "data": {
      "text/plain": [
       "2.7789702187499996"
      ]
     },
     "execution_count": 629,
     "metadata": {},
     "output_type": "execute_result"
    }
   ],
   "source": [
    "s1 = 0\n",
    "s2 = 0\n",
    "s1 = (1 - p**(n+1) * ((n+2) - (n+1)*p)) / (1 - p)**2\n",
    "s2 = (1-p**(n+1)) / (1-p)\n",
    "pa * Tmax * 0.5 * s1 - pa * 0.5 * s2"
   ]
  },
  {
   "cell_type": "code",
   "execution_count": 630,
   "metadata": {},
   "outputs": [
    {
     "data": {
      "text/plain": [
       "2.77897021875"
      ]
     },
     "execution_count": 630,
     "metadata": {},
     "output_type": "execute_result"
    }
   ],
   "source": [
    "s = 0\n",
    "for i in range(1, n+1 + 1):\n",
    "    s += pa * p ** (i-1) * 0.5 * (i*Tmax - 1)\n",
    "s"
   ]
  },
  {
   "cell_type": "code",
   "execution_count": null,
   "metadata": {},
   "outputs": [],
   "source": []
  },
  {
   "cell_type": "code",
   "execution_count": null,
   "metadata": {},
   "outputs": [],
   "source": []
  },
  {
   "cell_type": "markdown",
   "metadata": {},
   "source": [
    "# Aloha"
   ]
  },
  {
   "cell_type": "code",
   "execution_count": 60,
   "metadata": {},
   "outputs": [
    {
     "name": "stdout",
     "output_type": "stream",
     "text": [
      "Input parameters:\n",
      "Nodes: 10\n",
      "p_a: 1\n",
      "N_retx: 3\n",
      "T_max: 12\n",
      "T_idle: 0.8 ns\n",
      "T_data: 8.0 ns\n",
      "T_out: 0.8 ns\n",
      "T_ack: 0.8 ns\n",
      "T_bo: 0.8 ns\n"
     ]
    }
   ],
   "source": [
    "pa = 1\n",
    "N = 3\n",
    "nodes = 10\n",
    "T_max = 12\n",
    "T_idle = 0.8\n",
    "T_out = 0.8\n",
    "T_data = 8.0\n",
    "T_ack = 0.8\n",
    "T_unit = 0.8\n",
    "T_bo = T_unit\n",
    "print(\"Input parameters:\")\n",
    "print(f\"Nodes: {nodes}\")\n",
    "print(f\"p_a: {pa}\")\n",
    "print(f\"N_retx: {N}\")\n",
    "print(f\"T_max: {T_max}\")\n",
    "print(f\"T_idle: {T_idle} ns\")\n",
    "print(f\"T_data: {T_data} ns\")\n",
    "print(f\"T_out: {T_out} ns\")\n",
    "print(f\"T_ack: {T_ack} ns\")\n",
    "print(f\"T_bo: {T_bo} ns\")"
   ]
  },
  {
   "cell_type": "code",
   "execution_count": 61,
   "metadata": {},
   "outputs": [],
   "source": [
    "def Etc_aloha(p):\n",
    "    ksi = 0\n",
    "    for i in range(1, N+2):\n",
    "        ksi += p**(i-1) * (T_data + p*T_out + 0.5*((i*T_max-1) * T_bo) + T_ack*(1-p))\n",
    "    return T_idle / pa + pa * ksi"
   ]
  },
  {
   "cell_type": "code",
   "execution_count": 68,
   "metadata": {},
   "outputs": [],
   "source": [
    "def Edata_aloha(p):\n",
    "    s = 0\n",
    "    for i in range(1, N+1 + 1):\n",
    "        s += T_data * pa * p**(i-1)\n",
    "    return s"
   ]
  },
  {
   "cell_type": "code",
   "execution_count": 69,
   "metadata": {},
   "outputs": [],
   "source": [
    "def tau(p):\n",
    "    return Edata_aloha(p) / Etc_aloha(p)\n",
    "\n",
    "def tr_eq(p, n):\n",
    "    tau_l = tau(p)\n",
    "    return p - (1 - (1 - tau_l) ** (n-1))\n",
    "\n",
    "def calculate_transcendental_equation():\n",
    "    return np.array([root(tr_eq, 0.1, args=(node)).x[0] for node in range(1, nodes+1)])"
   ]
  },
  {
   "cell_type": "code",
   "execution_count": 70,
   "metadata": {},
   "outputs": [
    {
     "name": "stdout",
     "output_type": "stream",
     "text": [
      "0.0\n",
      "0.47237919009958446\n",
      "0.6781264253282354\n",
      "0.7984117022860885\n",
      "0.8732774316021865\n",
      "0.9205546883229462\n",
      "0.9504163378752445\n",
      "0.9691941699138915\n",
      "0.9809365912194535\n",
      "0.9882408971953939\n"
     ]
    }
   ],
   "source": [
    "p = calculate_transcendental_equation()\n",
    "for b in range(len(p)):\n",
    "    print(p[b])"
   ]
  },
  {
   "cell_type": "code",
   "execution_count": 75,
   "metadata": {},
   "outputs": [
    {
     "name": "stdout",
     "output_type": "stream",
     "text": [
      "0.0 0.0\n",
      "0.47237919009958446 0.4723791900995842\n",
      "0.6781264253282354 0.6781264253282355\n",
      "0.7984117022860885 0.7984117022860886\n",
      "0.8732774316021865 0.8732774316021866\n",
      "0.9205546883229462 0.9205546883229462\n",
      "0.9504163378752445 0.9504163378752445\n",
      "0.9691941699138915 0.9691941699138915\n",
      "0.9809365912194535 0.9809365912194522\n",
      "0.9882408971953939 0.9882408971953939\n"
     ]
    }
   ],
   "source": [
    "for i in range(1, nodes+1):\n",
    "    print(p[i-1], 1-(1-tau(p[i-1]))**(i-1))"
   ]
  },
  {
   "cell_type": "code",
   "execution_count": 72,
   "metadata": {},
   "outputs": [
    {
     "data": {
      "text/plain": [
       "80.69303926632185"
      ]
     },
     "execution_count": 72,
     "metadata": {},
     "output_type": "execute_result"
    }
   ],
   "source": [
    "Etc_aloha(0.988241)"
   ]
  },
  {
   "cell_type": "code",
   "execution_count": 73,
   "metadata": {},
   "outputs": [
    {
     "data": {
      "text/plain": [
       "array([14.        , 30.49971737, 45.29776752, 56.95272698, 65.48743946,\n",
       "       71.42186755, 75.39720911, 77.98943391, 79.64730222, 80.69302447])"
      ]
     },
     "execution_count": 73,
     "metadata": {},
     "output_type": "execute_result"
    }
   ],
   "source": [
    "Etc_aloha(p)"
   ]
  },
  {
   "cell_type": "code",
   "execution_count": null,
   "metadata": {},
   "outputs": [],
   "source": []
  },
  {
   "cell_type": "code",
   "execution_count": null,
   "metadata": {},
   "outputs": [],
   "source": []
  }
 ],
 "metadata": {
  "kernelspec": {
   "display_name": "Python 3",
   "language": "python",
   "name": "python3"
  },
  "language_info": {
   "codemirror_mode": {
    "name": "ipython",
    "version": 3
   },
   "file_extension": ".py",
   "mimetype": "text/x-python",
   "name": "python",
   "nbconvert_exporter": "python",
   "pygments_lexer": "ipython3",
   "version": "3.8.8"
  }
 },
 "nbformat": 4,
 "nbformat_minor": 4
}
