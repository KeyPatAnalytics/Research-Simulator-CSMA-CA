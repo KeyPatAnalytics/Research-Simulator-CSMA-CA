{
 "cells": [
  {
   "cell_type": "code",
   "execution_count": 1,
   "metadata": {},
   "outputs": [],
   "source": [
    "import csv\n",
    "import matplotlib.pyplot as plt\n",
    "from matplotlib import animation\n",
    "import numpy as np\n",
    "from scipy.optimize import root, fsolve\n",
    "from scipy.special import binom\n",
    "import pandas as pd"
   ]
  },
  {
   "cell_type": "code",
   "execution_count": 146,
   "metadata": {},
   "outputs": [
    {
     "ename": "NameError",
     "evalue": "name 'FF9700' is not defined",
     "output_type": "error",
     "traceback": [
      "\u001b[1;31m---------------------------------------------------------------------------\u001b[0m",
      "\u001b[1;31mNameError\u001b[0m                                 Traceback (most recent call last)",
      "\u001b[1;32m<ipython-input-146-e3bb5b05f670>\u001b[0m in \u001b[0;36m<module>\u001b[1;34m\u001b[0m\n\u001b[1;32m----> 1\u001b[1;33m \u001b[0mFF9700\u001b[0m\u001b[1;33m\u001b[0m\u001b[1;33m\u001b[0m\u001b[0m\n\u001b[0m",
      "\u001b[1;31mNameError\u001b[0m: name 'FF9700' is not defined"
     ]
    }
   ],
   "source": []
  },
  {
   "cell_type": "code",
   "execution_count": 48,
   "metadata": {},
   "outputs": [],
   "source": [
    "class Analytic:\n",
    "    def __init__(self, p_a, p, p_f, **kwargs):\n",
    "        self.p_a = p_a\n",
    "        self.T_idle = 3\n",
    "        self.T_rts = 3\n",
    "        self.T_cts = 3\n",
    "        self.T_ack = 3\n",
    "        self.T_bo = 3\n",
    "        self.T_data = 3\n",
    "        self.T_wait = 3\n",
    "        self.T_out = 3\n",
    "        self.T_max = 12\n",
    "        self.Nr = 3\n",
    "        self.nodes = 20\n",
    "        self.__dict__.update(kwargs)\n",
    "        print(self.__dict__)\n",
    "        \n",
    "    def average_time:\n",
    "        if p_f == 1.:\n",
    "            p_f = 0.9999999\n",
    "        elif p_f == 0.:\n",
    "            p_f = 0.0000001\n",
    "        total_sum = 0\n",
    "        for i in range(1, Nr + 1 + 1):\n",
    "            first_addition = T_wait + T_bo / (1 - p_f)\n",
    "            numerator = (2**i * T_max + 1) * (p_f ** (2**i * T_max + 1) - 2**i * T_max * p_f - p_f + 2**i * T_max)\n",
    "            denominator = 2**i * T_max * (1 - p_f ** (2**i * T_max + 1))\n",
    "            second_addition = (1 - p) * (T_cts + T_data + T_ack)\n",
    "            huge_sum = T_rts + p * T_out / p_f + first_addition * numerator / denominator + second_addition\n",
    "            total_sum += p ** (i - 1) * huge_sum\n",
    "        return T_idle + p_a * total_sum"
   ]
  },
  {
   "cell_type": "code",
   "execution_count": 49,
   "metadata": {},
   "outputs": [
    {
     "name": "stdout",
     "output_type": "stream",
     "text": [
      "{'p_a': 1, 'T_idle': 3, 'T_rts': 3, 'T_cts': 3, 'T_ack': 3, 'T_bo': 3, 'T_data': 3, 'T_wait': 3, 'T_out': 3, 'T_max': 12, 'Nr': 3, 'nodes': 20}\n"
     ]
    }
   ],
   "source": [
    "formulas = Analytic(1, 0, 0)"
   ]
  },
  {
   "cell_type": "code",
   "execution_count": 39,
   "metadata": {},
   "outputs": [
    {
     "data": {
      "text/plain": [
       "'da'"
      ]
     },
     "execution_count": 39,
     "metadata": {},
     "output_type": "execute_result"
    }
   ],
   "source": [
    "formulas.pet"
   ]
  },
  {
   "cell_type": "code",
   "execution_count": 494,
   "metadata": {},
   "outputs": [],
   "source": [
    "T_idle = 3.2\n",
    "T_rts = 3.2\n",
    "T_cts = 3.2\n",
    "T_ack = 3.2\n",
    "T_bo = 3.2\n",
    "T_data = 32\n",
    "T_wait = 32\n",
    "T_out = 32\n",
    "\n",
    "T_max = 12\n",
    "p_a = 1\n",
    "\n",
    "Nr = 3\n",
    "nodes = 80"
   ]
  },
  {
   "cell_type": "code",
   "execution_count": 2,
   "metadata": {},
   "outputs": [],
   "source": [
    "T_idle = 3\n",
    "T_rts = 3\n",
    "T_cts = 3\n",
    "T_ack = 3\n",
    "T_bo = 3\n",
    "T_data = 3\n",
    "T_wait = 3\n",
    "T_out = 3\n",
    "\n",
    "T_max = 12\n",
    "p_a = 1\n",
    "\n",
    "Nr = 3\n",
    "nodes = 80"
   ]
  },
  {
   "cell_type": "markdown",
   "metadata": {},
   "source": [
    "### Formulas for exponential backoff"
   ]
  },
  {
   "cell_type": "code",
   "execution_count": 3,
   "metadata": {},
   "outputs": [],
   "source": [
    "def Etc(p, p_f):\n",
    "    if p_f == 1.:\n",
    "        p_f = 0.9999999\n",
    "    elif p_f == 0.:\n",
    "        p_f = 0.0000001\n",
    "    total_sum = 0\n",
    "    for i in range(1, Nr + 1 + 1):\n",
    "        first_addition = T_wait + T_bo / (1 - p_f)\n",
    "        numerator = (2**i * T_max + 1) * (p_f ** (2**i * T_max + 1) - 2**i * T_max * p_f - p_f + 2**i * T_max)\n",
    "        denominator = 2**i * T_max * (1 - p_f ** (2**i * T_max + 1))\n",
    "        second_addition = (1 - p) * (T_cts + T_data + T_ack)\n",
    "        huge_sum = T_rts + p * T_out / p_f + first_addition * numerator / denominator + second_addition\n",
    "        total_sum += p ** (i - 1) * huge_sum\n",
    "    return T_idle + p_a * total_sum"
   ]
  },
  {
   "cell_type": "code",
   "execution_count": 4,
   "metadata": {},
   "outputs": [
    {
     "ename": "NameError",
     "evalue": "name 'pi_rts' is not defined",
     "output_type": "error",
     "traceback": [
      "\u001b[1;31m---------------------------------------------------------------------------\u001b[0m",
      "\u001b[1;31mNameError\u001b[0m                                 Traceback (most recent call last)",
      "\u001b[1;32m<ipython-input-4-29f770cc44d2>\u001b[0m in \u001b[0;36m<module>\u001b[1;34m\u001b[0m\n\u001b[1;32m----> 1\u001b[1;33m \u001b[0mpi_rts\u001b[0m\u001b[1;33m(\u001b[0m\u001b[1;36m0.4\u001b[0m\u001b[1;33m,\u001b[0m \u001b[1;36m0.8\u001b[0m\u001b[1;33m)\u001b[0m\u001b[1;33m\u001b[0m\u001b[1;33m\u001b[0m\u001b[0m\n\u001b[0m",
      "\u001b[1;31mNameError\u001b[0m: name 'pi_rts' is not defined"
     ]
    }
   ],
   "source": [
    "pi_rts(0.4, 0.8)"
   ]
  },
  {
   "cell_type": "code",
   "execution_count": 5,
   "metadata": {},
   "outputs": [],
   "source": [
    "def pi_idle(p, p_f):\n",
    "    return T_idle / Etc(p, p_f)\n",
    "\n",
    "def pi_rts(p, p_f):\n",
    "    total_sum = 0\n",
    "    for i in range(1, Nr + 1 + 1): \n",
    "        numerator = p ** (i - 1) * p_a * T_rts\n",
    "        denominator = Etc(p, p_f)\n",
    "        total_sum += numerator / denominator\n",
    "    return total_sum\n",
    "\n",
    "def pi_out(p, p_f):\n",
    "    total_sum = 0\n",
    "    for i in range(1, Nr + 1 + 1): \n",
    "        numerator = p ** (i - 1) * p_a * p * T_out / p_f\n",
    "        denominator = Etc(p, p_f)\n",
    "        total_sum += numerator / denominator\n",
    "    return total_sum\n",
    "\n",
    "def pi_cts(p, p_f):\n",
    "    total_sum = 0\n",
    "    for i in range(1, Nr + 1 + 1): \n",
    "        numerator = (1 - p) * p ** (i - 1) * p_a * T_cts\n",
    "        denominator = Etc(p, p_f)\n",
    "        total_sum += numerator / denominator\n",
    "    return total_sum\n",
    "\n",
    "def pi_bo(p, p_f):\n",
    "    if p_f == 1.:\n",
    "        p_f = 0.9999999\n",
    "    total_sum = 0\n",
    "    for i in range(1, Nr + 1 + 1): \n",
    "        numerator = p ** (i - 1) * p_a * T_bo * (2**i * T_max + 1) * (p_f ** (2**i * T_max + 1) - 2**i * T_max * p_f - p_f + 2**i * T_max)\n",
    "        denominator = Etc(p, p_f) * (2**i * T_max) * (1 - p_f) * (1 - p_f ** (2**i * T_max + 1))\n",
    "        total_sum += numerator / denominator\n",
    "    return total_sum\n",
    "\n",
    "def pi_wait(p, p_f):\n",
    "    if p_f == 1.:\n",
    "        p_f = 0.9999999\n",
    "    total_sum = 0\n",
    "    for i in range(1, Nr + 1 + 1): \n",
    "        numerator = p ** (i - 1) * p_a * T_wait * (2**i * T_max + 1) * (p_f ** (2**i * T_max + 1) - 2**i * T_max * p_f - p_f + 2**i * T_max)\n",
    "        denominator = Etc(p, p_f) * (2**i * T_max) * (1 - p_f ** (2**i * T_max + 1))\n",
    "        total_sum += numerator / denominator\n",
    "    return total_sum\n",
    "\n",
    "def pi_data(p, p_f):\n",
    "    total_sum = 0\n",
    "    for i in range(1, Nr + 1 + 1): \n",
    "        numerator = (1 - p) * p ** (i - 1) * p_a * T_data\n",
    "        denominator = Etc(p, p_f)\n",
    "        total_sum += numerator / denominator\n",
    "    return total_sum\n",
    "\n",
    "def pi_ack(p, p_f):\n",
    "    total_sum = 0\n",
    "    for i in range(1, Nr + 1 + 1): \n",
    "        numerator = (1 - p) * p ** (i - 1) * p_a * T_ack\n",
    "        denominator = Etc(p, p_f)\n",
    "        total_sum += numerator / denominator\n",
    "    return total_sum"
   ]
  },
  {
   "cell_type": "code",
   "execution_count": 6,
   "metadata": {},
   "outputs": [],
   "source": [
    "def pr_success(p):\n",
    "    total_sum = 0\n",
    "    for i in range(1, Nr + 1 + 1):\n",
    "        total_sum += (1 - p) * p ** (i - 1) * p_a\n",
    "    return total_sum\n",
    "\n",
    "# alternative formula\n",
    "def pr_success(p):\n",
    "    return 1 - p ** (Nr + 1)\n",
    "\n",
    "def pr_failure(p):\n",
    "    return p ** (Nr + 1)"
   ]
  },
  {
   "cell_type": "code",
   "execution_count": 111,
   "metadata": {},
   "outputs": [],
   "source": [
    "def transcendental_equation_p_collision(p, p_f, n):\n",
    "    p_rts = pi_rts(p, p_f)\n",
    "    p_cts = pi_cts(p, p_f)\n",
    "    p_data = pi_data(p, p_f)\n",
    "    p_ack = pi_ack(p, p_f)\n",
    "    # We solve transcendental equation f(x) = g(x) by turning it into f(x) - g(x) = 0\n",
    "#     return p - (1 - (1 - p_rts) ** (n) - n * p_rts * (1 - p_rts) ** (n-1))\n",
    "#     return p - (1 - (1 - p_rts) ** (2*(n-1))) - (1 - (1 - p_cts) ** (2*(n-1)))\n",
    "#     return p - (1 - (1 - p_rts) ** ((n-1))) - (1 - (1 - p_cts) ** ((n-1)))\n",
    "    return p - (1 - (1 - p_rts - p_cts - p_data) ** ((n-1)))\n",
    "\n",
    "def transcendental_equation_p_free(p, p_f, n):\n",
    "    p_rts = pi_rts(p, p_f)\n",
    "    p_cts = pi_cts(p, p_f)\n",
    "    p_data = pi_data(p, p_f)\n",
    "    p_ack = pi_ack(p, p_f)\n",
    "    return p_f - (1 - p_cts) ** (n-1)\n",
    "\n",
    "def system_of_equations(p_pf, node):\n",
    "    p, pf = p_pf\n",
    "    return (transcendental_equation_p_collision(p, pf, node), transcendental_equation_p_free(p, pf, node))\n",
    "\n",
    "def calculate_p_pf_from_system():\n",
    "    p_array = []\n",
    "    pf_array = []\n",
    "    for node in range(1, nodes+1):\n",
    "        p, pf = fsolve(system_of_equations, (0.01, 0.01), args=(node))\n",
    "        p_array.append(p)\n",
    "        pf_array.append(pf)\n",
    "    return p_array, pf_array"
   ]
  },
  {
   "cell_type": "code",
   "execution_count": 112,
   "metadata": {},
   "outputs": [],
   "source": [
    "p_array, p_f_array = calculate_p_pf_from_system()"
   ]
  },
  {
   "cell_type": "code",
   "execution_count": 113,
   "metadata": {},
   "outputs": [
    {
     "data": {
      "text/plain": [
       "[1.8086627663754192e-27,\n",
       " 0.12107038875724123,\n",
       " 0.18495190529363198,\n",
       " 0.2293287162600875,\n",
       " 0.2638766701560357,\n",
       " 0.2924139503288502,\n",
       " 0.31685329132528933,\n",
       " 0.3382986227616858,\n",
       " 0.35744930314208023,\n",
       " 0.3747785926830002,\n",
       " 0.3906228799386493,\n",
       " 0.4052305377401693,\n",
       " 0.4187906004078196,\n",
       " 0.43145054704305374,\n",
       " 0.4433278313388819,\n",
       " 0.4545176373977304,\n",
       " 0.46509826107210944,\n",
       " 0.475134943821796,\n",
       " 0.48468266716501285,\n",
       " 0.4937882304945658,\n",
       " 0.5024918233644312,\n",
       " 0.510828233889741,\n",
       " 0.5188277904756254,\n",
       " 0.5265171049314992,\n",
       " 0.5339196655337083,\n",
       " 0.5410563151987889,\n",
       " 0.547945640651395,\n",
       " 0.554604291878657,\n",
       " 0.5610472464333118,\n",
       " 0.5672880297024494,\n",
       " 0.5733388997183033,\n",
       " 0.5792110031891935,\n",
       " 0.5849145080028936,\n",
       " 0.5904587163607049,\n",
       " 0.595852161865766,\n",
       " 0.6011026932391255,\n",
       " 0.6062175468283216,\n",
       " 0.6112034096739617,\n",
       " 0.6160664745823644,\n",
       " 0.6208124883958649,\n",
       " 0.6254467944550086,\n",
       " 0.6299743700733998,\n",
       " 0.6343998597187096,\n",
       " 0.6387276044802136,\n",
       " 0.6429616683139889,\n",
       " 0.6471058614823837,\n",
       " 0.6511637615424343,\n",
       " 0.655138732186196,\n",
       " 0.6590339401968286,\n",
       " 0.6628523707321207,\n",
       " 0.6665968411503156,\n",
       " 0.6702700135236599,\n",
       " 0.6738744059990017,\n",
       " 0.6774124031276161,\n",
       " 0.6808862652756108,\n",
       " 0.68429813721207,\n",
       " 0.6876500559602945,\n",
       " 0.690943957987236,\n",
       " 0.6941816857974473,\n",
       " 0.6973649939900932,\n",
       " 0.7004955548310355,\n",
       " 0.7035749633861295,\n",
       " 0.7066047422568382,\n",
       " 0.7095863459547946,\n",
       " 0.7125211649481037,\n",
       " 0.7154105294086562,\n",
       " 0.71825571268677,\n",
       " 0.7210579345368072,\n",
       " 0.7238183641149798,\n",
       " 0.7265381227685369,\n",
       " 0.7292182866336159,\n",
       " 0.7318598890574142,\n",
       " 0.7344639228588039,\n",
       " 0.7370313424402947,\n",
       " 0.739563065762912,\n",
       " 0.7420599761947009,\n",
       " 0.7445229242424195,\n",
       " 0.7469527291752565,\n",
       " 0.7493501805486045,\n",
       " 0.7517160396352364]"
      ]
     },
     "execution_count": 113,
     "metadata": {},
     "output_type": "execute_result"
    }
   ],
   "source": [
    "p_array"
   ]
  },
  {
   "cell_type": "code",
   "execution_count": 17,
   "metadata": {},
   "outputs": [
    {
     "data": {
      "text/plain": [
       "(0.2920885667968596, 0.16916359636320955)"
      ]
     },
     "execution_count": 17,
     "metadata": {},
     "output_type": "execute_result"
    }
   ],
   "source": [
    "# v1 \n",
    "(1 - (1 - pi_rts(p_array[19], p_f_array[19])) ** ((20-1))), (1 - (1 - pi_cts(p_array[19], p_f_array[19])) ** ((20-1)))"
   ]
  },
  {
   "cell_type": "code",
   "execution_count": 18,
   "metadata": {},
   "outputs": [
    {
     "data": {
      "text/plain": [
       "0.02772297736156526"
      ]
     },
     "execution_count": 18,
     "metadata": {},
     "output_type": "execute_result"
    }
   ],
   "source": [
    "# v2\n",
    "(1 - (1 - pi_rts(p_array[19], p_f_array[19]) - pi_cts(p_array[19], p_f_array[19])))"
   ]
  },
  {
   "cell_type": "code",
   "execution_count": 19,
   "metadata": {},
   "outputs": [
    {
     "data": {
      "text/plain": [
       "(0.018016582508086385, 0.009706394853478881)"
      ]
     },
     "execution_count": 19,
     "metadata": {},
     "output_type": "execute_result"
    }
   ],
   "source": [
    "pi_rts(p_array[19], p_f_array[19]), pi_cts(p_array[19], p_f_array[19])"
   ]
  },
  {
   "cell_type": "code",
   "execution_count": 20,
   "metadata": {},
   "outputs": [
    {
     "data": {
      "text/plain": [
       "(4.373415398075117, 0.014528321813474757)"
      ]
     },
     "execution_count": 20,
     "metadata": {},
     "output_type": "execute_result"
    }
   ],
   "source": [
    "pl = 0.3213524779132122\n",
    "pfl = 0.793511691939903\n",
    "pi_rts(pl, pfl) * Etc(pl, pfl), pi_cts(pl, pfl)"
   ]
  },
  {
   "cell_type": "code",
   "execution_count": 21,
   "metadata": {},
   "outputs": [
    {
     "data": {
      "text/plain": [
       "(0.01697006254247895, 0.009041499197816745)"
      ]
     },
     "execution_count": 21,
     "metadata": {},
     "output_type": "execute_result"
    }
   ],
   "source": [
    "pl = 0.46720884645036903\n",
    "pfl = 0.793511691939903\n",
    "pi_rts(pl, pfl), pi_cts(pl, pfl)"
   ]
  },
  {
   "cell_type": "code",
   "execution_count": 22,
   "metadata": {},
   "outputs": [
    {
     "data": {
      "text/plain": [
       "0.016594571823297224"
      ]
     },
     "execution_count": 22,
     "metadata": {},
     "output_type": "execute_result"
    }
   ],
   "source": [
    "5.35515985928278 / 322.7055157738169"
   ]
  },
  {
   "cell_type": "code",
   "execution_count": 23,
   "metadata": {},
   "outputs": [
    {
     "data": {
      "text/plain": [
       "5.356079855904645"
      ]
     },
     "execution_count": 23,
     "metadata": {},
     "output_type": "execute_result"
    }
   ],
   "source": [
    "2.8536719649313773 / (1 - pl)"
   ]
  },
  {
   "cell_type": "code",
   "execution_count": null,
   "metadata": {},
   "outputs": [],
   "source": []
  },
  {
   "cell_type": "code",
   "execution_count": 787,
   "metadata": {},
   "outputs": [
    {
     "data": {
      "text/plain": [
       "[1.0,\n",
       " 0.9614148725011759,\n",
       " 0.9406642181316062,\n",
       " 0.9262291982868748,\n",
       " 0.915035900954207,\n",
       " 0.9058472268133532,\n",
       " 0.8980358835245534,\n",
       " 0.8912367838482018,\n",
       " 0.8852171941197794,\n",
       " 0.8798188539621594,\n",
       " 0.8749288286166359,\n",
       " 0.8704634571509738,\n",
       " 0.8663588861148317,\n",
       " 0.8625651761889662,\n",
       " 0.8590424684308113,\n",
       " 0.8557583979340676,\n",
       " 0.8526862947542353,\n",
       " 0.8498038993029561,\n",
       " 0.8470924241311691,\n",
       " 0.8445358550521834,\n",
       " 0.8421204214276723,\n",
       " 0.8398341884361642,\n",
       " 0.8376667388589237,\n",
       " 0.8356089216939856,\n",
       " 0.8336526512528136,\n",
       " 0.8317907450112243,\n",
       " 0.8300167914997117,\n",
       " 0.8283250417512078,\n",
       " 0.8267103194048009,\n",
       " 0.8251679457199163,\n",
       " 0.8236936766055346,\n",
       " 0.8222836494172335,\n",
       " 0.8209343377349699,\n",
       " 0.8196425127266226,\n",
       " 0.81840520996592,\n",
       " 0.8172197008006931,\n",
       " 0.8160834675373554,\n",
       " 0.8149941818420915,\n",
       " 0.8139496858739999,\n",
       " 0.8129479757205973,\n",
       " 0.811987186842493,\n",
       " 0.8110655812010454,\n",
       " 0.8101815358620305,\n",
       " 0.809333532867743,\n",
       " 0.8085201502116549,\n",
       " 0.8077400537735464,\n",
       " 0.8069919900931504,\n",
       " 0.8062747798846092,\n",
       " 0.8055873121889278,\n",
       " 0.8049285391033476,\n",
       " 0.8042974710178109,\n",
       " 0.8036931722914679,\n",
       " 0.803114757331205,\n",
       " 0.8025613870233843,\n",
       " 0.8020322654813827,\n",
       " 0.8015266370757341,\n",
       " 0.8010437837178421,\n",
       " 0.8005830223715601,\n",
       " 0.8001437027698947,\n",
       " 0.7997252053166816,\n",
       " 0.799326939155377,\n",
       " 0.7989483403891563,\n",
       " 0.7985888704381258,\n",
       " 0.7982480145211321,\n",
       " 0.7979252802508625,\n",
       " 0.7976201963321948,\n",
       " 0.7973323113547002,\n",
       " 0.7970611926712263,\n",
       " 0.7968064253552166,\n",
       " 0.7965676112301546,\n",
       " 0.7963443679652041,\n",
       " 0.7961363282316598,\n",
       " 0.7959431389152747,\n",
       " 0.7957644603801101,\n",
       " 0.7955999657798345,\n",
       " 0.7954493404128352,\n",
       " 0.7953122811178069,\n",
       " 0.7951884957067836,\n",
       " 0.7950777024328315,\n",
       " 0.794979629489876]"
      ]
     },
     "execution_count": 787,
     "metadata": {},
     "output_type": "execute_result"
    }
   ],
   "source": [
    "p_f_array"
   ]
  },
  {
   "cell_type": "code",
   "execution_count": 197,
   "metadata": {},
   "outputs": [
    {
     "data": {
      "text/plain": [
       "373.48744053324293"
      ]
     },
     "execution_count": 197,
     "metadata": {},
     "output_type": "execute_result"
    }
   ],
   "source": [
    "Etc(0.4715554774858431, 0.7952306484442072)"
   ]
  },
  {
   "cell_type": "code",
   "execution_count": 98,
   "metadata": {},
   "outputs": [],
   "source": [
    "pc = 0.5\n",
    "pf = 0.8"
   ]
  },
  {
   "cell_type": "code",
   "execution_count": 99,
   "metadata": {},
   "outputs": [
    {
     "data": {
      "text/plain": [
       "0.015767857799425286"
      ]
     },
     "execution_count": 99,
     "metadata": {},
     "output_type": "execute_result"
    }
   ],
   "source": [
    "prts = pi_rts(pc, pf)\n",
    "prts"
   ]
  },
  {
   "cell_type": "code",
   "execution_count": 100,
   "metadata": {},
   "outputs": [
    {
     "data": {
      "text/plain": [
       "0.5482718165856967"
      ]
     },
     "execution_count": 100,
     "metadata": {},
     "output_type": "execute_result"
    }
   ],
   "source": [
    "P_tr = 1 - (1 - prts) ** (nodes)\n",
    "P_tr"
   ]
  },
  {
   "cell_type": "code",
   "execution_count": 101,
   "metadata": {},
   "outputs": [
    {
     "data": {
      "text/plain": [
       "0.6599733827182248"
      ]
     },
     "execution_count": 101,
     "metadata": {},
     "output_type": "execute_result"
    }
   ],
   "source": [
    "P_s = (nodes * prts * (1 - prts) ** (nodes - 1)) / (P_tr)\n",
    "P_s"
   ]
  },
  {
   "cell_type": "code",
   "execution_count": 102,
   "metadata": {},
   "outputs": [
    {
     "data": {
      "text/plain": [
       "0.8239128289091926"
      ]
     },
     "execution_count": 102,
     "metadata": {},
     "output_type": "execute_result"
    }
   ],
   "source": [
    "Ew = 1 / P_tr - 1\n",
    "Ew"
   ]
  },
  {
   "cell_type": "code",
   "execution_count": 103,
   "metadata": {},
   "outputs": [
    {
     "data": {
      "text/plain": [
       "(8.4, 1.1)"
      ]
     },
     "execution_count": 103,
     "metadata": {},
     "output_type": "execute_result"
    }
   ],
   "source": [
    "tp = 0.1 \n",
    "T_s = T_rts + T_cts + T_data + T_ack + 4 * tp\n",
    "T_f = T_rts + tp\n",
    "T_s, T_f"
   ]
  },
  {
   "cell_type": "code",
   "execution_count": 104,
   "metadata": {},
   "outputs": [],
   "source": [
    "Ep = 20"
   ]
  },
  {
   "cell_type": "code",
   "execution_count": 105,
   "metadata": {},
   "outputs": [
    {
     "data": {
      "text/plain": [
       "1.9578787826602935"
      ]
     },
     "execution_count": 105,
     "metadata": {},
     "output_type": "execute_result"
    }
   ],
   "source": [
    "S = (P_s * Ep) / (Ew + P_s * T_s + (1 - P_s) * T_f)\n",
    "S"
   ]
  },
  {
   "cell_type": "code",
   "execution_count": 875,
   "metadata": {},
   "outputs": [],
   "source": [
    "def S(p, p_f, nodes):\n",
    "    prts = pi_rts(p, p_f)\n",
    "    pcts = pi_cts(p, p_f)\n",
    "    pdata = pi_data(p, p_f)\n",
    "    P_tr = 1 - (1 - prts) ** (nodes)\n",
    "    print(P_tr)\n",
    "    P_s = (nodes * prts * (1 - prts) ** (nodes - 1)) / (P_tr)\n",
    "    Ew = 1 / P_tr - 1\n",
    "    tp = 0.\n",
    "#     Ep = T_data\n",
    "    Ep = 100\n",
    "#     T_s = T_rts + T_cts + T_data + T_ack + 4 * tp\n",
    "#     T_f = T_rts + tp\n",
    "    T_s = 4 * 100\n",
    "    T_f = 100\n",
    "    S = (P_s * Ep) / (Ew + P_s * T_s + (1 - P_s) * T_f)\n",
    "    print(P_s, Ep, \"\\t\\t\", P_s * Ep)\n",
    "    print(Ew, \"\\t\\t\", Ew)\n",
    "    print(P_s, T_s, \"\\t\\t\", P_s * T_s)\n",
    "    print(1 - P_s, T_f, \"\\t\\t\", (1 - P_s) * T_f)\n",
    "    return S"
   ]
  },
  {
   "cell_type": "code",
   "execution_count": 116,
   "metadata": {},
   "outputs": [],
   "source": [
    "def S2(p, p_f, nodes):\n",
    "    prts = pi_rts(p, p_f)\n",
    "    pcts = pi_cts(p, p_f)\n",
    "    pdata = pi_data(p, p_f)\n",
    "    P_tr = 1 - (1 - prts - pcts - pdata) ** (nodes)\n",
    "    pr_s = pr_success(p)\n",
    "    Ew = 1 / P_tr - 1\n",
    "    pr_f = pr_failure(p)\n",
    "    tp = 0.\n",
    "    T_s = T_rts + T_cts + T_data + T_ack + 4 * tp\n",
    "    T_f = T_rts + tp\n",
    "    numerator = T_s * pr_s\n",
    "    denominator = T_rts * Ew + T_s * pr_s + T_f * pr_f\n",
    "    S = numerator / denominator\n",
    "    return S"
   ]
  },
  {
   "cell_type": "code",
   "execution_count": 117,
   "metadata": {},
   "outputs": [
    {
     "data": {
      "text/plain": [
       "0.8125898097549638"
      ]
     },
     "execution_count": 117,
     "metadata": {},
     "output_type": "execute_result"
    }
   ],
   "source": [
    "S2(0.701418511710132, 0.73480790420354, 62)"
   ]
  },
  {
   "cell_type": "code",
   "execution_count": 878,
   "metadata": {},
   "outputs": [
    {
     "data": {
      "text/plain": [
       "0.8239128289091926"
      ]
     },
     "execution_count": 878,
     "metadata": {},
     "output_type": "execute_result"
    }
   ],
   "source": [
    "(1 - P_tr) / P_tr"
   ]
  },
  {
   "cell_type": "code",
   "execution_count": null,
   "metadata": {},
   "outputs": [],
   "source": []
  },
  {
   "cell_type": "code",
   "execution_count": 110,
   "metadata": {},
   "outputs": [
    {
     "name": "stdout",
     "output_type": "stream",
     "text": [
      "0.17295933656067797\n",
      "0.24390864987602667\n",
      "0.28404154189687747\n",
      "0.31141377145048876\n",
      "0.33190452167204454\n",
      "0.34809126622146985\n",
      "0.3613403745320684\n",
      "0.3724652096876618\n",
      "0.381988838855853\n",
      "0.39026684799859246\n",
      "0.3975513736608287\n",
      "0.4040272512850501\n",
      "0.40983369997348046\n",
      "0.4150779714157155\n",
      "0.41984428388366735\n",
      "0.4241998638999414\n",
      "0.4281991465599565\n",
      "0.4318867660818451\n",
      "0.4352997296707389\n",
      "0.43846902686220085\n",
      "0.44142084043263197\n",
      "0.4441774708435952\n",
      "0.44675805127865303\n",
      "0.4491791072979589\n",
      "0.45145499962533725\n",
      "0.4535982779442757\n",
      "0.4556199661600159\n",
      "0.45752979433144775\n",
      "0.45933638870433513\n",
      "0.46104742853395675\n",
      "0.4626697763661675\n",
      "0.464209586943574\n",
      "0.4656723987741618\n",
      "0.46706321154280295\n",
      "0.46838655188980155\n",
      "0.46964652957411046\n",
      "0.47084688564465255\n",
      "0.47199103393420544\n",
      "0.4730820969464593\n",
      "0.47412293701301894\n",
      "0.4751161834427334\n",
      "0.47606425625960397\n",
      "0.4769693870279729\n",
      "0.4778336371779195\n",
      "0.4786589141800597\n",
      "0.4794469858624807\n",
      "0.4801994931177445\n",
      "0.4809179612103215\n",
      "0.4816038098636638\n",
      "0.4822583622800864\n"
     ]
    }
   ],
   "source": [
    "for i in range(len(p_array)):\n",
    "    print(S(p_array[i], p_f_array[i], i+1))"
   ]
  },
  {
   "cell_type": "code",
   "execution_count": 59,
   "metadata": {},
   "outputs": [
    {
     "data": {
      "text/plain": [
       "288.00000000000006"
      ]
     },
     "execution_count": 59,
     "metadata": {},
     "output_type": "execute_result"
    }
   ],
   "source": [
    "((160 + 128) / 1000000) * 1000 * 1000"
   ]
  },
  {
   "cell_type": "code",
   "execution_count": null,
   "metadata": {},
   "outputs": [],
   "source": []
  },
  {
   "cell_type": "code",
   "execution_count": null,
   "metadata": {},
   "outputs": [],
   "source": []
  },
  {
   "cell_type": "code",
   "execution_count": null,
   "metadata": {},
   "outputs": [],
   "source": []
  },
  {
   "cell_type": "code",
   "execution_count": 11,
   "metadata": {},
   "outputs": [
    {
     "data": {
      "text/plain": [
       "0.023728874830785954"
      ]
     },
     "execution_count": 11,
     "metadata": {},
     "output_type": "execute_result"
    }
   ],
   "source": [
    "prt = pi_rts(p_array[9], p_f_array[9])\n",
    "prt"
   ]
  },
  {
   "cell_type": "code",
   "execution_count": 12,
   "metadata": {},
   "outputs": [
    {
     "data": {
      "text/plain": [
       "0.022323427120735456"
      ]
     },
     "execution_count": 12,
     "metadata": {},
     "output_type": "execute_result"
    }
   ],
   "source": [
    "1 - (1 - prt) ** (10) - 10 * prt * (1 - prt) ** (9)"
   ]
  },
  {
   "cell_type": "code",
   "execution_count": 13,
   "metadata": {},
   "outputs": [
    {
     "data": {
      "text/plain": [
       "0.786510355786292"
      ]
     },
     "execution_count": 13,
     "metadata": {},
     "output_type": "execute_result"
    }
   ],
   "source": [
    "(1 - prt) ** (10)"
   ]
  },
  {
   "cell_type": "code",
   "execution_count": 14,
   "metadata": {},
   "outputs": [
    {
     "data": {
      "text/plain": [
       "0.19116621709297252"
      ]
     },
     "execution_count": 14,
     "metadata": {},
     "output_type": "execute_result"
    }
   ],
   "source": [
    "10 * prt * (1 - prt) ** (9)"
   ]
  },
  {
   "cell_type": "code",
   "execution_count": null,
   "metadata": {},
   "outputs": [],
   "source": []
  },
  {
   "cell_type": "code",
   "execution_count": 15,
   "metadata": {},
   "outputs": [],
   "source": [
    "analytics_headers = [\n",
    "    'nodes',\n",
    "    'p_collision',\n",
    "    'p_success',\n",
    "    'p_failure',\n",
    "    'p_free',\n",
    "    'cycle_time',\n",
    "    'p_bo',\n",
    "    'p_wait',\n",
    "    'p_rts',\n",
    "    'p_out',\n",
    "    'p_cts',\n",
    "    'p_data',\n",
    "    'p_ack',\n",
    "    'bo_time',\n",
    "    'wait_time',\n",
    "    'rts_time',\n",
    "    'out_time',\n",
    "    'cts_time',\n",
    "    'data_time',\n",
    "    'ack_time',\n",
    "]"
   ]
  },
  {
   "cell_type": "code",
   "execution_count": 86,
   "metadata": {},
   "outputs": [],
   "source": [
    "data = [analytics_headers]\n",
    "for i in range(nodes):\n",
    "    data.append([\n",
    "        i + 1,\n",
    "        p_array[i],\n",
    "        p_success(p_array[i]),\n",
    "        p_failure(p_array[i]),\n",
    "        p_f_array[i],\n",
    "        Etc(p_array[i], p_f_array[i]),\n",
    "        pi_bo(p_array[i], p_f_array[i]),\n",
    "        pi_wait(p_array[i], p_f_array[i]),\n",
    "        pi_rts(p_array[i], p_f_array[i]),\n",
    "        pi_out(p_array[i], p_f_array[i]),\n",
    "        pi_cts(p_array[i], p_f_array[i]),\n",
    "        pi_data(p_array[i], p_f_array[i]),\n",
    "        pi_ack(p_array[i], p_f_array[i]),\n",
    "        pi_bo(p_array[i], p_f_array[i]) * Etc(p_array[i], p_f_array[i]),\n",
    "        pi_wait(p_array[i], p_f_array[i]) * Etc(p_array[i], p_f_array[i]),\n",
    "        pi_rts(p_array[i], p_f_array[i]) * Etc(p_array[i], p_f_array[i]),\n",
    "        pi_out(p_array[i], p_f_array[i]) * Etc(p_array[i], p_f_array[i]),\n",
    "        pi_cts(p_array[i], p_f_array[i]) * Etc(p_array[i], p_f_array[i]),\n",
    "        pi_data(p_array[i], p_f_array[i]) * Etc(p_array[i], p_f_array[i]),\n",
    "        pi_ack(p_array[i], p_f_array[i]) * Etc(p_array[i], p_f_array[i]),\n",
    "    ])"
   ]
  },
  {
   "cell_type": "code",
   "execution_count": 87,
   "metadata": {},
   "outputs": [
    {
     "data": {
      "text/html": [
       "<div>\n",
       "<style scoped>\n",
       "    .dataframe tbody tr th:only-of-type {\n",
       "        vertical-align: middle;\n",
       "    }\n",
       "\n",
       "    .dataframe tbody tr th {\n",
       "        vertical-align: top;\n",
       "    }\n",
       "\n",
       "    .dataframe thead th {\n",
       "        text-align: right;\n",
       "    }\n",
       "</style>\n",
       "<table border=\"1\" class=\"dataframe\">\n",
       "  <thead>\n",
       "    <tr style=\"text-align: right;\">\n",
       "      <th></th>\n",
       "      <th>p_collision</th>\n",
       "      <th>p_success</th>\n",
       "      <th>p_failure</th>\n",
       "      <th>p_free</th>\n",
       "      <th>cycle_time</th>\n",
       "      <th>p_bo</th>\n",
       "      <th>p_wait</th>\n",
       "      <th>p_rts</th>\n",
       "      <th>p_out</th>\n",
       "      <th>p_cts</th>\n",
       "      <th>p_data</th>\n",
       "      <th>p_ack</th>\n",
       "      <th>bo_time</th>\n",
       "      <th>wait_time</th>\n",
       "      <th>rts_time</th>\n",
       "      <th>out_time</th>\n",
       "      <th>cts_time</th>\n",
       "      <th>data_time</th>\n",
       "      <th>ack_time</th>\n",
       "    </tr>\n",
       "  </thead>\n",
       "  <tbody>\n",
       "    <tr>\n",
       "      <th>1</th>\n",
       "      <td>1.808663e-27</td>\n",
       "      <td>1.000000</td>\n",
       "      <td>1.070115e-107</td>\n",
       "      <td>1.000000</td>\n",
       "      <td>52.525587</td>\n",
       "      <td>0.714425</td>\n",
       "      <td>7.144248e-08</td>\n",
       "      <td>0.057115</td>\n",
       "      <td>1.033018e-28</td>\n",
       "      <td>0.057115</td>\n",
       "      <td>0.057115</td>\n",
       "      <td>0.057115</td>\n",
       "      <td>37.525583</td>\n",
       "      <td>0.000004</td>\n",
       "      <td>3.000000</td>\n",
       "      <td>5.425988e-27</td>\n",
       "      <td>3.000000</td>\n",
       "      <td>3.000000</td>\n",
       "      <td>3.000000</td>\n",
       "    </tr>\n",
       "    <tr>\n",
       "      <th>2</th>\n",
       "      <td>8.660267e-02</td>\n",
       "      <td>0.999944</td>\n",
       "      <td>5.625034e-05</td>\n",
       "      <td>0.958659</td>\n",
       "      <td>72.562287</td>\n",
       "      <td>0.754106</td>\n",
       "      <td>3.117585e-02</td>\n",
       "      <td>0.045261</td>\n",
       "      <td>4.088777e-03</td>\n",
       "      <td>0.041341</td>\n",
       "      <td>0.041341</td>\n",
       "      <td>0.041341</td>\n",
       "      <td>54.719655</td>\n",
       "      <td>2.262191</td>\n",
       "      <td>3.284257</td>\n",
       "      <td>2.966910e-01</td>\n",
       "      <td>2.999831</td>\n",
       "      <td>2.999831</td>\n",
       "      <td>2.999831</td>\n",
       "    </tr>\n",
       "    <tr>\n",
       "      <th>3</th>\n",
       "      <td>1.410750e-01</td>\n",
       "      <td>0.999604</td>\n",
       "      <td>3.960957e-04</td>\n",
       "      <td>0.934718</td>\n",
       "      <td>90.348258</td>\n",
       "      <td>0.772326</td>\n",
       "      <td>5.041873e-02</td>\n",
       "      <td>0.038643</td>\n",
       "      <td>5.832348e-03</td>\n",
       "      <td>0.033192</td>\n",
       "      <td>0.033192</td>\n",
       "      <td>0.033192</td>\n",
       "      <td>69.778281</td>\n",
       "      <td>4.555245</td>\n",
       "      <td>3.491355</td>\n",
       "      <td>5.269425e-01</td>\n",
       "      <td>2.998812</td>\n",
       "      <td>2.998812</td>\n",
       "      <td>2.998812</td>\n",
       "    </tr>\n",
       "    <tr>\n",
       "      <th>4</th>\n",
       "      <td>1.819036e-01</td>\n",
       "      <td>0.998905</td>\n",
       "      <td>1.094876e-03</td>\n",
       "      <td>0.917863</td>\n",
       "      <td>106.399434</td>\n",
       "      <td>0.781842</td>\n",
       "      <td>6.421806e-02</td>\n",
       "      <td>0.034427</td>\n",
       "      <td>6.822838e-03</td>\n",
       "      <td>0.028165</td>\n",
       "      <td>0.028165</td>\n",
       "      <td>0.028165</td>\n",
       "      <td>83.187542</td>\n",
       "      <td>6.832765</td>\n",
       "      <td>3.663034</td>\n",
       "      <td>7.259461e-01</td>\n",
       "      <td>2.996715</td>\n",
       "      <td>2.996715</td>\n",
       "      <td>2.996715</td>\n",
       "    </tr>\n",
       "    <tr>\n",
       "      <th>5</th>\n",
       "      <td>2.151348e-01</td>\n",
       "      <td>0.997858</td>\n",
       "      <td>2.142113e-03</td>\n",
       "      <td>0.904857</td>\n",
       "      <td>121.272338</td>\n",
       "      <td>0.787367</td>\n",
       "      <td>7.491223e-02</td>\n",
       "      <td>0.031451</td>\n",
       "      <td>7.477624e-03</td>\n",
       "      <td>0.024685</td>\n",
       "      <td>0.024685</td>\n",
       "      <td>0.024685</td>\n",
       "      <td>95.485883</td>\n",
       "      <td>9.084781</td>\n",
       "      <td>3.814124</td>\n",
       "      <td>9.068289e-01</td>\n",
       "      <td>2.993574</td>\n",
       "      <td>2.993574</td>\n",
       "      <td>2.993574</td>\n",
       "    </tr>\n",
       "    <tr>\n",
       "      <th>6</th>\n",
       "      <td>2.434344e-01</td>\n",
       "      <td>0.996488</td>\n",
       "      <td>3.511783e-03</td>\n",
       "      <td>0.894302</td>\n",
       "      <td>135.302635</td>\n",
       "      <td>0.790804</td>\n",
       "      <td>8.358652e-02</td>\n",
       "      <td>0.029204</td>\n",
       "      <td>7.949474e-03</td>\n",
       "      <td>0.022095</td>\n",
       "      <td>0.022095</td>\n",
       "      <td>0.022095</td>\n",
       "      <td>106.997818</td>\n",
       "      <td>11.309477</td>\n",
       "      <td>3.951362</td>\n",
       "      <td>1.075585e+00</td>\n",
       "      <td>2.989465</td>\n",
       "      <td>2.989465</td>\n",
       "      <td>2.989465</td>\n",
       "    </tr>\n",
       "    <tr>\n",
       "      <th>7</th>\n",
       "      <td>2.682311e-01</td>\n",
       "      <td>0.994823</td>\n",
       "      <td>5.176504e-03</td>\n",
       "      <td>0.885457</td>\n",
       "      <td>148.695466</td>\n",
       "      <td>0.793038</td>\n",
       "      <td>9.083674e-02</td>\n",
       "      <td>0.027428</td>\n",
       "      <td>8.308778e-03</td>\n",
       "      <td>0.020071</td>\n",
       "      <td>0.020071</td>\n",
       "      <td>0.020071</td>\n",
       "      <td>117.921132</td>\n",
       "      <td>13.507012</td>\n",
       "      <td>4.078433</td>\n",
       "      <td>1.235478e+00</td>\n",
       "      <td>2.984470</td>\n",
       "      <td>2.984470</td>\n",
       "      <td>2.984470</td>\n",
       "    </tr>\n",
       "    <tr>\n",
       "      <th>8</th>\n",
       "      <td>2.903900e-01</td>\n",
       "      <td>0.992889</td>\n",
       "      <td>7.110932e-03</td>\n",
       "      <td>0.877882</td>\n",
       "      <td>161.583728</td>\n",
       "      <td>0.794533</td>\n",
       "      <td>9.702714e-02</td>\n",
       "      <td>0.025978</td>\n",
       "      <td>8.593109e-03</td>\n",
       "      <td>0.018434</td>\n",
       "      <td>0.018434</td>\n",
       "      <td>0.018434</td>\n",
       "      <td>128.383601</td>\n",
       "      <td>15.678007</td>\n",
       "      <td>4.197612</td>\n",
       "      <td>1.388507e+00</td>\n",
       "      <td>2.978667</td>\n",
       "      <td>2.978667</td>\n",
       "      <td>2.978667</td>\n",
       "    </tr>\n",
       "    <tr>\n",
       "      <th>9</th>\n",
       "      <td>3.104796e-01</td>\n",
       "      <td>0.990708</td>\n",
       "      <td>9.292490e-03</td>\n",
       "      <td>0.871287</td>\n",
       "      <td>174.058276</td>\n",
       "      <td>0.795552</td>\n",
       "      <td>1.023975e-01</td>\n",
       "      <td>0.024764</td>\n",
       "      <td>8.824629e-03</td>\n",
       "      <td>0.017075</td>\n",
       "      <td>0.017075</td>\n",
       "      <td>0.017075</td>\n",
       "      <td>138.472363</td>\n",
       "      <td>17.823126</td>\n",
       "      <td>4.310420</td>\n",
       "      <td>1.536000e+00</td>\n",
       "      <td>2.972123</td>\n",
       "      <td>2.972123</td>\n",
       "      <td>2.972123</td>\n",
       "    </tr>\n",
       "    <tr>\n",
       "      <th>10</th>\n",
       "      <td>3.288959e-01</td>\n",
       "      <td>0.988299</td>\n",
       "      <td>1.170129e-02</td>\n",
       "      <td>0.865477</td>\n",
       "      <td>186.184036</td>\n",
       "      <td>0.796253</td>\n",
       "      <td>1.071142e-01</td>\n",
       "      <td>0.023729</td>\n",
       "      <td>9.017372e-03</td>\n",
       "      <td>0.015925</td>\n",
       "      <td>0.015925</td>\n",
       "      <td>0.015925</td>\n",
       "      <td>148.249563</td>\n",
       "      <td>19.942957</td>\n",
       "      <td>4.417938</td>\n",
       "      <td>1.678891e+00</td>\n",
       "      <td>2.964896</td>\n",
       "      <td>2.964896</td>\n",
       "      <td>2.964896</td>\n",
       "    </tr>\n",
       "    <tr>\n",
       "      <th>11</th>\n",
       "      <td>3.459272e-01</td>\n",
       "      <td>0.985680</td>\n",
       "      <td>1.431986e-02</td>\n",
       "      <td>0.860308</td>\n",
       "      <td>198.009123</td>\n",
       "      <td>0.796737</td>\n",
       "      <td>1.112978e-01</td>\n",
       "      <td>0.022832</td>\n",
       "      <td>9.180720e-03</td>\n",
       "      <td>0.014934</td>\n",
       "      <td>0.014934</td>\n",
       "      <td>0.014934</td>\n",
       "      <td>157.761181</td>\n",
       "      <td>22.037990</td>\n",
       "      <td>4.520965</td>\n",
       "      <td>1.817866e+00</td>\n",
       "      <td>2.957040</td>\n",
       "      <td>2.957040</td>\n",
       "      <td>2.957040</td>\n",
       "    </tr>\n",
       "    <tr>\n",
       "      <th>12</th>\n",
       "      <td>3.617904e-01</td>\n",
       "      <td>0.982867</td>\n",
       "      <td>1.713279e-02</td>\n",
       "      <td>0.855674</td>\n",
       "      <td>209.570263</td>\n",
       "      <td>0.797071</td>\n",
       "      <td>1.150384e-01</td>\n",
       "      <td>0.022046</td>\n",
       "      <td>9.321205e-03</td>\n",
       "      <td>0.014070</td>\n",
       "      <td>0.014070</td>\n",
       "      <td>0.014070</td>\n",
       "      <td>167.042275</td>\n",
       "      <td>24.108621</td>\n",
       "      <td>4.620115</td>\n",
       "      <td>1.953447e+00</td>\n",
       "      <td>2.948602</td>\n",
       "      <td>2.948602</td>\n",
       "      <td>2.948602</td>\n",
       "    </tr>\n",
       "    <tr>\n",
       "      <th>13</th>\n",
       "      <td>3.766534e-01</td>\n",
       "      <td>0.979874</td>\n",
       "      <td>2.012646e-02</td>\n",
       "      <td>0.851493</td>\n",
       "      <td>220.896184</td>\n",
       "      <td>0.797299</td>\n",
       "      <td>1.184048e-01</td>\n",
       "      <td>0.021349</td>\n",
       "      <td>9.443532e-03</td>\n",
       "      <td>0.013308</td>\n",
       "      <td>0.013308</td>\n",
       "      <td>0.013308</td>\n",
       "      <td>176.120246</td>\n",
       "      <td>26.155167</td>\n",
       "      <td>4.715868</td>\n",
       "      <td>2.086040e+00</td>\n",
       "      <td>2.939621</td>\n",
       "      <td>2.939621</td>\n",
       "      <td>2.939621</td>\n",
       "    </tr>\n",
       "    <tr>\n",
       "      <th>14</th>\n",
       "      <td>3.906488e-01</td>\n",
       "      <td>0.976711</td>\n",
       "      <td>2.328874e-02</td>\n",
       "      <td>0.847701</td>\n",
       "      <td>232.009823</td>\n",
       "      <td>0.797453</td>\n",
       "      <td>1.214512e-01</td>\n",
       "      <td>0.020726</td>\n",
       "      <td>9.551182e-03</td>\n",
       "      <td>0.012629</td>\n",
       "      <td>0.012629</td>\n",
       "      <td>0.012629</td>\n",
       "      <td>185.016967</td>\n",
       "      <td>28.177875</td>\n",
       "      <td>4.808612</td>\n",
       "      <td>2.215968e+00</td>\n",
       "      <td>2.930134</td>\n",
       "      <td>2.930134</td>\n",
       "      <td>2.930134</td>\n",
       "    </tr>\n",
       "    <tr>\n",
       "      <th>15</th>\n",
       "      <td>4.038836e-01</td>\n",
       "      <td>0.973391</td>\n",
       "      <td>2.660878e-02</td>\n",
       "      <td>0.844248</td>\n",
       "      <td>242.929818</td>\n",
       "      <td>0.797556</td>\n",
       "      <td>1.242208e-01</td>\n",
       "      <td>0.020165</td>\n",
       "      <td>9.646791e-03</td>\n",
       "      <td>0.012021</td>\n",
       "      <td>0.012021</td>\n",
       "      <td>0.012021</td>\n",
       "      <td>193.750204</td>\n",
       "      <td>30.176937</td>\n",
       "      <td>4.898664</td>\n",
       "      <td>2.343493e+00</td>\n",
       "      <td>2.920174</td>\n",
       "      <td>2.920174</td>\n",
       "      <td>2.920174</td>\n",
       "    </tr>\n",
       "    <tr>\n",
       "      <th>16</th>\n",
       "      <td>4.164453e-01</td>\n",
       "      <td>0.969923</td>\n",
       "      <td>3.007682e-02</td>\n",
       "      <td>0.841092</td>\n",
       "      <td>253.671535</td>\n",
       "      <td>0.797624</td>\n",
       "      <td>1.267486e-01</td>\n",
       "      <td>0.019656</td>\n",
       "      <td>9.732391e-03</td>\n",
       "      <td>0.011471</td>\n",
       "      <td>0.011471</td>\n",
       "      <td>0.011471</td>\n",
       "      <td>202.334611</td>\n",
       "      <td>32.152500</td>\n",
       "      <td>4.986284</td>\n",
       "      <td>2.468831e+00</td>\n",
       "      <td>2.909770</td>\n",
       "      <td>2.909770</td>\n",
       "      <td>2.909770</td>\n",
       "    </tr>\n",
       "    <tr>\n",
       "      <th>17</th>\n",
       "      <td>4.284065e-01</td>\n",
       "      <td>0.966316</td>\n",
       "      <td>3.368405e-02</td>\n",
       "      <td>0.838200</td>\n",
       "      <td>264.247804</td>\n",
       "      <td>0.797670</td>\n",
       "      <td>1.290632e-01</td>\n",
       "      <td>0.019193</td>\n",
       "      <td>9.809579e-03</td>\n",
       "      <td>0.010971</td>\n",
       "      <td>0.010971</td>\n",
       "      <td>0.010971</td>\n",
       "      <td>210.782432</td>\n",
       "      <td>34.104674</td>\n",
       "      <td>5.071695</td>\n",
       "      <td>2.592160e+00</td>\n",
       "      <td>2.898948</td>\n",
       "      <td>2.898948</td>\n",
       "      <td>2.898948</td>\n",
       "    </tr>\n",
       "    <tr>\n",
       "      <th>18</th>\n",
       "      <td>4.398282e-01</td>\n",
       "      <td>0.962578</td>\n",
       "      <td>3.742245e-02</td>\n",
       "      <td>0.835541</td>\n",
       "      <td>274.669464</td>\n",
       "      <td>0.797701</td>\n",
       "      <td>1.311887e-01</td>\n",
       "      <td>0.018768</td>\n",
       "      <td>9.879624e-03</td>\n",
       "      <td>0.010513</td>\n",
       "      <td>0.010513</td>\n",
       "      <td>0.010513</td>\n",
       "      <td>219.104013</td>\n",
       "      <td>36.033538</td>\n",
       "      <td>5.155084</td>\n",
       "      <td>2.713631e+00</td>\n",
       "      <td>2.887733</td>\n",
       "      <td>2.887733</td>\n",
       "      <td>2.887733</td>\n",
       "    </tr>\n",
       "    <tr>\n",
       "      <th>19</th>\n",
       "      <td>4.507620e-01</td>\n",
       "      <td>0.958715</td>\n",
       "      <td>4.128469e-02</td>\n",
       "      <td>0.833094</td>\n",
       "      <td>284.945752</td>\n",
       "      <td>0.797724</td>\n",
       "      <td>1.331452e-01</td>\n",
       "      <td>0.018378</td>\n",
       "      <td>9.943551e-03</td>\n",
       "      <td>0.010094</td>\n",
       "      <td>0.010094</td>\n",
       "      <td>0.010094</td>\n",
       "      <td>227.308181</td>\n",
       "      <td>37.939149</td>\n",
       "      <td>5.236611</td>\n",
       "      <td>2.833373e+00</td>\n",
       "      <td>2.876146</td>\n",
       "      <td>2.876146</td>\n",
       "      <td>2.876146</td>\n",
       "    </tr>\n",
       "    <tr>\n",
       "      <th>20</th>\n",
       "      <td>4.612522e-01</td>\n",
       "      <td>0.954736</td>\n",
       "      <td>4.526408e-02</td>\n",
       "      <td>0.830836</td>\n",
       "      <td>295.084613</td>\n",
       "      <td>0.797746</td>\n",
       "      <td>1.349496e-01</td>\n",
       "      <td>0.018017</td>\n",
       "      <td>1.000219e-02</td>\n",
       "      <td>0.009706</td>\n",
       "      <td>0.009706</td>\n",
       "      <td>0.009706</td>\n",
       "      <td>235.402540</td>\n",
       "      <td>39.821540</td>\n",
       "      <td>5.316416</td>\n",
       "      <td>2.951494e+00</td>\n",
       "      <td>2.864208</td>\n",
       "      <td>2.864208</td>\n",
       "      <td>2.864208</td>\n",
       "    </tr>\n",
       "  </tbody>\n",
       "</table>\n",
       "</div>"
      ],
      "text/plain": [
       "     p_collision  p_success      p_failure    p_free  cycle_time      p_bo  \\\n",
       "1   1.808663e-27   1.000000  1.070115e-107  1.000000   52.525587  0.714425   \n",
       "2   8.660267e-02   0.999944   5.625034e-05  0.958659   72.562287  0.754106   \n",
       "3   1.410750e-01   0.999604   3.960957e-04  0.934718   90.348258  0.772326   \n",
       "4   1.819036e-01   0.998905   1.094876e-03  0.917863  106.399434  0.781842   \n",
       "5   2.151348e-01   0.997858   2.142113e-03  0.904857  121.272338  0.787367   \n",
       "6   2.434344e-01   0.996488   3.511783e-03  0.894302  135.302635  0.790804   \n",
       "7   2.682311e-01   0.994823   5.176504e-03  0.885457  148.695466  0.793038   \n",
       "8   2.903900e-01   0.992889   7.110932e-03  0.877882  161.583728  0.794533   \n",
       "9   3.104796e-01   0.990708   9.292490e-03  0.871287  174.058276  0.795552   \n",
       "10  3.288959e-01   0.988299   1.170129e-02  0.865477  186.184036  0.796253   \n",
       "11  3.459272e-01   0.985680   1.431986e-02  0.860308  198.009123  0.796737   \n",
       "12  3.617904e-01   0.982867   1.713279e-02  0.855674  209.570263  0.797071   \n",
       "13  3.766534e-01   0.979874   2.012646e-02  0.851493  220.896184  0.797299   \n",
       "14  3.906488e-01   0.976711   2.328874e-02  0.847701  232.009823  0.797453   \n",
       "15  4.038836e-01   0.973391   2.660878e-02  0.844248  242.929818  0.797556   \n",
       "16  4.164453e-01   0.969923   3.007682e-02  0.841092  253.671535  0.797624   \n",
       "17  4.284065e-01   0.966316   3.368405e-02  0.838200  264.247804  0.797670   \n",
       "18  4.398282e-01   0.962578   3.742245e-02  0.835541  274.669464  0.797701   \n",
       "19  4.507620e-01   0.958715   4.128469e-02  0.833094  284.945752  0.797724   \n",
       "20  4.612522e-01   0.954736   4.526408e-02  0.830836  295.084613  0.797746   \n",
       "\n",
       "          p_wait     p_rts         p_out     p_cts    p_data     p_ack  \\\n",
       "1   7.144248e-08  0.057115  1.033018e-28  0.057115  0.057115  0.057115   \n",
       "2   3.117585e-02  0.045261  4.088777e-03  0.041341  0.041341  0.041341   \n",
       "3   5.041873e-02  0.038643  5.832348e-03  0.033192  0.033192  0.033192   \n",
       "4   6.421806e-02  0.034427  6.822838e-03  0.028165  0.028165  0.028165   \n",
       "5   7.491223e-02  0.031451  7.477624e-03  0.024685  0.024685  0.024685   \n",
       "6   8.358652e-02  0.029204  7.949474e-03  0.022095  0.022095  0.022095   \n",
       "7   9.083674e-02  0.027428  8.308778e-03  0.020071  0.020071  0.020071   \n",
       "8   9.702714e-02  0.025978  8.593109e-03  0.018434  0.018434  0.018434   \n",
       "9   1.023975e-01  0.024764  8.824629e-03  0.017075  0.017075  0.017075   \n",
       "10  1.071142e-01  0.023729  9.017372e-03  0.015925  0.015925  0.015925   \n",
       "11  1.112978e-01  0.022832  9.180720e-03  0.014934  0.014934  0.014934   \n",
       "12  1.150384e-01  0.022046  9.321205e-03  0.014070  0.014070  0.014070   \n",
       "13  1.184048e-01  0.021349  9.443532e-03  0.013308  0.013308  0.013308   \n",
       "14  1.214512e-01  0.020726  9.551182e-03  0.012629  0.012629  0.012629   \n",
       "15  1.242208e-01  0.020165  9.646791e-03  0.012021  0.012021  0.012021   \n",
       "16  1.267486e-01  0.019656  9.732391e-03  0.011471  0.011471  0.011471   \n",
       "17  1.290632e-01  0.019193  9.809579e-03  0.010971  0.010971  0.010971   \n",
       "18  1.311887e-01  0.018768  9.879624e-03  0.010513  0.010513  0.010513   \n",
       "19  1.331452e-01  0.018378  9.943551e-03  0.010094  0.010094  0.010094   \n",
       "20  1.349496e-01  0.018017  1.000219e-02  0.009706  0.009706  0.009706   \n",
       "\n",
       "       bo_time  wait_time  rts_time      out_time  cts_time  data_time  \\\n",
       "1    37.525583   0.000004  3.000000  5.425988e-27  3.000000   3.000000   \n",
       "2    54.719655   2.262191  3.284257  2.966910e-01  2.999831   2.999831   \n",
       "3    69.778281   4.555245  3.491355  5.269425e-01  2.998812   2.998812   \n",
       "4    83.187542   6.832765  3.663034  7.259461e-01  2.996715   2.996715   \n",
       "5    95.485883   9.084781  3.814124  9.068289e-01  2.993574   2.993574   \n",
       "6   106.997818  11.309477  3.951362  1.075585e+00  2.989465   2.989465   \n",
       "7   117.921132  13.507012  4.078433  1.235478e+00  2.984470   2.984470   \n",
       "8   128.383601  15.678007  4.197612  1.388507e+00  2.978667   2.978667   \n",
       "9   138.472363  17.823126  4.310420  1.536000e+00  2.972123   2.972123   \n",
       "10  148.249563  19.942957  4.417938  1.678891e+00  2.964896   2.964896   \n",
       "11  157.761181  22.037990  4.520965  1.817866e+00  2.957040   2.957040   \n",
       "12  167.042275  24.108621  4.620115  1.953447e+00  2.948602   2.948602   \n",
       "13  176.120246  26.155167  4.715868  2.086040e+00  2.939621   2.939621   \n",
       "14  185.016967  28.177875  4.808612  2.215968e+00  2.930134   2.930134   \n",
       "15  193.750204  30.176937  4.898664  2.343493e+00  2.920174   2.920174   \n",
       "16  202.334611  32.152500  4.986284  2.468831e+00  2.909770   2.909770   \n",
       "17  210.782432  34.104674  5.071695  2.592160e+00  2.898948   2.898948   \n",
       "18  219.104013  36.033538  5.155084  2.713631e+00  2.887733   2.887733   \n",
       "19  227.308181  37.939149  5.236611  2.833373e+00  2.876146   2.876146   \n",
       "20  235.402540  39.821540  5.316416  2.951494e+00  2.864208   2.864208   \n",
       "\n",
       "    ack_time  \n",
       "1   3.000000  \n",
       "2   2.999831  \n",
       "3   2.998812  \n",
       "4   2.996715  \n",
       "5   2.993574  \n",
       "6   2.989465  \n",
       "7   2.984470  \n",
       "8   2.978667  \n",
       "9   2.972123  \n",
       "10  2.964896  \n",
       "11  2.957040  \n",
       "12  2.948602  \n",
       "13  2.939621  \n",
       "14  2.930134  \n",
       "15  2.920174  \n",
       "16  2.909770  \n",
       "17  2.898948  \n",
       "18  2.887733  \n",
       "19  2.876146  \n",
       "20  2.864208  "
      ]
     },
     "execution_count": 87,
     "metadata": {},
     "output_type": "execute_result"
    }
   ],
   "source": [
    "# Draw table to evaluate the results\n",
    "data_pd = {}\n",
    "for i in range(1, len(data[0])):\n",
    "    data_pd[data[0][i]] = np.array(data[1:]).T[i]\n",
    "df1 = pd.DataFrame(data_pd, index=np.arange(1, len(np.array(data[1:]).T[0])+1))\n",
    "df1"
   ]
  },
  {
   "cell_type": "code",
   "execution_count": 88,
   "metadata": {},
   "outputs": [],
   "source": [
    "# Here we save our table to csv in the same folder\n",
    "with open('2021-04-08-01.csv', \"wt\", newline=\"\") as file:\n",
    "    writer = csv.writer(file, delimiter=',')\n",
    "    writer.writerow(analytics_headers)\n",
    "    for i in range(1, len(data)):\n",
    "        writer.writerow(data[i])"
   ]
  },
  {
   "cell_type": "code",
   "execution_count": null,
   "metadata": {},
   "outputs": [],
   "source": []
  },
  {
   "cell_type": "code",
   "execution_count": 17,
   "metadata": {},
   "outputs": [
    {
     "name": "stdout",
     "output_type": "stream",
     "text": [
      "1\n",
      "3\n",
      "6\n",
      "10\n",
      "15\n",
      "21\n",
      "28\n",
      "36\n",
      "45\n",
      "55\n",
      "66\n",
      "78\n",
      "91\n",
      "105\n",
      "120\n",
      "136\n",
      "153\n",
      "171\n",
      "190\n",
      "210\n"
     ]
    }
   ],
   "source": [
    "s = 0\n",
    "for i in range(1, 21):\n",
    "    s += i\n",
    "    print(s)"
   ]
  },
  {
   "cell_type": "code",
   "execution_count": 18,
   "metadata": {},
   "outputs": [
    {
     "data": {
      "text/plain": [
       "210"
      ]
     },
     "execution_count": 18,
     "metadata": {},
     "output_type": "execute_result"
    }
   ],
   "source": [
    "s"
   ]
  },
  {
   "cell_type": "code",
   "execution_count": 73,
   "metadata": {},
   "outputs": [
    {
     "data": {
      "text/plain": [
       "1.0"
      ]
     },
     "execution_count": 73,
     "metadata": {},
     "output_type": "execute_result"
    }
   ],
   "source": [
    "simpc = 0.4663487125083911\n",
    "simpf = 0.7931865846302574\n",
    "t1 = pi_idle(simpc, simpf) + pi_bo(simpc, simpf) + pi_rts(simpc, simpf)\n",
    "t2 = pi_cts(simpc, simpf) + pi_data(simpc, simpf) + pi_ack(simpc, simpf)\n",
    "t3 = pi_out(simpc, simpf) + pi_wait(simpc, simpf)\n",
    "t1 + t2 + t3"
   ]
  },
  {
   "cell_type": "code",
   "execution_count": 71,
   "metadata": {},
   "outputs": [
    {
     "data": {
      "text/plain": [
       "307.9090475329297"
      ]
     },
     "execution_count": 71,
     "metadata": {},
     "output_type": "execute_result"
    }
   ],
   "source": [
    "vc = 0.4731246508351256\n",
    "vf = 0.8260981839009207\n",
    "Etc(vc, vf)"
   ]
  },
  {
   "cell_type": "code",
   "execution_count": 29,
   "metadata": {},
   "outputs": [
    {
     "name": "stdout",
     "output_type": "stream",
     "text": [
      "42\n"
     ]
    }
   ],
   "source": [
    "s = 0\n",
    "for i in range(9, 13):\n",
    "    s += i\n",
    "print(s)"
   ]
  },
  {
   "cell_type": "code",
   "execution_count": 30,
   "metadata": {},
   "outputs": [
    {
     "name": "stdout",
     "output_type": "stream",
     "text": [
      "42\n"
     ]
    }
   ],
   "source": [
    "s = 0\n",
    "for i in range(13, 16):\n",
    "    s += i\n",
    "print(s)"
   ]
  },
  {
   "cell_type": "code",
   "execution_count": 31,
   "metadata": {},
   "outputs": [
    {
     "name": "stdout",
     "output_type": "stream",
     "text": [
      "33\n"
     ]
    }
   ],
   "source": [
    "s = 0\n",
    "for i in range(16, 18):\n",
    "    s += i\n",
    "print(s)"
   ]
  },
  {
   "cell_type": "code",
   "execution_count": 32,
   "metadata": {},
   "outputs": [
    {
     "name": "stdout",
     "output_type": "stream",
     "text": [
      "37\n"
     ]
    }
   ],
   "source": [
    "s = 0\n",
    "for i in range(18, 20):\n",
    "    s += i\n",
    "print(s)"
   ]
  },
  {
   "cell_type": "code",
   "execution_count": 33,
   "metadata": {},
   "outputs": [
    {
     "name": "stdout",
     "output_type": "stream",
     "text": [
      "20\n"
     ]
    }
   ],
   "source": [
    "s = 0\n",
    "for i in range(20, 21):\n",
    "    s += i\n",
    "print(s)"
   ]
  },
  {
   "cell_type": "code",
   "execution_count": 61,
   "metadata": {},
   "outputs": [],
   "source": [
    "cp = 0.11111884767821734\n",
    "cf = 0.957330465104775"
   ]
  },
  {
   "cell_type": "code",
   "execution_count": 65,
   "metadata": {},
   "outputs": [
    {
     "data": {
      "text/plain": [
       "0.3916852250936333"
      ]
     },
     "execution_count": 65,
     "metadata": {},
     "output_type": "execute_result"
    }
   ],
   "source": [
    "Etc(cp, cf) * pi_out(cp, cf)"
   ]
  },
  {
   "cell_type": "code",
   "execution_count": 24,
   "metadata": {},
   "outputs": [],
   "source": [
    "# СОХРАНЕНИЕ С NPY В CSV\n",
    "threads = 12\n",
    "\n",
    "name = '2021_05_03_03'\n",
    "fullname = 'results/npy/' + name\n",
    "tt = np.load(fullname + '_0.npy')\n",
    "for th in range(1, threads):\n",
    "    ct = np.load(fullname + f'_{th}.npy')\n",
    "    tt = np.concatenate((tt, ct))\n",
    "    \n",
    "    \n",
    "stats_headers = [\n",
    "    'nodes',\n",
    "    'p_collision',\n",
    "    'p_failure',\n",
    "    'p_success',\n",
    "    'p_free',\n",
    "    'p_busy',\n",
    "    'p_rts_rts',\n",
    "    'p_rts_cts',\n",
    "    'p_rts_data',\n",
    "    'p_free_v2',\n",
    "    'saturation',\n",
    "    'cycle_time',\n",
    "    'idle_time',\n",
    "    'bo_time',\n",
    "    'rts_time',\n",
    "    'cts_time',\n",
    "    'data_time',\n",
    "    'ack_time',\n",
    "    'out_time',\n",
    "    'wait_time',\n",
    "]\n",
    "\n",
    "    \n",
    "with open(f'results/csv/{name}.csv', \"wt\", newline=\"\") as file:\n",
    "    writer = csv.writer(file, delimiter=',')\n",
    "    writer.writerow(stats_headers)\n",
    "    for ttt in tt:\n",
    "        writer.writerow(list(ttt))"
   ]
  },
  {
   "cell_type": "code",
   "execution_count": 25,
   "metadata": {},
   "outputs": [],
   "source": [
    "data = [stats_headers]\n",
    "for i in range(len(tt)):\n",
    "    data.append(tt[i])\n",
    " "
   ]
  },
  {
   "cell_type": "code",
   "execution_count": 26,
   "metadata": {
    "scrolled": false
   },
   "outputs": [
    {
     "data": {
      "text/html": [
       "<div>\n",
       "<style scoped>\n",
       "    .dataframe tbody tr th:only-of-type {\n",
       "        vertical-align: middle;\n",
       "    }\n",
       "\n",
       "    .dataframe tbody tr th {\n",
       "        vertical-align: top;\n",
       "    }\n",
       "\n",
       "    .dataframe thead th {\n",
       "        text-align: right;\n",
       "    }\n",
       "</style>\n",
       "<table border=\"1\" class=\"dataframe\">\n",
       "  <thead>\n",
       "    <tr style=\"text-align: right;\">\n",
       "      <th></th>\n",
       "      <th>p_collision</th>\n",
       "      <th>p_failure</th>\n",
       "      <th>p_success</th>\n",
       "      <th>p_free</th>\n",
       "      <th>p_busy</th>\n",
       "      <th>p_rts_rts</th>\n",
       "      <th>p_rts_cts</th>\n",
       "      <th>p_rts_data</th>\n",
       "      <th>p_free_v2</th>\n",
       "      <th>saturation</th>\n",
       "      <th>cycle_time</th>\n",
       "      <th>idle_time</th>\n",
       "      <th>bo_time</th>\n",
       "      <th>rts_time</th>\n",
       "      <th>cts_time</th>\n",
       "      <th>data_time</th>\n",
       "      <th>ack_time</th>\n",
       "      <th>out_time</th>\n",
       "      <th>wait_time</th>\n",
       "    </tr>\n",
       "  </thead>\n",
       "  <tbody>\n",
       "    <tr>\n",
       "      <th>1</th>\n",
       "      <td>0.000000</td>\n",
       "      <td>0.000000</td>\n",
       "      <td>1.000000</td>\n",
       "      <td>1.000000</td>\n",
       "      <td>0.000000</td>\n",
       "      <td>0.000000</td>\n",
       "      <td>0.000000</td>\n",
       "      <td>0.0</td>\n",
       "      <td>1.000000</td>\n",
       "      <td>0.228623</td>\n",
       "      <td>52.487947</td>\n",
       "      <td>3.0</td>\n",
       "      <td>37.487947</td>\n",
       "      <td>3.000000</td>\n",
       "      <td>3.000000</td>\n",
       "      <td>3.000000</td>\n",
       "      <td>3.000000</td>\n",
       "      <td>0.000000</td>\n",
       "      <td>0.000000</td>\n",
       "    </tr>\n",
       "    <tr>\n",
       "      <th>2</th>\n",
       "      <td>0.111530</td>\n",
       "      <td>0.000149</td>\n",
       "      <td>0.999851</td>\n",
       "      <td>0.957369</td>\n",
       "      <td>0.042631</td>\n",
       "      <td>0.055672</td>\n",
       "      <td>0.055858</td>\n",
       "      <td>0.0</td>\n",
       "      <td>0.963330</td>\n",
       "      <td>0.293361</td>\n",
       "      <td>81.798055</td>\n",
       "      <td>3.0</td>\n",
       "      <td>63.330839</td>\n",
       "      <td>3.376088</td>\n",
       "      <td>2.999553</td>\n",
       "      <td>2.999553</td>\n",
       "      <td>2.999553</td>\n",
       "      <td>0.376535</td>\n",
       "      <td>2.715933</td>\n",
       "    </tr>\n",
       "    <tr>\n",
       "      <th>3</th>\n",
       "      <td>0.160624</td>\n",
       "      <td>0.000625</td>\n",
       "      <td>0.999375</td>\n",
       "      <td>0.931335</td>\n",
       "      <td>0.068665</td>\n",
       "      <td>0.085254</td>\n",
       "      <td>0.075371</td>\n",
       "      <td>0.0</td>\n",
       "      <td>0.941049</td>\n",
       "      <td>0.353605</td>\n",
       "      <td>101.714422</td>\n",
       "      <td>3.0</td>\n",
       "      <td>80.039237</td>\n",
       "      <td>3.571839</td>\n",
       "      <td>2.998124</td>\n",
       "      <td>2.998124</td>\n",
       "      <td>2.998124</td>\n",
       "      <td>0.573716</td>\n",
       "      <td>5.535259</td>\n",
       "    </tr>\n",
       "    <tr>\n",
       "      <th>4</th>\n",
       "      <td>0.198484</td>\n",
       "      <td>0.001487</td>\n",
       "      <td>0.998513</td>\n",
       "      <td>0.912255</td>\n",
       "      <td>0.087745</td>\n",
       "      <td>0.108722</td>\n",
       "      <td>0.089761</td>\n",
       "      <td>0.0</td>\n",
       "      <td>0.924833</td>\n",
       "      <td>0.400818</td>\n",
       "      <td>119.557855</td>\n",
       "      <td>3.0</td>\n",
       "      <td>94.716066</td>\n",
       "      <td>3.737355</td>\n",
       "      <td>2.995539</td>\n",
       "      <td>2.995539</td>\n",
       "      <td>2.995539</td>\n",
       "      <td>0.741816</td>\n",
       "      <td>8.376000</td>\n",
       "    </tr>\n",
       "    <tr>\n",
       "      <th>5</th>\n",
       "      <td>0.230044</td>\n",
       "      <td>0.002770</td>\n",
       "      <td>0.997230</td>\n",
       "      <td>0.896645</td>\n",
       "      <td>0.103355</td>\n",
       "      <td>0.129434</td>\n",
       "      <td>0.100610</td>\n",
       "      <td>0.0</td>\n",
       "      <td>0.911810</td>\n",
       "      <td>0.441084</td>\n",
       "      <td>135.693282</td>\n",
       "      <td>3.0</td>\n",
       "      <td>107.713648</td>\n",
       "      <td>3.885530</td>\n",
       "      <td>2.991691</td>\n",
       "      <td>2.991691</td>\n",
       "      <td>2.991691</td>\n",
       "      <td>0.893840</td>\n",
       "      <td>11.225191</td>\n",
       "    </tr>\n",
       "    <tr>\n",
       "      <th>...</th>\n",
       "      <td>...</td>\n",
       "      <td>...</td>\n",
       "      <td>...</td>\n",
       "      <td>...</td>\n",
       "      <td>...</td>\n",
       "      <td>...</td>\n",
       "      <td>...</td>\n",
       "      <td>...</td>\n",
       "      <td>...</td>\n",
       "      <td>...</td>\n",
       "      <td>...</td>\n",
       "      <td>...</td>\n",
       "      <td>...</td>\n",
       "      <td>...</td>\n",
       "      <td>...</td>\n",
       "      <td>...</td>\n",
       "      <td>...</td>\n",
       "      <td>...</td>\n",
       "      <td>...</td>\n",
       "    </tr>\n",
       "    <tr>\n",
       "      <th>76</th>\n",
       "      <td>0.743969</td>\n",
       "      <td>0.306210</td>\n",
       "      <td>0.693790</td>\n",
       "      <td>0.733399</td>\n",
       "      <td>0.266601</td>\n",
       "      <td>0.649243</td>\n",
       "      <td>0.094725</td>\n",
       "      <td>0.0</td>\n",
       "      <td>0.790110</td>\n",
       "      <td>0.850549</td>\n",
       "      <td>743.829098</td>\n",
       "      <td>3.0</td>\n",
       "      <td>567.499822</td>\n",
       "      <td>8.129571</td>\n",
       "      <td>2.081370</td>\n",
       "      <td>2.081370</td>\n",
       "      <td>2.081370</td>\n",
       "      <td>6.048201</td>\n",
       "      <td>152.907394</td>\n",
       "    </tr>\n",
       "    <tr>\n",
       "      <th>77</th>\n",
       "      <td>0.746455</td>\n",
       "      <td>0.310580</td>\n",
       "      <td>0.689420</td>\n",
       "      <td>0.733382</td>\n",
       "      <td>0.266618</td>\n",
       "      <td>0.652894</td>\n",
       "      <td>0.093561</td>\n",
       "      <td>0.0</td>\n",
       "      <td>0.790084</td>\n",
       "      <td>0.850431</td>\n",
       "      <td>748.869394</td>\n",
       "      <td>3.0</td>\n",
       "      <td>571.438298</td>\n",
       "      <td>8.157364</td>\n",
       "      <td>2.068261</td>\n",
       "      <td>2.068261</td>\n",
       "      <td>2.068261</td>\n",
       "      <td>6.089103</td>\n",
       "      <td>153.979846</td>\n",
       "    </tr>\n",
       "    <tr>\n",
       "      <th>78</th>\n",
       "      <td>0.749367</td>\n",
       "      <td>0.315516</td>\n",
       "      <td>0.684484</td>\n",
       "      <td>0.733745</td>\n",
       "      <td>0.266255</td>\n",
       "      <td>0.657103</td>\n",
       "      <td>0.092264</td>\n",
       "      <td>0.0</td>\n",
       "      <td>0.790293</td>\n",
       "      <td>0.849906</td>\n",
       "      <td>754.022660</td>\n",
       "      <td>3.0</td>\n",
       "      <td>575.630719</td>\n",
       "      <td>8.192858</td>\n",
       "      <td>2.053453</td>\n",
       "      <td>2.053453</td>\n",
       "      <td>2.053453</td>\n",
       "      <td>6.139405</td>\n",
       "      <td>154.899317</td>\n",
       "    </tr>\n",
       "    <tr>\n",
       "      <th>79</th>\n",
       "      <td>0.752123</td>\n",
       "      <td>0.320382</td>\n",
       "      <td>0.679618</td>\n",
       "      <td>0.733527</td>\n",
       "      <td>0.266473</td>\n",
       "      <td>0.660868</td>\n",
       "      <td>0.091255</td>\n",
       "      <td>0.0</td>\n",
       "      <td>0.790140</td>\n",
       "      <td>0.850029</td>\n",
       "      <td>757.840294</td>\n",
       "      <td>3.0</td>\n",
       "      <td>578.507177</td>\n",
       "      <td>8.225198</td>\n",
       "      <td>2.038854</td>\n",
       "      <td>2.038854</td>\n",
       "      <td>2.038854</td>\n",
       "      <td>6.186344</td>\n",
       "      <td>155.805012</td>\n",
       "    </tr>\n",
       "    <tr>\n",
       "      <th>80</th>\n",
       "      <td>0.754336</td>\n",
       "      <td>0.323672</td>\n",
       "      <td>0.676328</td>\n",
       "      <td>0.733577</td>\n",
       "      <td>0.266423</td>\n",
       "      <td>0.663694</td>\n",
       "      <td>0.090643</td>\n",
       "      <td>0.0</td>\n",
       "      <td>0.790157</td>\n",
       "      <td>0.849692</td>\n",
       "      <td>763.891907</td>\n",
       "      <td>3.0</td>\n",
       "      <td>583.261795</td>\n",
       "      <td>8.258950</td>\n",
       "      <td>2.028985</td>\n",
       "      <td>2.028985</td>\n",
       "      <td>2.028985</td>\n",
       "      <td>6.229965</td>\n",
       "      <td>157.054243</td>\n",
       "    </tr>\n",
       "  </tbody>\n",
       "</table>\n",
       "<p>80 rows × 19 columns</p>\n",
       "</div>"
      ],
      "text/plain": [
       "    p_collision  p_failure  p_success    p_free    p_busy  p_rts_rts  \\\n",
       "1      0.000000   0.000000   1.000000  1.000000  0.000000   0.000000   \n",
       "2      0.111530   0.000149   0.999851  0.957369  0.042631   0.055672   \n",
       "3      0.160624   0.000625   0.999375  0.931335  0.068665   0.085254   \n",
       "4      0.198484   0.001487   0.998513  0.912255  0.087745   0.108722   \n",
       "5      0.230044   0.002770   0.997230  0.896645  0.103355   0.129434   \n",
       "..          ...        ...        ...       ...       ...        ...   \n",
       "76     0.743969   0.306210   0.693790  0.733399  0.266601   0.649243   \n",
       "77     0.746455   0.310580   0.689420  0.733382  0.266618   0.652894   \n",
       "78     0.749367   0.315516   0.684484  0.733745  0.266255   0.657103   \n",
       "79     0.752123   0.320382   0.679618  0.733527  0.266473   0.660868   \n",
       "80     0.754336   0.323672   0.676328  0.733577  0.266423   0.663694   \n",
       "\n",
       "    p_rts_cts  p_rts_data  p_free_v2  saturation  cycle_time  idle_time  \\\n",
       "1    0.000000         0.0   1.000000    0.228623   52.487947        3.0   \n",
       "2    0.055858         0.0   0.963330    0.293361   81.798055        3.0   \n",
       "3    0.075371         0.0   0.941049    0.353605  101.714422        3.0   \n",
       "4    0.089761         0.0   0.924833    0.400818  119.557855        3.0   \n",
       "5    0.100610         0.0   0.911810    0.441084  135.693282        3.0   \n",
       "..        ...         ...        ...         ...         ...        ...   \n",
       "76   0.094725         0.0   0.790110    0.850549  743.829098        3.0   \n",
       "77   0.093561         0.0   0.790084    0.850431  748.869394        3.0   \n",
       "78   0.092264         0.0   0.790293    0.849906  754.022660        3.0   \n",
       "79   0.091255         0.0   0.790140    0.850029  757.840294        3.0   \n",
       "80   0.090643         0.0   0.790157    0.849692  763.891907        3.0   \n",
       "\n",
       "       bo_time  rts_time  cts_time  data_time  ack_time  out_time   wait_time  \n",
       "1    37.487947  3.000000  3.000000   3.000000  3.000000  0.000000    0.000000  \n",
       "2    63.330839  3.376088  2.999553   2.999553  2.999553  0.376535    2.715933  \n",
       "3    80.039237  3.571839  2.998124   2.998124  2.998124  0.573716    5.535259  \n",
       "4    94.716066  3.737355  2.995539   2.995539  2.995539  0.741816    8.376000  \n",
       "5   107.713648  3.885530  2.991691   2.991691  2.991691  0.893840   11.225191  \n",
       "..         ...       ...       ...        ...       ...       ...         ...  \n",
       "76  567.499822  8.129571  2.081370   2.081370  2.081370  6.048201  152.907394  \n",
       "77  571.438298  8.157364  2.068261   2.068261  2.068261  6.089103  153.979846  \n",
       "78  575.630719  8.192858  2.053453   2.053453  2.053453  6.139405  154.899317  \n",
       "79  578.507177  8.225198  2.038854   2.038854  2.038854  6.186344  155.805012  \n",
       "80  583.261795  8.258950  2.028985   2.028985  2.028985  6.229965  157.054243  \n",
       "\n",
       "[80 rows x 19 columns]"
      ]
     },
     "execution_count": 26,
     "metadata": {},
     "output_type": "execute_result"
    }
   ],
   "source": [
    "data_pd = {}\n",
    "for i in range(1, len(data[0])):\n",
    "    data_pd[data[0][i]] = np.array(data[1:]).T[i]\n",
    "df1 = pd.DataFrame(data_pd, index=np.arange(1, len(np.array(data[1:]).T[0])+1))\n",
    "df1"
   ]
  },
  {
   "cell_type": "code",
   "execution_count": 27,
   "metadata": {},
   "outputs": [
    {
     "data": {
      "text/plain": [
       "array([0.        , 0.11153006, 0.16062445, 0.19848367, 0.23004387,\n",
       "       0.25703679, 0.28101026, 0.30259215, 0.3219919 , 0.33902182,\n",
       "       0.35601861, 0.37207153, 0.38649549, 0.40011787, 0.41266994,\n",
       "       0.42507911, 0.4358507 , 0.44676097, 0.45738893, 0.46697702,\n",
       "       0.47680756, 0.48614389, 0.49499078, 0.50364919, 0.51177877,\n",
       "       0.5199291 , 0.52731171, 0.53487173, 0.54187951, 0.54907918,\n",
       "       0.55590722, 0.5629198 , 0.56871265, 0.57493733, 0.58138204,\n",
       "       0.58682317, 0.59279914, 0.59841484, 0.60366   , 0.60897188,\n",
       "       0.61429347, 0.61896851, 0.6241131 , 0.62864761, 0.63389043,\n",
       "       0.63836302, 0.64298245, 0.64728931, 0.65182021, 0.65607796,\n",
       "       0.66039034, 0.66433326, 0.66862209, 0.67247657, 0.67584964,\n",
       "       0.68020277, 0.68404627, 0.68747451, 0.69060034, 0.69457557,\n",
       "       0.69843597, 0.70141851, 0.70483056, 0.70843457, 0.71120678,\n",
       "       0.71446001, 0.71710491, 0.72088856, 0.72380595, 0.7264395 ,\n",
       "       0.72947002, 0.73237985, 0.73546134, 0.73812391, 0.74108139,\n",
       "       0.74396862, 0.74645506, 0.74936728, 0.75212289, 0.75433622])"
      ]
     },
     "execution_count": 27,
     "metadata": {},
     "output_type": "execute_result"
    }
   ],
   "source": [
    "p_collision_sim = np.array(data[1:]).T[1]\n",
    "p_collision_sim"
   ]
  },
  {
   "cell_type": "code",
   "execution_count": 28,
   "metadata": {},
   "outputs": [
    {
     "data": {
      "text/plain": [
       "array([ 1.,  2.,  3.,  4.,  5.,  6.,  7.,  8.,  9., 10., 11., 12., 13.,\n",
       "       14., 15., 16., 17., 18., 19., 20., 21., 22., 23., 24., 25., 26.,\n",
       "       27., 28., 29., 30., 31., 32., 33., 34., 35., 36., 37., 38., 39.,\n",
       "       40., 41., 42., 43., 44., 45., 46., 47., 48., 49., 50., 51., 52.,\n",
       "       53., 54., 55., 56., 57., 58., 59., 60., 61., 62., 63., 64., 65.,\n",
       "       66., 67., 68., 69., 70., 71., 72., 73., 74., 75., 76., 77., 78.,\n",
       "       79., 80.])"
      ]
     },
     "execution_count": 28,
     "metadata": {},
     "output_type": "execute_result"
    }
   ],
   "source": [
    "np.array(data[1:]).T[0]"
   ]
  },
  {
   "cell_type": "code",
   "execution_count": 103,
   "metadata": {},
   "outputs": [
    {
     "data": {
      "text/plain": [
       "array([1.        , 0.9633298 , 0.94104853, 0.92483348, 0.91181012,\n",
       "       0.9008919 , 0.89168583, 0.88391191, 0.87691486, 0.8703527 ,\n",
       "       0.86502246, 0.86006006, 0.85545991, 0.85143881, 0.8473837 ,\n",
       "       0.8438804 , 0.84047037, 0.83739384, 0.83450208, 0.83151729,\n",
       "       0.82940679, 0.82687326, 0.8247585 , 0.82275771, 0.82065135,\n",
       "       0.81896399, 0.81711654, 0.81551016, 0.81393367, 0.81258125,\n",
       "       0.81119928, 0.80995509, 0.80849209, 0.80733548, 0.80631541,\n",
       "       0.80524883, 0.80419129, 0.80324555, 0.80234059, 0.80148049,\n",
       "       0.80061124, 0.79972596, 0.79915862, 0.79840323, 0.79778914,\n",
       "       0.79709749, 0.79648312, 0.79610361, 0.79550067, 0.79499116,\n",
       "       0.79473175, 0.79417458, 0.79377071, 0.79331691, 0.79297648,\n",
       "       0.79271723, 0.79235735, 0.79206694, 0.79154466, 0.79168433,\n",
       "       0.79152147, 0.79127052, 0.7908609 , 0.79073404, 0.79047434,\n",
       "       0.79050532, 0.79029289, 0.79024996, 0.79030341, 0.78998976,\n",
       "       0.79000315, 0.7899748 , 0.79004799, 0.79010837, 0.79004021,\n",
       "       0.79010991, 0.79008418, 0.7902931 , 0.79013963, 0.79015695])"
      ]
     },
     "execution_count": 103,
     "metadata": {},
     "output_type": "execute_result"
    }
   ],
   "source": [
    "p_free_sim = np.array(data[1:]).T[9]\n",
    "p_free_sim2 = np.array(data[1:]).T[4]\n",
    "p_free_sim"
   ]
  },
  {
   "cell_type": "code",
   "execution_count": 30,
   "metadata": {},
   "outputs": [
    {
     "data": {
      "text/plain": [
       "array([0.2286228, 0.2933612, 0.3536052, 0.400818 , 0.4410844, 0.4755322,\n",
       "       0.5051998, 0.5305604, 0.5537906, 0.5753144, 0.593883 , 0.6106514,\n",
       "       0.6265656, 0.6406714, 0.6540808, 0.6662072, 0.6786396, 0.68871  ,\n",
       "       0.6989152, 0.7089598, 0.7168458, 0.7254326, 0.7328096, 0.7397886,\n",
       "       0.7473582, 0.7529096, 0.7597314, 0.7654242, 0.7706528, 0.7755974,\n",
       "       0.780635 , 0.7849028, 0.7898704, 0.7940038, 0.7977678, 0.8014538,\n",
       "       0.804816 , 0.8083332, 0.8115006, 0.8145332, 0.8175362, 0.8204414,\n",
       "       0.8225036, 0.825121 , 0.8274488, 0.8297026, 0.8316734, 0.8329176,\n",
       "       0.8348022, 0.8365736, 0.8377696, 0.839792 , 0.8408152, 0.8423312,\n",
       "       0.8432736, 0.8438528, 0.8455648, 0.8462424, 0.8470104, 0.8471024,\n",
       "       0.8479608, 0.8481632, 0.8498504, 0.8500296, 0.8509944, 0.8506104,\n",
       "       0.8512816, 0.8511712, 0.85148  , 0.8518408, 0.8517512, 0.851988 ,\n",
       "       0.8513168, 0.8514096, 0.850936 , 0.8505488, 0.8504312, 0.8499064,\n",
       "       0.8500288, 0.849692 ])"
      ]
     },
     "execution_count": 30,
     "metadata": {},
     "output_type": "execute_result"
    }
   ],
   "source": [
    "saturation_sim = np.array(data[1:]).T[10]\n",
    "saturation_sim"
   ]
  },
  {
   "cell_type": "code",
   "execution_count": 31,
   "metadata": {},
   "outputs": [],
   "source": [
    "p_failure_sim = np.array(data[1:]).T[2]\n",
    "p_success_sim = np.array(data[1:]).T[3]"
   ]
  },
  {
   "cell_type": "code",
   "execution_count": 137,
   "metadata": {},
   "outputs": [
    {
     "data": {
      "image/png": "[encoded data removed]",
      "text/plain": [
       "<Figure size 900x600 with 1 Axes>"
      ]
     },
     "metadata": {
      "needs_background": "light"
     },
     "output_type": "display_data"
    }
   ],
   "source": [
    "plt.figure(dpi=150)\n",
    "# plt.plot(np.arange(1, 51), dataold, label='old')\n",
    "plt.plot(np.arange(1, 81), p_collision_sim, label='simulator')\n",
    "plt.plot(np.arange(1, 81), p_array, label='analytic')\n",
    "plt.plot(np.arange(1, 81), p_array2, label='analytic')\n",
    "# plt.plot(np.arange(1, 31), p3, label='analytic Emil')\n",
    "plt.xlabel('Number of nodes')\n",
    "plt.ylabel(data[0][1])\n",
    "plt.grid(alpha=0.2)\n",
    "plt.legend()\n",
    "plt.show()"
   ]
  },
  {
   "cell_type": "code",
   "execution_count": 78,
   "metadata": {},
   "outputs": [
    {
     "name": "stdout",
     "output_type": "stream",
     "text": [
      "[1.         0.07879987 0.13153396 0.13450146 0.12821443 0.12098314\n",
      " 0.11312187 0.10554721 0.0991956  0.09540773 0.0885874  0.08182752\n",
      " 0.07711519 0.07262172 0.06915399 0.06476872 0.06288469 0.05971772\n",
      " 0.0563126  0.05429699 0.05111379 0.0483222  0.04594396 0.04343243\n",
      " 0.04146859 0.03904808 0.03765689 0.03557954 0.03416421 0.03209807\n",
      " 0.03040379 0.02812655 0.02769953 0.02628699 0.02428476 0.02375554\n",
      " 0.02213464 0.02092359 0.02013821 0.01907277 0.01783257 0.01747033\n",
      " 0.01621495 0.01578136 0.01410853 0.01351067 0.01256414 0.01198131\n",
      " 0.01094591 0.01022009 0.00931073 0.00885726 0.00779421 0.0072863\n",
      " 0.00739716 0.00598476 0.00524073 0.00502132 0.00515909 0.00399995\n",
      " 0.00294018 0.00306499 0.00251086 0.00162317 0.00184469 0.00132864\n",
      " 0.00160222 0.0002349  0.00001714 0.00013574 0.00034521 0.00071046\n",
      " 0.00135802 0.00148239 0.002053   0.00257209 0.00259513 0.00323254\n",
      " 0.00370015 0.0034856 ]\n"
     ]
    }
   ],
   "source": [
    "with np.printoptions(suppress=True):\n",
    "    print(np.fabs(p_collision_sim - p_array) / p_array)"
   ]
  },
  {
   "cell_type": "code",
   "execution_count": 80,
   "metadata": {},
   "outputs": [
    {
     "name": "stdout",
     "output_type": "stream",
     "text": [
      "[1.         0.28783624 0.13857495 0.09114762 0.0693012  0.05587708\n",
      " 0.04764233 0.0420199  0.03707921 0.03078763 0.02917212 0.02841735\n",
      " 0.02613043 0.02423934 0.02175462 0.02073212 0.01737642 0.0157625\n",
      " 0.01470168 0.01241155 0.01160658 0.01059006 0.00932215 0.00836525\n",
      " 0.00698635 0.00622888 0.00452492 0.00365884 0.00221578 0.00155164\n",
      " 0.00059797 0.00033397 0.00174902 0.002738   0.00304975 0.00479565\n",
      " 0.00536088 0.00628051 0.00757124 0.00852024 0.00923832 0.01078903\n",
      " 0.01139001 0.01276873 0.01285918 0.01398298 0.01471582 0.01577078\n",
      " 0.01633587 0.01717151 0.01778876 0.01882274 0.01921946 0.02013236\n",
      " 0.02162288 0.02158114 0.02216856 0.02324229 0.02463702 0.02473264\n",
      " 0.02490021 0.0262001  0.02681075 0.02707177 0.02838931 0.02896467\n",
      " 0.03028416 0.02998771 0.03078544 0.03188705 0.03238676 0.03297797\n",
      " 0.03327654 0.0340606  0.034395   0.03476051 0.035585   0.03580038\n",
      " 0.03616154 0.03716002]\n"
     ]
    }
   ],
   "source": [
    "with np.printoptions(suppress=True):\n",
    "    print(np.fabs(p_collision_sim - p_array2) / p_array2)"
   ]
  },
  {
   "cell_type": "code",
   "execution_count": 105,
   "metadata": {},
   "outputs": [
    {
     "data": {
      "image/png": "[encoded data removed]",
      "text/plain": [
       "<Figure size 900x600 with 1 Axes>"
      ]
     },
     "metadata": {
      "needs_background": "light"
     },
     "output_type": "display_data"
    }
   ],
   "source": [
    "plt.figure(dpi=150)\n",
    "# plt.plot(np.arange(1, 51), dataold, label='old')\n",
    "plt.plot(np.arange(1, 81), p_free_sim, label='simulator')\n",
    "plt.plot(np.arange(1, 81), p_f_array, label='analytic')\n",
    "plt.plot(np.arange(1, 81), p_f_array2, label='analytic')\n",
    "# plt.plot(np.arange(1, 31), p3, label='analytic Emil')\n",
    "plt.xlabel('Number of nodes')\n",
    "plt.ylabel(data[0][4])\n",
    "plt.grid(alpha=0.2)\n",
    "plt.legend()\n",
    "plt.show()"
   ]
  },
  {
   "cell_type": "code",
   "execution_count": 63,
   "metadata": {},
   "outputs": [
    {
     "data": {
      "text/plain": [
       "0.015595582987819996"
      ]
     },
     "execution_count": 63,
     "metadata": {},
     "output_type": "execute_result"
    }
   ],
   "source": [
    "np.max(np.fabs(p_free_sim - p_f_array) / p_f_array)"
   ]
  },
  {
   "cell_type": "code",
   "execution_count": 142,
   "metadata": {},
   "outputs": [],
   "source": [
    "def S2(p, p_f, nodes):\n",
    "    prts = pi_rts(p, p_f)\n",
    "    pcts = pi_cts(p, p_f)\n",
    "    pdata = pi_data(p, p_f)\n",
    "    pack = pi_ack(p, p_f)\n",
    "    \n",
    "    \n",
    "    P_tr = 1 - ((1 - prts - pcts - pdata) ** (nodes))\n",
    "#     print(P_tr)\n",
    "#     P_s = (nodes * prts * (1 - prts) ** (nodes - 1) + nodes * pcts * (1 - pcts) ** (nodes - 1)) / (P_tr)\n",
    "#     Ew = 1 / P_tr - 1\n",
    "    \n",
    "#     print(prts, pcts, pdata, pack, prts + pcts + pdata + pack)\n",
    "#     P_tr = 1 - (1 - prts) ** (nodes) - (1 - pcts) ** (nodes)\n",
    "    P_nontr = (1 - prts) ** (nodes) + (1 - pcts) ** (nodes)\n",
    "#     print(P_nontr)\n",
    "    pr_s = pr_success(p)\n",
    "#     print(P_s, pr_s)\n",
    "    Ew = T_rts * (1 / P_tr - 1)\n",
    "#     Ew = 1 / P_nontr\n",
    "    pr_f = pr_failure(p)\n",
    "    tp = 0.\n",
    "    T_s = T_rts + T_cts + T_data + T_ack + 4 * tp\n",
    "    T_f = T_rts + tp\n",
    "    numerator = T_s * pr_s\n",
    "    denominator = Ew + T_s * pr_s + T_f * pr_f\n",
    "#     print(T_s * pr_s)\n",
    "#     print(T_rts * Ew, T_s * pr_s, T_f * pr_f)\n",
    "    S = numerator / denominator\n",
    "    return S"
   ]
  },
  {
   "cell_type": "code",
   "execution_count": 125,
   "metadata": {},
   "outputs": [
    {
     "data": {
      "text/plain": [
       "(0.05711502085288688,\n",
       " 0.05711502085288688,\n",
       " 0.05711502085288688,\n",
       " 0.05711502085288688)"
      ]
     },
     "execution_count": 125,
     "metadata": {},
     "output_type": "execute_result"
    }
   ],
   "source": [
    "pi_rts(0, 1), pi_cts(0, 1), pi_data(0, 1), pi_ack(0, 1)"
   ]
  },
  {
   "cell_type": "code",
   "execution_count": 36,
   "metadata": {},
   "outputs": [
    {
     "data": {
      "text/plain": [
       "0.22846008341154753"
      ]
     },
     "execution_count": 36,
     "metadata": {},
     "output_type": "execute_result"
    }
   ],
   "source": [
    "ptr = pi_rts(0, 1) + pi_cts(0, 1) + pi_data(0, 1) + pi_ack(0, 1)\n",
    "ptr"
   ]
  },
  {
   "cell_type": "code",
   "execution_count": 37,
   "metadata": {},
   "outputs": [
    {
     "data": {
      "text/plain": [
       "12.0"
      ]
     },
     "execution_count": 37,
     "metadata": {},
     "output_type": "execute_result"
    }
   ],
   "source": [
    "ptr * Etc(0, 1)"
   ]
  },
  {
   "cell_type": "code",
   "execution_count": 38,
   "metadata": {},
   "outputs": [
    {
     "name": "stdout",
     "output_type": "stream",
     "text": [
      "0.4300976497931889\n",
      "0.018016582508086385 0.009706394853478881 0.009706394853478881 0.009706394853478881 0.04713576706852303\n",
      "1.5179292659028656\n"
     ]
    },
    {
     "ename": "NameError",
     "evalue": "name 'P_s' is not defined",
     "output_type": "error",
     "traceback": [
      "\u001b[1;31m---------------------------------------------------------------------------\u001b[0m",
      "\u001b[1;31mNameError\u001b[0m                                 Traceback (most recent call last)",
      "\u001b[1;32m<ipython-input-38-c77060909e92>\u001b[0m in \u001b[0;36m<module>\u001b[1;34m\u001b[0m\n\u001b[1;32m----> 1\u001b[1;33m \u001b[0mS2\u001b[0m\u001b[1;33m(\u001b[0m\u001b[0mp_array\u001b[0m\u001b[1;33m[\u001b[0m\u001b[1;36m19\u001b[0m\u001b[1;33m]\u001b[0m\u001b[1;33m,\u001b[0m \u001b[0mp_f_array\u001b[0m\u001b[1;33m[\u001b[0m\u001b[1;36m19\u001b[0m\u001b[1;33m]\u001b[0m\u001b[1;33m,\u001b[0m \u001b[1;36m20\u001b[0m\u001b[1;33m)\u001b[0m\u001b[1;33m\u001b[0m\u001b[1;33m\u001b[0m\u001b[0m\n\u001b[0m",
      "\u001b[1;32m<ipython-input-34-9f6cd3793ed3>\u001b[0m in \u001b[0;36mS2\u001b[1;34m(p, p_f, nodes)\u001b[0m\n\u001b[0;32m     16\u001b[0m     \u001b[0mprint\u001b[0m\u001b[1;33m(\u001b[0m\u001b[0mP_nontr\u001b[0m\u001b[1;33m)\u001b[0m\u001b[1;33m\u001b[0m\u001b[1;33m\u001b[0m\u001b[0m\n\u001b[0;32m     17\u001b[0m     \u001b[0mpr_s\u001b[0m \u001b[1;33m=\u001b[0m \u001b[0mpr_success\u001b[0m\u001b[1;33m(\u001b[0m\u001b[0mp\u001b[0m\u001b[1;33m)\u001b[0m\u001b[1;33m\u001b[0m\u001b[1;33m\u001b[0m\u001b[0m\n\u001b[1;32m---> 18\u001b[1;33m     \u001b[0mprint\u001b[0m\u001b[1;33m(\u001b[0m\u001b[0mP_s\u001b[0m\u001b[1;33m,\u001b[0m \u001b[0mpr_s\u001b[0m\u001b[1;33m)\u001b[0m\u001b[1;33m\u001b[0m\u001b[1;33m\u001b[0m\u001b[0m\n\u001b[0m\u001b[0;32m     19\u001b[0m     \u001b[0mEw\u001b[0m \u001b[1;33m=\u001b[0m \u001b[1;36m1\u001b[0m \u001b[1;33m/\u001b[0m \u001b[1;33m(\u001b[0m\u001b[1;36m1\u001b[0m \u001b[1;33m-\u001b[0m \u001b[0mP_tr\u001b[0m\u001b[1;33m)\u001b[0m\u001b[1;33m\u001b[0m\u001b[1;33m\u001b[0m\u001b[0m\n\u001b[0;32m     20\u001b[0m \u001b[1;31m#     Ew = 1 / P_nontr\u001b[0m\u001b[1;33m\u001b[0m\u001b[1;33m\u001b[0m\u001b[1;33m\u001b[0m\u001b[0m\n",
      "\u001b[1;31mNameError\u001b[0m: name 'P_s' is not defined"
     ]
    }
   ],
   "source": [
    "S2(p_array[19], p_f_array[19], 20)"
   ]
  },
  {
   "cell_type": "code",
   "execution_count": 143,
   "metadata": {},
   "outputs": [],
   "source": [
    "sat_analytic = []\n",
    "for i in range(len(p_array)):\n",
    "    sat_analytic.append(S2(p_array[i], p_f_array[i], i+1))"
   ]
  },
  {
   "cell_type": "code",
   "execution_count": 144,
   "metadata": {},
   "outputs": [],
   "source": [
    "sat_aloha = np.array([0.2104248, 0.3575784, 0.4625044, 0.5403576, 0.5982632, 0.643912 ,\n",
    "       0.6787328, 0.7050928, 0.7257056, 0.7405756, 0.7504416, 0.7577156,\n",
    "       0.760588 , 0.7617796, 0.7606672, 0.75634  , 0.75155  , 0.743706 ,\n",
    "       0.7345156, 0.725766 , 0.7156652, 0.703044 , 0.6916032, 0.6784316,\n",
    "       0.6661048, 0.651482 , 0.637232 , 0.622544 , 0.608732 , 0.5939332,\n",
    "       0.577594 , 0.5628964, 0.548042 , 0.5323976, 0.5179232, 0.502466 ,\n",
    "       0.4871036, 0.4730412, 0.4583936, 0.4444448, 0.4303692, 0.4159196,\n",
    "       0.401668 , 0.3891508, 0.3754112, 0.36306  , 0.3505472, 0.338016 ,\n",
    "       0.3263124, 0.3146024, 0.302784 , 0.2920208, 0.2808512, 0.2700528,\n",
    "       0.2609312, 0.2507552, 0.240936 , 0.2320256, 0.2226832, 0.2137888,\n",
    "       0.205192 , 0.1967856, 0.1893056, 0.1818352, 0.1741392, 0.1670224,\n",
    "       0.1605184, 0.1532352, 0.148168 , 0.140848 , 0.135168 , 0.12916  ,\n",
    "       0.1244704, 0.1182528, 0.1127856, 0.1089792, 0.1045152, 0.0994048,\n",
    "       0.0954432, 0.0910976])"
   ]
  },
  {
   "cell_type": "code",
   "execution_count": 145,
   "metadata": {},
   "outputs": [
    {
     "data": {
      "image/png": "[encoded data removed]",
      "text/plain": [
       "<Figure size 900x600 with 1 Axes>"
      ]
     },
     "metadata": {
      "needs_background": "light"
     },
     "output_type": "display_data"
    }
   ],
   "source": [
    "plt.figure(dpi=150)\n",
    "# plt.plot(np.arange(1, 51), dataold, label='old')\n",
    "plt.plot(np.arange(1, 81), sat_aloha, label='ALOHA')\n",
    "plt.plot(np.arange(1, 81), saturation_sim, label='CSMA/CA')\n",
    "plt.plot(np.arange(1, 81), sat_analytic, label='CSMA/CA')\n",
    "# plt.plot(np.arange(1, 31), p3, label='analytic Emil')\n",
    "plt.xlabel('Number of nodes')\n",
    "plt.ylabel(data[0][10])\n",
    "plt.grid(alpha=0.2)\n",
    "plt.legend(loc=5)\n",
    "plt.show()"
   ]
  },
  {
   "cell_type": "code",
   "execution_count": 129,
   "metadata": {},
   "outputs": [],
   "source": [
    "ps_analytic = []\n",
    "for i in range(len(p_array)):\n",
    "    ps_analytic.append(pr_success(p_array[i]))\n",
    "ps_analytic = np.array(ps_analytic)\n",
    "\n",
    "ps_analytic2 = []\n",
    "for i in range(len(p_array2)):\n",
    "    ps_analytic2.append(pr_success(p_array2[i]))\n",
    "ps_analytic2 = np.array(ps_analytic2)\n"
   ]
  },
  {
   "cell_type": "code",
   "execution_count": 109,
   "metadata": {},
   "outputs": [
    {
     "data": {
      "image/png": "[encoded data removed]",
      "text/plain": [
       "<Figure size 900x600 with 1 Axes>"
      ]
     },
     "metadata": {
      "needs_background": "light"
     },
     "output_type": "display_data"
    }
   ],
   "source": [
    "plt.figure(dpi=150)\n",
    "plt.plot(np.arange(1, 81)[:50], p_success_sim[:50], label='simulator')\n",
    "plt.plot(np.arange(1, 81)[:50], ps_analytic[:50], label='analytic')\n",
    "plt.plot(np.arange(1, 81)[:50], ps_analytic2[:50], label='analytic')\n",
    "plt.xlabel('Number of nodes')\n",
    "plt.ylabel(data[0][3])\n",
    "plt.grid(alpha=0.2)\n",
    "plt.legend()\n",
    "plt.show()"
   ]
  },
  {
   "cell_type": "code",
   "execution_count": 110,
   "metadata": {},
   "outputs": [
    {
     "data": {
      "image/png": "[encoded data removed]",
      "text/plain": [
       "<Figure size 900x600 with 1 Axes>"
      ]
     },
     "metadata": {
      "needs_background": "light"
     },
     "output_type": "display_data"
    }
   ],
   "source": [
    "plt.figure(dpi=150)\n",
    "plt.plot(np.arange(1, 81), p_success_sim, label='simulator')\n",
    "plt.plot(np.arange(1, 81), ps_analytic, label='analytic')\n",
    "plt.plot(np.arange(1, 81), ps_analytic2, label='analytic')\n",
    "plt.xlabel('Number of nodes')\n",
    "plt.ylabel(data[0][3])\n",
    "plt.grid(alpha=0.2)\n",
    "plt.legend()\n",
    "plt.show()"
   ]
  },
  {
   "cell_type": "code",
   "execution_count": 62,
   "metadata": {},
   "outputs": [
    {
     "data": {
      "text/plain": [
       "0.014016883518290507"
      ]
     },
     "execution_count": 62,
     "metadata": {},
     "output_type": "execute_result"
    }
   ],
   "source": [
    "np.max(np.fabs(p_success_sim - ps_analytic) / ps_analytic)"
   ]
  },
  {
   "cell_type": "code",
   "execution_count": 929,
   "metadata": {},
   "outputs": [],
   "source": [
    "nodes_distrib = []\n",
    "b = 0\n",
    "rang = np.arange(50, 81)\n",
    "ma = np.sum(rang) / 6\n",
    "for i in range(len(rang)):\n",
    "    b += rang[i]\n",
    "    if b >= ma:\n",
    "        nodes_distrib.append(rang[i])\n",
    "        b = 0"
   ]
  },
  {
   "cell_type": "code",
   "execution_count": 334,
   "metadata": {},
   "outputs": [
    {
     "data": {
      "text/plain": [
       "335.8333333333333"
      ]
     },
     "execution_count": 334,
     "metadata": {},
     "output_type": "execute_result"
    }
   ],
   "source": [
    "ma"
   ]
  },
  {
   "cell_type": "code",
   "execution_count": 288,
   "metadata": {},
   "outputs": [
    {
     "data": {
      "text/plain": [
       "[56, 62, 68, 73, 78]"
      ]
     },
     "execution_count": 288,
     "metadata": {},
     "output_type": "execute_result"
    }
   ],
   "source": [
    "nodes_distrib"
   ]
  },
  {
   "cell_type": "code",
   "execution_count": 397,
   "metadata": {},
   "outputs": [],
   "source": [
    "nodes_distrib = [[51, 56], [57, 62], [63, 67], [68, 72], [73, 76], [77, 80]]"
   ]
  },
  {
   "cell_type": "code",
   "execution_count": 398,
   "metadata": {},
   "outputs": [
    {
     "data": {
      "text/plain": [
       "[[51, 52, 53, 54, 55, 56],\n",
       " [57, 58, 59, 60, 61, 62],\n",
       " [63, 64, 65, 66, 67],\n",
       " [68, 69, 70, 71, 72],\n",
       " [73, 74, 75, 76],\n",
       " [77, 78, 79, 80]]"
      ]
     },
     "execution_count": 398,
     "metadata": {},
     "output_type": "execute_result"
    }
   ],
   "source": [
    "[list(range(i, j+1)) for i, j in nodes_distrib]"
   ]
  },
  {
   "cell_type": "code",
   "execution_count": 399,
   "metadata": {},
   "outputs": [
    {
     "data": {
      "text/plain": [
       "327.5"
      ]
     },
     "execution_count": 399,
     "metadata": {},
     "output_type": "execute_result"
    }
   ],
   "source": [
    "ma = np.mean([sum(range(i, j+1)) for i, j in nodes_distrib])\n",
    "ma"
   ]
  },
  {
   "cell_type": "code",
   "execution_count": 400,
   "metadata": {},
   "outputs": [
    {
     "data": {
      "text/plain": [
       "[321, 357, 325, 350, 298, 314]"
      ]
     },
     "execution_count": 400,
     "metadata": {},
     "output_type": "execute_result"
    }
   ],
   "source": [
    "[sum(range(i, j+1)) for i, j in nodes_distrib]"
   ]
  },
  {
   "cell_type": "code",
   "execution_count": 401,
   "metadata": {},
   "outputs": [
    {
     "data": {
      "text/plain": [
       "[6.5, 29.5, 2.5, 22.5, 29.5, 13.5]"
      ]
     },
     "execution_count": 401,
     "metadata": {},
     "output_type": "execute_result"
    }
   ],
   "source": [
    "[abs(sum(range(i, j + 1)) - ma) for i, j in nodes_distrib]"
   ]
  },
  {
   "cell_type": "code",
   "execution_count": 319,
   "metadata": {},
   "outputs": [
    {
     "data": {
      "text/plain": [
       "20.833333333333314"
      ]
     },
     "execution_count": 319,
     "metadata": {},
     "output_type": "execute_result"
    }
   ],
   "source": [
    "abs(np.sum(np.arange(50, 55 + 1)) - ma)"
   ]
  },
  {
   "cell_type": "code",
   "execution_count": 320,
   "metadata": {},
   "outputs": [
    {
     "data": {
      "text/plain": [
       "15.166666666666686"
      ]
     },
     "execution_count": 320,
     "metadata": {},
     "output_type": "execute_result"
    }
   ],
   "source": [
    "abs(np.sum(np.arange(56, 61 + 1)) - ma)"
   ]
  },
  {
   "cell_type": "code",
   "execution_count": 321,
   "metadata": {},
   "outputs": [
    {
     "data": {
      "text/plain": [
       "15.833333333333314"
      ]
     },
     "execution_count": 321,
     "metadata": {},
     "output_type": "execute_result"
    }
   ],
   "source": [
    "abs(np.sum(np.arange(62, 66 + 1)) - ma)"
   ]
  },
  {
   "cell_type": "code",
   "execution_count": 322,
   "metadata": {},
   "outputs": [
    {
     "data": {
      "text/plain": [
       "9.166666666666686"
      ]
     },
     "execution_count": 322,
     "metadata": {},
     "output_type": "execute_result"
    }
   ],
   "source": [
    "abs(np.sum(np.arange(67, 71 + 1)) - ma)"
   ]
  },
  {
   "cell_type": "code",
   "execution_count": 323,
   "metadata": {},
   "outputs": [
    {
     "data": {
      "text/plain": [
       "34.166666666666686"
      ]
     },
     "execution_count": 323,
     "metadata": {},
     "output_type": "execute_result"
    }
   ],
   "source": [
    "abs(np.sum(np.arange(72, 76 + 1)) - ma)"
   ]
  },
  {
   "cell_type": "code",
   "execution_count": 324,
   "metadata": {},
   "outputs": [
    {
     "data": {
      "text/plain": [
       "21.833333333333314"
      ]
     },
     "execution_count": 324,
     "metadata": {},
     "output_type": "execute_result"
    }
   ],
   "source": [
    "abs(np.sum(np.arange(77, 80 + 1)) - ma)"
   ]
  },
  {
   "cell_type": "code",
   "execution_count": null,
   "metadata": {},
   "outputs": [],
   "source": []
  }
 ],
 "metadata": {
  "kernelspec": {
   "display_name": "Python 3 (ipykernel)",
   "language": "python",
   "name": "python3"
  },
  "language_info": {
   "codemirror_mode": {
    "name": "ipython",
    "version": 3
   },
   "file_extension": ".py",
   "mimetype": "text/x-python",
   "name": "python",
   "nbconvert_exporter": "python",
   "pygments_lexer": "ipython3",
   "version": "3.8.10"
  }
 },
 "nbformat": 4,
 "nbformat_minor": 2
}
